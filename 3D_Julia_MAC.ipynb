{
 "cells": [
  {
   "cell_type": "markdown",
   "metadata": {},
   "source": [
    "# 3D Deconvolution Benchmark: Julia"
   ]
  },
  {
   "cell_type": "markdown",
   "metadata": {},
   "source": [
    "---\n",
    "## Setup"
   ]
  },
  {
   "cell_type": "code",
   "execution_count": 9,
   "metadata": {},
   "outputs": [],
   "source": [
    "using DeconvOptim, Images, FFTW, Noise, ImageView, BenchmarkTools"
   ]
  },
  {
   "cell_type": "markdown",
   "metadata": {},
   "source": [
    "---\n",
    "## Test Image\n",
    "\n"
   ]
  },
  {
   "cell_type": "code",
   "execution_count": 10,
   "metadata": {},
   "outputs": [],
   "source": [
    "img = convert(Array{Float32}, channelview(load(\"simple_3d_ball.tif\")));"
   ]
  },
  {
   "cell_type": "code",
   "execution_count": 11,
   "metadata": {},
   "outputs": [],
   "source": [
    "psf = ifftshift(convert(Array{Float32}, channelview(load(\"simple_3d_psf.tif\"))));"
   ]
  },
  {
   "cell_type": "code",
   "execution_count": 7,
   "metadata": {},
   "outputs": [],
   "source": [
    "# psf ./= sum(psf)\n",
    "# # create a blurred, noisy version of that image\n",
    "# img_b = conv(img, psf, [1, 2, 3])\n",
    "# img_n = poisson(img_b, 300);\n",
    "# save(\"simple_3d_ball_blurred.tif\", img_n)"
   ]
  },
  {
   "cell_type": "code",
   "execution_count": 12,
   "metadata": {},
   "outputs": [],
   "source": [
    "img_n = convert(Array{Float32}, channelview(load(\"simple_3d_ball_blurred.tif\")));"
   ]
  },
  {
   "cell_type": "code",
   "execution_count": 13,
   "metadata": {},
   "outputs": [],
   "source": [
    "reg = TV(num_dims=3, sum_dims=[1, 2, 3]);"
   ]
  },
  {
   "cell_type": "code",
   "execution_count": 14,
   "metadata": {},
   "outputs": [],
   "source": [
    "res2, ores = deconvolution(img_n, psf, regularizer=reg, loss=Poisson(),\n",
    "                          λ=0.05, padding=0, iterations=10);"
   ]
  },
  {
   "cell_type": "code",
   "execution_count": 15,
   "metadata": {},
   "outputs": [
    {
     "data": {
      "text/plain": [
       "BenchmarkTools.Trial: 100 samples with 1 evaluation.\n",
       " Range \u001b[90m(\u001b[39m\u001b[36m\u001b[1mmin\u001b[22m\u001b[39m … \u001b[35mmax\u001b[39m\u001b[90m):  \u001b[39m\u001b[36m\u001b[1m 79.100 ms\u001b[22m\u001b[39m … \u001b[35m234.098 ms\u001b[39m  \u001b[90m┊\u001b[39m GC \u001b[90m(\u001b[39mmin … max\u001b[90m): \u001b[39m 0.57% … 62.93%\n",
       " Time  \u001b[90m(\u001b[39m\u001b[34m\u001b[1mmedian\u001b[22m\u001b[39m\u001b[90m):     \u001b[39m\u001b[34m\u001b[1m 85.764 ms               \u001b[22m\u001b[39m\u001b[90m┊\u001b[39m GC \u001b[90m(\u001b[39mmedian\u001b[90m):    \u001b[39m 2.56%\n",
       " Time  \u001b[90m(\u001b[39m\u001b[32m\u001b[1mmean\u001b[22m\u001b[39m ± \u001b[32mσ\u001b[39m\u001b[90m):   \u001b[39m\u001b[32m\u001b[1m111.198 ms\u001b[22m\u001b[39m ± \u001b[32m 51.809 ms\u001b[39m  \u001b[90m┊\u001b[39m GC \u001b[90m(\u001b[39mmean ± σ\u001b[90m):  \u001b[39m26.24% ± 23.02%\n",
       "\n",
       "  \u001b[39m▁\u001b[39m█\u001b[39m \u001b[34m \u001b[39m\u001b[39m \u001b[39m \u001b[39m \u001b[39m \u001b[39m \u001b[39m \u001b[39m \u001b[39m \u001b[39m \u001b[32m \u001b[39m\u001b[39m \u001b[39m \u001b[39m \u001b[39m \u001b[39m \u001b[39m \u001b[39m \u001b[39m \u001b[39m \u001b[39m \u001b[39m \u001b[39m \u001b[39m \u001b[39m \u001b[39m \u001b[39m \u001b[39m \u001b[39m \u001b[39m \u001b[39m \u001b[39m \u001b[39m \u001b[39m \u001b[39m \u001b[39m \u001b[39m \u001b[39m \u001b[39m \u001b[39m \u001b[39m \u001b[39m \u001b[39m \u001b[39m \u001b[39m \u001b[39m \u001b[39m \u001b[39m \u001b[39m \u001b[39m \u001b[39m \u001b[39m \u001b[39m \u001b[39m \u001b[39m \u001b[39m \u001b[39m \u001b[39m \u001b[39m \u001b[39m \n",
       "  \u001b[39m█\u001b[39m█\u001b[39m█\u001b[34m▅\u001b[39m\u001b[39m▄\u001b[39m▆\u001b[39m▅\u001b[39m▅\u001b[39m▃\u001b[39m▁\u001b[39m▁\u001b[39m▁\u001b[39m▁\u001b[32m▁\u001b[39m\u001b[39m▁\u001b[39m▁\u001b[39m▁\u001b[39m▁\u001b[39m▁\u001b[39m▁\u001b[39m▁\u001b[39m▁\u001b[39m▁\u001b[39m▁\u001b[39m▁\u001b[39m▁\u001b[39m▁\u001b[39m▁\u001b[39m▁\u001b[39m▁\u001b[39m▁\u001b[39m▁\u001b[39m▁\u001b[39m▁\u001b[39m▁\u001b[39m▁\u001b[39m▁\u001b[39m▁\u001b[39m▁\u001b[39m▁\u001b[39m▁\u001b[39m▁\u001b[39m▁\u001b[39m▁\u001b[39m▁\u001b[39m▁\u001b[39m▁\u001b[39m▁\u001b[39m▁\u001b[39m▁\u001b[39m▁\u001b[39m▁\u001b[39m▁\u001b[39m▁\u001b[39m▄\u001b[39m▄\u001b[39m▃\u001b[39m▄\u001b[39m▄\u001b[39m▃\u001b[39m▃\u001b[39m \u001b[39m▃\n",
       "  79.1 ms\u001b[90m          Histogram: frequency by time\u001b[39m          225 ms \u001b[0m\u001b[1m<\u001b[22m\n",
       "\n",
       " Memory estimate\u001b[90m: \u001b[39m\u001b[33m147.59 MiB\u001b[39m, allocs estimate\u001b[90m: \u001b[39m\u001b[33m2671\u001b[39m."
      ]
     },
     "metadata": {},
     "output_type": "display_data"
    }
   ],
   "source": [
    "@benchmark deconvolution(img_n, psf, regularizer=reg, loss=Poisson(), λ=0.05, padding=0, iterations=10)  samples=100 evals=1 seconds=60"
   ]
  },
  {
   "cell_type": "code",
   "execution_count": 16,
   "metadata": {},
   "outputs": [],
   "source": [
    "res, ores = deconvolution(img_n, psf, regularizer=nothing, iterations=10);"
   ]
  },
  {
   "cell_type": "code",
   "execution_count": 17,
   "metadata": {},
   "outputs": [
    {
     "data": {
      "text/plain": [
       "BenchmarkTools.Trial: 100 samples with 1 evaluation.\n",
       " Range \u001b[90m(\u001b[39m\u001b[36m\u001b[1mmin\u001b[22m\u001b[39m … \u001b[35mmax\u001b[39m\u001b[90m):  \u001b[39m\u001b[36m\u001b[1m71.765 ms\u001b[22m\u001b[39m … \u001b[35m209.148 ms\u001b[39m  \u001b[90m┊\u001b[39m GC \u001b[90m(\u001b[39mmin … max\u001b[90m): \u001b[39m0.31% … 64.26%\n",
       " Time  \u001b[90m(\u001b[39m\u001b[34m\u001b[1mmedian\u001b[22m\u001b[39m\u001b[90m):     \u001b[39m\u001b[34m\u001b[1m74.766 ms               \u001b[22m\u001b[39m\u001b[90m┊\u001b[39m GC \u001b[90m(\u001b[39mmedian\u001b[90m):    \u001b[39m1.55%\n",
       " Time  \u001b[90m(\u001b[39m\u001b[32m\u001b[1mmean\u001b[22m\u001b[39m ± \u001b[32mσ\u001b[39m\u001b[90m):   \u001b[39m\u001b[32m\u001b[1m78.941 ms\u001b[22m\u001b[39m ± \u001b[32m 22.843 ms\u001b[39m  \u001b[90m┊\u001b[39m GC \u001b[90m(\u001b[39mmean ± σ\u001b[90m):  \u001b[39m7.09% ± 11.04%\n",
       "\n",
       "  \u001b[39m▇\u001b[34m█\u001b[39m\u001b[39m▂\u001b[32m \u001b[39m\u001b[39m \u001b[39m \u001b[39m \u001b[39m \u001b[39m \u001b[39m \u001b[39m \u001b[39m \u001b[39m \u001b[39m \u001b[39m \u001b[39m \u001b[39m \u001b[39m \u001b[39m \u001b[39m \u001b[39m \u001b[39m \u001b[39m \u001b[39m \u001b[39m \u001b[39m \u001b[39m \u001b[39m \u001b[39m \u001b[39m \u001b[39m \u001b[39m \u001b[39m \u001b[39m \u001b[39m \u001b[39m \u001b[39m \u001b[39m \u001b[39m \u001b[39m \u001b[39m \u001b[39m \u001b[39m \u001b[39m \u001b[39m \u001b[39m \u001b[39m \u001b[39m \u001b[39m \u001b[39m \u001b[39m \u001b[39m \u001b[39m \u001b[39m \u001b[39m \u001b[39m \u001b[39m \u001b[39m \u001b[39m \u001b[39m \u001b[39m \u001b[39m \n",
       "  \u001b[39m█\u001b[34m█\u001b[39m\u001b[39m█\u001b[32m▁\u001b[39m\u001b[39m▁\u001b[39m▅\u001b[39m▆\u001b[39m▁\u001b[39m▁\u001b[39m▅\u001b[39m▁\u001b[39m▁\u001b[39m▁\u001b[39m▁\u001b[39m▁\u001b[39m▁\u001b[39m▁\u001b[39m▁\u001b[39m▁\u001b[39m▁\u001b[39m▁\u001b[39m▁\u001b[39m▁\u001b[39m▁\u001b[39m▁\u001b[39m▁\u001b[39m▁\u001b[39m▁\u001b[39m▁\u001b[39m▁\u001b[39m▁\u001b[39m▁\u001b[39m▁\u001b[39m▁\u001b[39m▁\u001b[39m▁\u001b[39m▁\u001b[39m▁\u001b[39m▁\u001b[39m▁\u001b[39m▁\u001b[39m▁\u001b[39m▁\u001b[39m▁\u001b[39m▁\u001b[39m▁\u001b[39m▁\u001b[39m▁\u001b[39m▁\u001b[39m▁\u001b[39m▁\u001b[39m▁\u001b[39m▁\u001b[39m▁\u001b[39m▁\u001b[39m▁\u001b[39m▁\u001b[39m▁\u001b[39m▁\u001b[39m▆\u001b[39m \u001b[39m▅\n",
       "  71.8 ms\u001b[90m       \u001b[39m\u001b[90mHistogram: \u001b[39m\u001b[90m\u001b[1mlog(\u001b[22m\u001b[39m\u001b[90mfrequency\u001b[39m\u001b[90m\u001b[1m)\u001b[22m\u001b[39m\u001b[90m by time\u001b[39m       206 ms \u001b[0m\u001b[1m<\u001b[22m\n",
       "\n",
       " Memory estimate\u001b[90m: \u001b[39m\u001b[33m93.57 MiB\u001b[39m, allocs estimate\u001b[90m: \u001b[39m\u001b[33m2207\u001b[39m."
      ]
     },
     "metadata": {},
     "output_type": "display_data"
    }
   ],
   "source": [
    "@benchmark deconvolution(img_n, psf, regularizer=nothing, iterations=10) samples=100 evals=1 seconds=60"
   ]
  },
  {
   "cell_type": "code",
   "execution_count": 18,
   "metadata": {},
   "outputs": [
    {
     "data": {
      "image/png": "[encoded data removed]",
      "text/html": [
       "<img src=\"data:image/png;base64,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\">"
      ],
      "text/plain": [
       "128×256 reinterpret(reshape, Gray{Float32}, ::Matrix{Float32}) with eltype Gray{Float32}:\n",
       " Gray{Float32}(0.0)  Gray{Float32}(0.0)  …  Gray{Float32}(0.0)\n",
       " Gray{Float32}(0.0)  Gray{Float32}(0.0)     Gray{Float32}(0.0)\n",
       " Gray{Float32}(0.0)  Gray{Float32}(0.0)     Gray{Float32}(0.0)\n",
       " Gray{Float32}(0.0)  Gray{Float32}(0.0)     Gray{Float32}(0.0)\n",
       " Gray{Float32}(0.0)  Gray{Float32}(0.0)     Gray{Float32}(0.0)\n",
       " Gray{Float32}(0.0)  Gray{Float32}(0.0)  …  Gray{Float32}(0.0)\n",
       " Gray{Float32}(0.0)  Gray{Float32}(0.0)     Gray{Float32}(0.0)\n",
       " Gray{Float32}(0.0)  Gray{Float32}(0.0)     Gray{Float32}(0.0)\n",
       " Gray{Float32}(0.0)  Gray{Float32}(0.0)     Gray{Float32}(0.0)\n",
       " Gray{Float32}(0.0)  Gray{Float32}(0.0)     Gray{Float32}(0.0)\n",
       " ⋮                                       ⋱  ⋮\n",
       " Gray{Float32}(0.0)  Gray{Float32}(0.0)     Gray{Float32}(0.0)\n",
       " Gray{Float32}(0.0)  Gray{Float32}(0.0)  …  Gray{Float32}(0.0)\n",
       " Gray{Float32}(0.0)  Gray{Float32}(0.0)     Gray{Float32}(0.0)\n",
       " Gray{Float32}(0.0)  Gray{Float32}(0.0)     Gray{Float32}(0.0)\n",
       " Gray{Float32}(0.0)  Gray{Float32}(0.0)     Gray{Float32}(0.0)\n",
       " Gray{Float32}(0.0)  Gray{Float32}(0.0)     Gray{Float32}(0.0)\n",
       " Gray{Float32}(0.0)  Gray{Float32}(0.0)  …  Gray{Float32}(0.0)\n",
       " Gray{Float32}(0.0)  Gray{Float32}(0.0)     Gray{Float32}(0.0)\n",
       " Gray{Float32}(0.0)  Gray{Float32}(0.0)     Gray{Float32}(0.0)"
      ]
     },
     "metadata": {},
     "output_type": "display_data"
    }
   ],
   "source": [
    "img_comb1 = [img[:, : ,32] res2[:, :, 32] res[:, :, 32] img_n[:, :, 32]]\n",
    "img_comb2 = [img[:, : ,38] res2[:, :, 38] res[:, :, 38] img_n[:, :, 38]]\n",
    "\n",
    "img_comb = cat(img_comb1, img_comb2, dims=1)\n",
    "img_comb ./= maximum(img_comb)\n",
    "\n",
    "# imshow([img[:, :, 20:end] res2[:, :, 20:end] res[:, :, 20:end] img_n[:, :, 20:end]])\n",
    "colorview(Gray, img_comb)"
   ]
  },
  {
   "cell_type": "markdown",
   "metadata": {},
   "source": [
    "---\n",
    "## Cell 3D"
   ]
  },
  {
   "cell_type": "code",
   "execution_count": 24,
   "metadata": {},
   "outputs": [],
   "source": [
    "cell = convert(Array{Float32}, channelview(load(\"cells3d_convolved.tiff\")));"
   ]
  },
  {
   "cell_type": "code",
   "execution_count": 25,
   "metadata": {},
   "outputs": [],
   "source": [
    "cell_psf = convert(Array{Float32}, channelview(load(\"cells3d_psf.tiff\")));"
   ]
  },
  {
   "cell_type": "code",
   "execution_count": 26,
   "metadata": {},
   "outputs": [],
   "source": [
    "cell /= maximum(cell);\n",
    "cell_psf /= maximum(cell_psf);"
   ]
  },
  {
   "cell_type": "code",
   "execution_count": 27,
   "metadata": {},
   "outputs": [
    {
     "data": {
      "image/png": "[encoded data removed]",
      "text/html": [
       "<img src=\"data:image/png;base64,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\">"
      ],
      "text/plain": [
       "71×71 reinterpret(reshape, Gray{Float32}, ::Matrix{Float32}) with eltype Gray{Float32}:\n",
       " Gray{Float32}(0.164282)  Gray{Float32}(0.163249)  …  Gray{Float32}(0.210487)\n",
       " Gray{Float32}(0.167122)  Gray{Float32}(0.1662)       Gray{Float32}(0.207231)\n",
       " Gray{Float32}(0.171882)  Gray{Float32}(0.171079)     Gray{Float32}(0.202988)\n",
       " Gray{Float32}(0.177531)  Gray{Float32}(0.176712)     Gray{Float32}(0.200101)\n",
       " Gray{Float32}(0.183482)  Gray{Float32}(0.182443)     Gray{Float32}(0.198996)\n",
       " Gray{Float32}(0.189344)  Gray{Float32}(0.187946)  …  Gray{Float32}(0.198268)\n",
       " Gray{Float32}(0.194515)  Gray{Float32}(0.192777)     Gray{Float32}(0.19638)\n",
       " Gray{Float32}(0.198362)  Gray{Float32}(0.196438)     Gray{Float32}(0.193092)\n",
       " Gray{Float32}(0.200772)  Gray{Float32}(0.198832)     Gray{Float32}(0.18932)\n",
       " Gray{Float32}(0.202273)  Gray{Float32}(0.200411)     Gray{Float32}(0.185919)\n",
       " ⋮                                                 ⋱  ⋮\n",
       " Gray{Float32}(0.190157)  Gray{Float32}(0.1895)       Gray{Float32}(0.194881)\n",
       " Gray{Float32}(0.189356)  Gray{Float32}(0.188436)     Gray{Float32}(0.205005)\n",
       " Gray{Float32}(0.188477)  Gray{Float32}(0.187476)     Gray{Float32}(0.22326)\n",
       " Gray{Float32}(0.187755)  Gray{Float32}(0.186829)  …  Gray{Float32}(0.255284)\n",
       " Gray{Float32}(0.187759)  Gray{Float32}(0.186945)     Gray{Float32}(0.306063)\n",
       " Gray{Float32}(0.188859)  Gray{Float32}(0.188078)     Gray{Float32}(0.375837)\n",
       " Gray{Float32}(0.190907)  Gray{Float32}(0.190032)     Gray{Float32}(0.455879)\n",
       " Gray{Float32}(0.193203)  Gray{Float32}(0.192154)     Gray{Float32}(0.528176)\n",
       " Gray{Float32}(0.194739)  Gray{Float32}(0.193551)  …  Gray{Float32}(0.571523)"
      ]
     },
     "metadata": {},
     "output_type": "display_data"
    }
   ],
   "source": [
    "colorview(Gray, cell[:,:,30])"
   ]
  },
  {
   "cell_type": "code",
   "execution_count": 28,
   "metadata": {},
   "outputs": [
    {
     "data": {
      "image/png": "[encoded data removed]",
      "text/html": [
       "<img src=\"data:image/png;base64,iVBORw0KGgoAAAANSUhEUgAAAI4AAACOCAAAAADClm/UAAAABGdBTUEAALGPC/xhBQAAAAFzUkdCAK7OHOkAAAAgY0hSTQAAeiYAAICEAAD6AAAAgOgAAHUwAADqYAAAOpgAABdwnLpRPAAAAcdJREFUeAHNwUFKI1EABcDq5EUwqwEXARdzgGHuMPe/gEcQggpuTDAx/ecO3Vm8qqgSVaJKVIkqUSWqRJWoElWiSlSJKlElqkSVqBJVokpUiSpRJapElagSVaJKVIkqUSWqRJWoElWiSlSJKlElqkSVqBJVokpUiSpRJapElagSVaJKVIkqUSWqRJW4i8lwD1ElVppMmAwMwzpRJVbZ2Njamgw3N7PZGlElVtjYerD3aOfq7OSC2XJRJRabbDz45eBg7+To6NO3YVgqqsRik629g7/+ePLhBRc/ZsNSUSVW2Hp08Mc/z17x5t2Xq+WiSiw0mUx29p48+40nezuTyWRYJqrEQsMwXJ18eMWrDydXwzAsFVVihZuzoxc8+fDi6OxmjagSiw03J0e82Ts5Ojq5GZaLKrHYMLv4dPFu5+rs5GI2LBdVYoUZ3358mQw3N7PZGlElVpkNs6vJwDCsE1VipWFgMtxDVIm7GO4jqkSVqBJVokpUiSpRJapElagSVaJKVIkqUSWqRJWoElWiSlSJKlElqkSVqBJVokpUiSpRJapElagSVaJKVIkqUSWqRJWoElWiSlSJKlElqkSVqBJVokpUiSr/AQA2ZEZgpjD6AAAAAElFTkSuQmCC\">"
      ],
      "text/plain": [
       "71×71 reinterpret(reshape, Gray{Float32}, ::Matrix{Float32}) with eltype Gray{Float32}:\n",
       " Gray{Float32}(0.0)  Gray{Float32}(0.0)  …  Gray{Float32}(0.0)\n",
       " Gray{Float32}(0.0)  Gray{Float32}(0.0)     Gray{Float32}(0.0)\n",
       " Gray{Float32}(0.0)  Gray{Float32}(0.0)     Gray{Float32}(0.0)\n",
       " Gray{Float32}(0.0)  Gray{Float32}(0.0)     Gray{Float32}(0.0)\n",
       " Gray{Float32}(0.0)  Gray{Float32}(0.0)     Gray{Float32}(0.0)\n",
       " Gray{Float32}(0.0)  Gray{Float32}(0.0)  …  Gray{Float32}(0.0)\n",
       " Gray{Float32}(0.0)  Gray{Float32}(0.0)     Gray{Float32}(0.0)\n",
       " Gray{Float32}(0.0)  Gray{Float32}(0.0)     Gray{Float32}(0.0)\n",
       " Gray{Float32}(0.0)  Gray{Float32}(0.0)     Gray{Float32}(0.0)\n",
       " Gray{Float32}(0.0)  Gray{Float32}(0.0)     Gray{Float32}(0.0)\n",
       " ⋮                                       ⋱  ⋮\n",
       " Gray{Float32}(0.0)  Gray{Float32}(0.0)     Gray{Float32}(0.0)\n",
       " Gray{Float32}(0.0)  Gray{Float32}(0.0)     Gray{Float32}(0.0)\n",
       " Gray{Float32}(0.0)  Gray{Float32}(0.0)     Gray{Float32}(0.0)\n",
       " Gray{Float32}(0.0)  Gray{Float32}(0.0)  …  Gray{Float32}(0.0)\n",
       " Gray{Float32}(0.0)  Gray{Float32}(0.0)     Gray{Float32}(0.0)\n",
       " Gray{Float32}(0.0)  Gray{Float32}(0.0)     Gray{Float32}(0.0)\n",
       " Gray{Float32}(0.0)  Gray{Float32}(0.0)     Gray{Float32}(0.0)\n",
       " Gray{Float32}(0.0)  Gray{Float32}(0.0)     Gray{Float32}(0.0)\n",
       " Gray{Float32}(0.0)  Gray{Float32}(0.0)  …  Gray{Float32}(0.0)"
      ]
     },
     "metadata": {},
     "output_type": "display_data"
    }
   ],
   "source": [
    "colorview(Gray, cell_psf[:,:,30])"
   ]
  },
  {
   "cell_type": "code",
   "execution_count": 29,
   "metadata": {},
   "outputs": [],
   "source": [
    "cell_res, cell_ores = deconvolution(cell, ifftshift(cell_psf), regularizer=nothing, iterations=10);"
   ]
  },
  {
   "cell_type": "code",
   "execution_count": 30,
   "metadata": {},
   "outputs": [
    {
     "data": {
      "image/png": "[encoded data removed]",
      "text/html": [
       "<img src=\"data:image/png;base64,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\">"
      ],
      "text/plain": [
       "71×71 reinterpret(reshape, Gray{Float32}, ::Matrix{Float32}) with eltype Gray{Float32}:\n",
       " Gray{Float32}(0.0610756)  …  Gray{Float32}(0.129124)\n",
       " Gray{Float32}(0.0434537)     Gray{Float32}(0.0602054)\n",
       " Gray{Float32}(0.057742)      Gray{Float32}(0.0615704)\n",
       " Gray{Float32}(0.101391)      Gray{Float32}(0.102881)\n",
       " Gray{Float32}(0.152504)      Gray{Float32}(0.158808)\n",
       " Gray{Float32}(0.170783)   …  Gray{Float32}(0.180292)\n",
       " Gray{Float32}(0.155669)      Gray{Float32}(0.16063)\n",
       " Gray{Float32}(0.136242)      Gray{Float32}(0.133673)\n",
       " Gray{Float32}(0.128356)      Gray{Float32}(0.119116)\n",
       " Gray{Float32}(0.13195)       Gray{Float32}(0.117221)\n",
       " ⋮                         ⋱  ⋮\n",
       " Gray{Float32}(0.144732)      Gray{Float32}(0.150876)\n",
       " Gray{Float32}(0.133238)      Gray{Float32}(0.144885)\n",
       " Gray{Float32}(0.106642)      Gray{Float32}(0.126261)\n",
       " Gray{Float32}(0.0815837)  …  Gray{Float32}(0.115671)\n",
       " Gray{Float32}(0.0741677)     Gray{Float32}(0.141562)\n",
       " Gray{Float32}(0.0943778)     Gray{Float32}(0.249951)\n",
       " Gray{Float32}(0.141055)      Gray{Float32}(0.465174)\n",
       " Gray{Float32}(0.163458)      Gray{Float32}(0.56298)\n",
       " Gray{Float32}(0.11549)    …  Gray{Float32}(0.342389)"
      ]
     },
     "metadata": {},
     "output_type": "display_data"
    }
   ],
   "source": [
    "colorview(Gray, cell_res[:,:,30]/maximum(cell_res[:,:,30]))"
   ]
  },
  {
   "cell_type": "code",
   "execution_count": 31,
   "metadata": {},
   "outputs": [
    {
     "data": {
      "text/plain": [
       "BenchmarkTools.Trial: 100 samples with 1 evaluation.\n",
       " Range \u001b[90m(\u001b[39m\u001b[36m\u001b[1mmin\u001b[22m\u001b[39m … \u001b[35mmax\u001b[39m\u001b[90m):  \u001b[39m\u001b[36m\u001b[1m427.467 ms\u001b[22m\u001b[39m … \u001b[35m577.024 ms\u001b[39m  \u001b[90m┊\u001b[39m GC \u001b[90m(\u001b[39mmin … max\u001b[90m): \u001b[39m0.07% … 23.21%\n",
       " Time  \u001b[90m(\u001b[39m\u001b[34m\u001b[1mmedian\u001b[22m\u001b[39m\u001b[90m):     \u001b[39m\u001b[34m\u001b[1m431.148 ms               \u001b[22m\u001b[39m\u001b[90m┊\u001b[39m GC \u001b[90m(\u001b[39mmedian\u001b[90m):    \u001b[39m0.51%\n",
       " Time  \u001b[90m(\u001b[39m\u001b[32m\u001b[1mmean\u001b[22m\u001b[39m ± \u001b[32mσ\u001b[39m\u001b[90m):   \u001b[39m\u001b[32m\u001b[1m436.169 ms\u001b[22m\u001b[39m ± \u001b[32m 20.120 ms\u001b[39m  \u001b[90m┊\u001b[39m GC \u001b[90m(\u001b[39mmean ± σ\u001b[90m):  \u001b[39m1.16% ±  3.25%\n",
       "\n",
       "  \u001b[39m▇\u001b[39m█\u001b[34m \u001b[39m\u001b[39m \u001b[32m \u001b[39m\u001b[39m \u001b[39m \u001b[39m \u001b[39m \u001b[39m \u001b[39m \u001b[39m \u001b[39m \u001b[39m \u001b[39m \u001b[39m \u001b[39m \u001b[39m \u001b[39m \u001b[39m \u001b[39m \u001b[39m \u001b[39m \u001b[39m \u001b[39m \u001b[39m \u001b[39m \u001b[39m \u001b[39m \u001b[39m \u001b[39m \u001b[39m \u001b[39m \u001b[39m \u001b[39m \u001b[39m \u001b[39m \u001b[39m \u001b[39m \u001b[39m \u001b[39m \u001b[39m \u001b[39m \u001b[39m \u001b[39m \u001b[39m \u001b[39m \u001b[39m \u001b[39m \u001b[39m \u001b[39m \u001b[39m \u001b[39m \u001b[39m \u001b[39m \u001b[39m \u001b[39m \u001b[39m \u001b[39m \u001b[39m \u001b[39m \u001b[39m \u001b[39m \n",
       "  \u001b[39m█\u001b[39m█\u001b[34m█\u001b[39m\u001b[39m▃\u001b[32m▄\u001b[39m\u001b[39m▃\u001b[39m▄\u001b[39m▄\u001b[39m▄\u001b[39m▂\u001b[39m▃\u001b[39m▁\u001b[39m▁\u001b[39m▁\u001b[39m▁\u001b[39m▁\u001b[39m▁\u001b[39m▁\u001b[39m▁\u001b[39m▁\u001b[39m▁\u001b[39m▁\u001b[39m▁\u001b[39m▁\u001b[39m▁\u001b[39m▁\u001b[39m▁\u001b[39m▁\u001b[39m▁\u001b[39m▁\u001b[39m▁\u001b[39m▁\u001b[39m▁\u001b[39m▁\u001b[39m▁\u001b[39m▁\u001b[39m▁\u001b[39m▁\u001b[39m▁\u001b[39m▁\u001b[39m▁\u001b[39m▁\u001b[39m▁\u001b[39m▁\u001b[39m▁\u001b[39m▁\u001b[39m▁\u001b[39m▁\u001b[39m▁\u001b[39m▁\u001b[39m▁\u001b[39m▁\u001b[39m▁\u001b[39m▁\u001b[39m▁\u001b[39m▁\u001b[39m▁\u001b[39m▁\u001b[39m▁\u001b[39m▁\u001b[39m▂\u001b[39m \u001b[39m▂\n",
       "  427 ms\u001b[90m           Histogram: frequency by time\u001b[39m          563 ms \u001b[0m\u001b[1m<\u001b[22m\n",
       "\n",
       " Memory estimate\u001b[90m: \u001b[39m\u001b[33m105.90 MiB\u001b[39m, allocs estimate\u001b[90m: \u001b[39m\u001b[33m2196\u001b[39m."
      ]
     },
     "metadata": {},
     "output_type": "display_data"
    }
   ],
   "source": [
    "@benchmark deconvolution(cell, ifftshift(cell_psf), regularizer=nothing, iterations=10) samples=100 evals=1 seconds=60"
   ]
  }
 ],
 "metadata": {
  "kernelspec": {
   "display_name": "Julia 1.10.4",
   "language": "julia",
   "name": "julia-1.10"
  },
  "language_info": {
   "file_extension": ".jl",
   "mimetype": "application/julia",
   "name": "julia",
   "version": "1.10.4"
  }
 },
 "nbformat": 4,
 "nbformat_minor": 4
}
