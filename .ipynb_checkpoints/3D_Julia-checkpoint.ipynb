{
 "cells": [
  {
   "cell_type": "markdown",
   "metadata": {},
   "source": [
    "# 3D Deconvolution Benchmark: Julia"
   ]
  },
  {
   "cell_type": "markdown",
   "metadata": {},
   "source": [
    "---\n",
    "## Setup"
   ]
  },
  {
   "cell_type": "code",
   "execution_count": 3,
   "metadata": {
    "vscode": {
     "languageId": "julia"
    }
   },
   "outputs": [],
   "source": [
    "using DeconvOptim, Images, FFTW, Noise, ImageView, BenchmarkTools"
   ]
  },
  {
   "cell_type": "markdown",
   "metadata": {},
   "source": [
    "---\n",
    "## Test Image\n",
    "\n"
   ]
  },
  {
   "cell_type": "code",
   "execution_count": 5,
   "metadata": {},
   "outputs": [
    {
     "name": "stderr",
     "output_type": "stream",
     "text": [
      "\u001b[32mLoading: 100%|███████████████████████████████████████████| Time: 0:00:01\u001b[39m\n"
     ]
    }
   ],
   "source": [
    "img = convert(Array{Float32}, channelview(load(\"simple_3d_ball.tif\")));"
   ]
  },
  {
   "cell_type": "code",
   "execution_count": 6,
   "metadata": {},
   "outputs": [],
   "source": [
    "psf = ifftshift(convert(Array{Float32}, channelview(load(\"simple_3d_psf.tif\"))));"
   ]
  },
  {
   "cell_type": "code",
   "execution_count": 7,
   "metadata": {},
   "outputs": [],
   "source": [
    "# psf ./= sum(psf)\n",
    "# # create a blurred, noisy version of that image\n",
    "# img_b = conv(img, psf, [1, 2, 3])\n",
    "# img_n = poisson(img_b, 300);\n",
    "# save(\"simple_3d_ball_blurred.tif\", img_n)"
   ]
  },
  {
   "cell_type": "code",
   "execution_count": 8,
   "metadata": {},
   "outputs": [],
   "source": [
    "img_n = convert(Array{Float32}, channelview(load(\"simple_3d_ball_blurred.tif\")));"
   ]
  },
  {
   "cell_type": "code",
   "execution_count": 9,
   "metadata": {
    "vscode": {
     "languageId": "julia"
    }
   },
   "outputs": [],
   "source": [
    "reg = TV(num_dims=3, sum_dims=[1, 2, 3]);"
   ]
  },
  {
   "cell_type": "code",
   "execution_count": 10,
   "metadata": {},
   "outputs": [],
   "source": [
    "res2, ores = deconvolution(img_n, psf, regularizer=reg, loss=Poisson(),\n",
    "                          λ=0.05, padding=0, iterations=10);"
   ]
  },
  {
   "cell_type": "code",
   "execution_count": 11,
   "metadata": {
    "vscode": {
     "languageId": "julia"
    }
   },
   "outputs": [
    {
     "data": {
      "text/plain": [
       "BenchmarkTools.Trial: 100 samples with 1 evaluation.\n",
       " Range \u001b[90m(\u001b[39m\u001b[36m\u001b[1mmin\u001b[22m\u001b[39m … \u001b[35mmax\u001b[39m\u001b[90m):  \u001b[39m\u001b[36m\u001b[1m129.998 ms\u001b[22m\u001b[39m … \u001b[35m368.080 ms\u001b[39m  \u001b[90m┊\u001b[39m GC \u001b[90m(\u001b[39mmin … max\u001b[90m): \u001b[39m 0.00% … 62.01%\n",
       " Time  \u001b[90m(\u001b[39m\u001b[34m\u001b[1mmedian\u001b[22m\u001b[39m\u001b[90m):     \u001b[39m\u001b[34m\u001b[1m177.161 ms               \u001b[22m\u001b[39m\u001b[90m┊\u001b[39m GC \u001b[90m(\u001b[39mmedian\u001b[90m):    \u001b[39m25.88%\n",
       " Time  \u001b[90m(\u001b[39m\u001b[32m\u001b[1mmean\u001b[22m\u001b[39m ± \u001b[32mσ\u001b[39m\u001b[90m):   \u001b[39m\u001b[32m\u001b[1m223.224 ms\u001b[22m\u001b[39m ± \u001b[32m 91.995 ms\u001b[39m  \u001b[90m┊\u001b[39m GC \u001b[90m(\u001b[39mmean ± σ\u001b[90m):  \u001b[39m41.07% ± 23.59%\n",
       "\n",
       "  \u001b[39m \u001b[39m▁\u001b[39m▅\u001b[39m \u001b[39m \u001b[39m \u001b[39m \u001b[39m \u001b[39m \u001b[39m \u001b[39m \u001b[39m▅\u001b[34m█\u001b[39m\u001b[39m \u001b[39m \u001b[39m \u001b[39m \u001b[39m \u001b[39m \u001b[39m \u001b[39m \u001b[39m \u001b[39m \u001b[39m \u001b[32m \u001b[39m\u001b[39m \u001b[39m \u001b[39m \u001b[39m \u001b[39m \u001b[39m \u001b[39m \u001b[39m \u001b[39m \u001b[39m \u001b[39m \u001b[39m \u001b[39m \u001b[39m \u001b[39m \u001b[39m \u001b[39m \u001b[39m \u001b[39m \u001b[39m \u001b[39m \u001b[39m \u001b[39m \u001b[39m \u001b[39m \u001b[39m \u001b[39m \u001b[39m \u001b[39m \u001b[39m \u001b[39m▁\u001b[39m▅\u001b[39m \u001b[39m \u001b[39m \u001b[39m \u001b[39m \u001b[39m \n",
       "  \u001b[39m█\u001b[39m█\u001b[39m█\u001b[39m▆\u001b[39m▁\u001b[39m▃\u001b[39m▁\u001b[39m▁\u001b[39m▁\u001b[39m▁\u001b[39m▃\u001b[39m█\u001b[34m█\u001b[39m\u001b[39m█\u001b[39m▃\u001b[39m▁\u001b[39m▁\u001b[39m▁\u001b[39m▁\u001b[39m▁\u001b[39m▁\u001b[39m▁\u001b[39m▁\u001b[39m▁\u001b[32m▁\u001b[39m\u001b[39m▁\u001b[39m▁\u001b[39m▁\u001b[39m▁\u001b[39m▁\u001b[39m▁\u001b[39m▁\u001b[39m▁\u001b[39m▁\u001b[39m▁\u001b[39m▁\u001b[39m▁\u001b[39m▁\u001b[39m▁\u001b[39m▁\u001b[39m▁\u001b[39m▁\u001b[39m▁\u001b[39m▁\u001b[39m▁\u001b[39m▁\u001b[39m▁\u001b[39m▁\u001b[39m▁\u001b[39m▁\u001b[39m▁\u001b[39m▁\u001b[39m▁\u001b[39m▁\u001b[39m▁\u001b[39m█\u001b[39m█\u001b[39m█\u001b[39m█\u001b[39m▁\u001b[39m▃\u001b[39m \u001b[39m▃\n",
       "  130 ms\u001b[90m           Histogram: frequency by time\u001b[39m          363 ms \u001b[0m\u001b[1m<\u001b[22m\n",
       "\n",
       " Memory estimate\u001b[90m: \u001b[39m\u001b[33m147.59 MiB\u001b[39m, allocs estimate\u001b[90m: \u001b[39m\u001b[33m2671\u001b[39m."
      ]
     },
     "execution_count": 11,
     "metadata": {},
     "output_type": "execute_result"
    }
   ],
   "source": [
    "@benchmark deconvolution(img_n, psf, regularizer=reg, loss=Poisson(), λ=0.05, padding=0, iterations=10)  samples=100 evals=1 seconds=60"
   ]
  },
  {
   "cell_type": "code",
   "execution_count": 12,
   "metadata": {},
   "outputs": [],
   "source": [
    "res, ores = deconvolution(img_n, psf, regularizer=nothing, iterations=10);"
   ]
  },
  {
   "cell_type": "code",
   "execution_count": 13,
   "metadata": {
    "vscode": {
     "languageId": "julia"
    }
   },
   "outputs": [
    {
     "data": {
      "text/plain": [
       "BenchmarkTools.Trial: 100 samples with 1 evaluation.\n",
       " Range \u001b[90m(\u001b[39m\u001b[36m\u001b[1mmin\u001b[22m\u001b[39m … \u001b[35mmax\u001b[39m\u001b[90m):  \u001b[39m\u001b[36m\u001b[1m107.933 ms\u001b[22m\u001b[39m … \u001b[35m330.723 ms\u001b[39m  \u001b[90m┊\u001b[39m GC \u001b[90m(\u001b[39mmin … max\u001b[90m): \u001b[39m 0.00% … 66.75%\n",
       " Time  \u001b[90m(\u001b[39m\u001b[34m\u001b[1mmedian\u001b[22m\u001b[39m\u001b[90m):     \u001b[39m\u001b[34m\u001b[1m113.915 ms               \u001b[22m\u001b[39m\u001b[90m┊\u001b[39m GC \u001b[90m(\u001b[39mmedian\u001b[90m):    \u001b[39m 3.51%\n",
       " Time  \u001b[90m(\u001b[39m\u001b[32m\u001b[1mmean\u001b[22m\u001b[39m ± \u001b[32mσ\u001b[39m\u001b[90m):   \u001b[39m\u001b[32m\u001b[1m124.296 ms\u001b[22m\u001b[39m ± \u001b[32m 43.050 ms\u001b[39m  \u001b[90m┊\u001b[39m GC \u001b[90m(\u001b[39mmean ± σ\u001b[90m):  \u001b[39m11.55% ± 13.36%\n",
       "\n",
       "  \u001b[39m \u001b[39m█\u001b[34m▃\u001b[39m\u001b[39m \u001b[32m \u001b[39m\u001b[39m \u001b[39m \u001b[39m \u001b[39m \u001b[39m \u001b[39m \u001b[39m \u001b[39m \u001b[39m \u001b[39m \u001b[39m \u001b[39m \u001b[39m \u001b[39m \u001b[39m \u001b[39m \u001b[39m \u001b[39m \u001b[39m \u001b[39m \u001b[39m \u001b[39m \u001b[39m \u001b[39m \u001b[39m \u001b[39m \u001b[39m \u001b[39m \u001b[39m \u001b[39m \u001b[39m \u001b[39m \u001b[39m \u001b[39m \u001b[39m \u001b[39m \u001b[39m \u001b[39m \u001b[39m \u001b[39m \u001b[39m \u001b[39m \u001b[39m \u001b[39m \u001b[39m \u001b[39m \u001b[39m \u001b[39m \u001b[39m \u001b[39m \u001b[39m \u001b[39m \u001b[39m \u001b[39m \u001b[39m \u001b[39m \u001b[39m \u001b[39m \n",
       "  \u001b[39m█\u001b[39m█\u001b[34m█\u001b[39m\u001b[39m▃\u001b[32m▁\u001b[39m\u001b[39m▁\u001b[39m▁\u001b[39m▁\u001b[39m▁\u001b[39m▁\u001b[39m▁\u001b[39m▁\u001b[39m▂\u001b[39m▃\u001b[39m▁\u001b[39m▁\u001b[39m▁\u001b[39m▁\u001b[39m▁\u001b[39m▁\u001b[39m▁\u001b[39m▁\u001b[39m▁\u001b[39m▁\u001b[39m▁\u001b[39m▁\u001b[39m▁\u001b[39m▁\u001b[39m▁\u001b[39m▁\u001b[39m▁\u001b[39m▁\u001b[39m▁\u001b[39m▁\u001b[39m▁\u001b[39m▁\u001b[39m▁\u001b[39m▁\u001b[39m▁\u001b[39m▁\u001b[39m▁\u001b[39m▁\u001b[39m▁\u001b[39m▁\u001b[39m▁\u001b[39m▁\u001b[39m▁\u001b[39m▁\u001b[39m▁\u001b[39m▁\u001b[39m▁\u001b[39m▁\u001b[39m▁\u001b[39m▁\u001b[39m▁\u001b[39m▁\u001b[39m▁\u001b[39m▁\u001b[39m▁\u001b[39m▁\u001b[39m▃\u001b[39m \u001b[39m▂\n",
       "  108 ms\u001b[90m           Histogram: frequency by time\u001b[39m          330 ms \u001b[0m\u001b[1m<\u001b[22m\n",
       "\n",
       " Memory estimate\u001b[90m: \u001b[39m\u001b[33m93.57 MiB\u001b[39m, allocs estimate\u001b[90m: \u001b[39m\u001b[33m2207\u001b[39m."
      ]
     },
     "execution_count": 13,
     "metadata": {},
     "output_type": "execute_result"
    }
   ],
   "source": [
    "@benchmark deconvolution(img_n, psf, regularizer=nothing, iterations=10) samples=100 evals=1 seconds=60"
   ]
  },
  {
   "cell_type": "code",
   "execution_count": 37,
   "metadata": {
    "vscode": {
     "languageId": "julia"
    }
   },
   "outputs": [
    {
     "data": {
      "image/png": "[encoded data removed]",
      "text/html": [
       "<img src=\"data:image/png;base64,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\">"
      ],
      "text/plain": [
       "128×256 reinterpret(reshape, Gray{Float32}, ::Matrix{Float32}) with eltype Gray{Float32}:\n",
       " Gray{Float32}(0.0)  Gray{Float32}(0.0)  …  Gray{Float32}(0.0)\n",
       " Gray{Float32}(0.0)  Gray{Float32}(0.0)     Gray{Float32}(0.0)\n",
       " Gray{Float32}(0.0)  Gray{Float32}(0.0)     Gray{Float32}(0.0)\n",
       " Gray{Float32}(0.0)  Gray{Float32}(0.0)     Gray{Float32}(0.0)\n",
       " Gray{Float32}(0.0)  Gray{Float32}(0.0)     Gray{Float32}(0.0)\n",
       " Gray{Float32}(0.0)  Gray{Float32}(0.0)  …  Gray{Float32}(0.0)\n",
       " Gray{Float32}(0.0)  Gray{Float32}(0.0)     Gray{Float32}(0.0)\n",
       " Gray{Float32}(0.0)  Gray{Float32}(0.0)     Gray{Float32}(0.0)\n",
       " Gray{Float32}(0.0)  Gray{Float32}(0.0)     Gray{Float32}(0.0)\n",
       " Gray{Float32}(0.0)  Gray{Float32}(0.0)     Gray{Float32}(0.0)\n",
       " Gray{Float32}(0.0)  Gray{Float32}(0.0)  …  Gray{Float32}(0.0)\n",
       " Gray{Float32}(0.0)  Gray{Float32}(0.0)     Gray{Float32}(0.0)\n",
       " Gray{Float32}(0.0)  Gray{Float32}(0.0)     Gray{Float32}(0.0)\n",
       " ⋮                                       ⋱  ⋮\n",
       " Gray{Float32}(0.0)  Gray{Float32}(0.0)     Gray{Float32}(0.0)\n",
       " Gray{Float32}(0.0)  Gray{Float32}(0.0)     Gray{Float32}(0.0)\n",
       " Gray{Float32}(0.0)  Gray{Float32}(0.0)     Gray{Float32}(0.0)\n",
       " Gray{Float32}(0.0)  Gray{Float32}(0.0)     Gray{Float32}(0.0)\n",
       " Gray{Float32}(0.0)  Gray{Float32}(0.0)  …  Gray{Float32}(0.0)\n",
       " Gray{Float32}(0.0)  Gray{Float32}(0.0)     Gray{Float32}(0.0)\n",
       " Gray{Float32}(0.0)  Gray{Float32}(0.0)     Gray{Float32}(0.0)\n",
       " Gray{Float32}(0.0)  Gray{Float32}(0.0)     Gray{Float32}(0.0)\n",
       " Gray{Float32}(0.0)  Gray{Float32}(0.0)     Gray{Float32}(0.0)\n",
       " Gray{Float32}(0.0)  Gray{Float32}(0.0)  …  Gray{Float32}(0.0)\n",
       " Gray{Float32}(0.0)  Gray{Float32}(0.0)     Gray{Float32}(0.0)\n",
       " Gray{Float32}(0.0)  Gray{Float32}(0.0)     Gray{Float32}(0.0)"
      ]
     },
     "execution_count": 37,
     "metadata": {},
     "output_type": "execute_result"
    }
   ],
   "source": [
    "img_comb1 = [img[:, : ,32] res2[:, :, 32] res[:, :, 32] img_n[:, :, 32]]\n",
    "img_comb2 = [img[:, : ,38] res2[:, :, 38] res[:, :, 38] img_n[:, :, 38]]\n",
    "\n",
    "img_comb = cat(img_comb1, img_comb2, dims=1)\n",
    "img_comb ./= maximum(img_comb)\n",
    "\n",
    "# imshow([img[:, :, 20:end] res2[:, :, 20:end] res[:, :, 20:end] img_n[:, :, 20:end]])\n",
    "colorview(Gray, img_comb)"
   ]
  },
  {
   "cell_type": "markdown",
   "metadata": {},
   "source": [
    "---\n",
    "## Cell 3D"
   ]
  },
  {
   "cell_type": "code",
   "execution_count": 166,
   "metadata": {},
   "outputs": [],
   "source": [
    "cell = convert(Array{Float32}, channelview(load(\"cells3d_convolved.tiff\")));"
   ]
  },
  {
   "cell_type": "code",
   "execution_count": 168,
   "metadata": {},
   "outputs": [],
   "source": [
    "cell_psf = convert(Array{Float32}, channelview(load(\"cells3d_psf.tiff\")));"
   ]
  },
  {
   "cell_type": "code",
   "execution_count": 178,
   "metadata": {},
   "outputs": [],
   "source": [
    "cell /= maximum(cell);\n",
    "cell_psf /= maximum(cell_psf);"
   ]
  },
  {
   "cell_type": "code",
   "execution_count": 180,
   "metadata": {},
   "outputs": [
    {
     "data": {
      "image/png": "[encoded data removed]",
      "text/html": [
       "<img src=\"data:image/png;base64,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\">"
      ],
      "text/plain": [
       "71×71 reinterpret(reshape, Gray{Float32}, ::Matrix{Float32}) with eltype Gray{Float32}:\n",
       " Gray{Float32}(0.164282)  Gray{Float32}(0.163249)  …  Gray{Float32}(0.210487)\n",
       " Gray{Float32}(0.167122)  Gray{Float32}(0.1662)       Gray{Float32}(0.207231)\n",
       " Gray{Float32}(0.171882)  Gray{Float32}(0.171079)     Gray{Float32}(0.202988)\n",
       " Gray{Float32}(0.177531)  Gray{Float32}(0.176712)     Gray{Float32}(0.200101)\n",
       " Gray{Float32}(0.183482)  Gray{Float32}(0.182443)     Gray{Float32}(0.198996)\n",
       " Gray{Float32}(0.189344)  Gray{Float32}(0.187946)  …  Gray{Float32}(0.198268)\n",
       " Gray{Float32}(0.194515)  Gray{Float32}(0.192777)     Gray{Float32}(0.19638)\n",
       " Gray{Float32}(0.198362)  Gray{Float32}(0.196438)     Gray{Float32}(0.193092)\n",
       " Gray{Float32}(0.200772)  Gray{Float32}(0.198832)     Gray{Float32}(0.18932)\n",
       " Gray{Float32}(0.202273)  Gray{Float32}(0.200411)     Gray{Float32}(0.185919)\n",
       " Gray{Float32}(0.203491)  Gray{Float32}(0.201721)  …  Gray{Float32}(0.182935)\n",
       " Gray{Float32}(0.204564)  Gray{Float32}(0.202897)     Gray{Float32}(0.180066)\n",
       " Gray{Float32}(0.205246)  Gray{Float32}(0.203735)     Gray{Float32}(0.177439)\n",
       " ⋮                                                 ⋱  ⋮\n",
       " Gray{Float32}(0.194834)  Gray{Float32}(0.194985)     Gray{Float32}(0.179297)\n",
       " Gray{Float32}(0.192818)  Gray{Float32}(0.192808)  …  Gray{Float32}(0.183772)\n",
       " Gray{Float32}(0.191188)  Gray{Float32}(0.190883)     Gray{Float32}(0.188633)\n",
       " Gray{Float32}(0.190157)  Gray{Float32}(0.1895)       Gray{Float32}(0.194881)\n",
       " Gray{Float32}(0.189356)  Gray{Float32}(0.188436)     Gray{Float32}(0.205005)\n",
       " Gray{Float32}(0.188477)  Gray{Float32}(0.187476)     Gray{Float32}(0.22326)\n",
       " Gray{Float32}(0.187755)  Gray{Float32}(0.186829)  …  Gray{Float32}(0.255284)\n",
       " Gray{Float32}(0.187759)  Gray{Float32}(0.186945)     Gray{Float32}(0.306063)\n",
       " Gray{Float32}(0.188859)  Gray{Float32}(0.188078)     Gray{Float32}(0.375837)\n",
       " Gray{Float32}(0.190907)  Gray{Float32}(0.190032)     Gray{Float32}(0.455879)\n",
       " Gray{Float32}(0.193203)  Gray{Float32}(0.192154)     Gray{Float32}(0.528176)\n",
       " Gray{Float32}(0.194739)  Gray{Float32}(0.193551)  …  Gray{Float32}(0.571523)"
      ]
     },
     "execution_count": 180,
     "metadata": {},
     "output_type": "execute_result"
    }
   ],
   "source": [
    "colorview(Gray, cell[:,:,30])"
   ]
  },
  {
   "cell_type": "code",
   "execution_count": 182,
   "metadata": {},
   "outputs": [
    {
     "data": {
      "image/png": "[encoded data removed]",
      "text/html": [
       "<img src=\"data:image/png;base64,iVBORw0KGgoAAAANSUhEUgAAAI4AAACOCAAAAADClm/UAAAABGdBTUEAALGPC/xhBQAAAAFzUkdCAK7OHOkAAAAgY0hSTQAAeiYAAICEAAD6AAAAgOgAAHUwAADqYAAAOpgAABdwnLpRPAAAAcdJREFUeAHNwUFKI1EABcDq5EUwqwEXARdzgGHuMPe/gEcQggpuTDAx/ecO3Vm8qqgSVaJKVIkqUSWqRJWoElWiSlSJKlElqkSVqBJVokpUiSpRJapElagSVaJKVIkqUSWqRJWoElWiSlSJKlElqkSVqBJVokpUiSpRJapElagSVaJKVIkqUSWqRJW4i8lwD1ElVppMmAwMwzpRJVbZ2Njamgw3N7PZGlElVtjYerD3aOfq7OSC2XJRJRabbDz45eBg7+To6NO3YVgqqsRik629g7/+ePLhBRc/ZsNSUSVW2Hp08Mc/z17x5t2Xq+WiSiw0mUx29p48+40nezuTyWRYJqrEQsMwXJ18eMWrDydXwzAsFVVihZuzoxc8+fDi6OxmjagSiw03J0e82Ts5Ojq5GZaLKrHYMLv4dPFu5+rs5GI2LBdVYoUZ3358mQw3N7PZGlElVpkNs6vJwDCsE1VipWFgMtxDVIm7GO4jqkSVqBJVokpUiSpRJapElagSVaJKVIkqUSWqRJWoElWiSlSJKlElqkSVqBJVokpUiSpRJapElagSVaJKVIkqUSWqRJWoElWiSlSJKlElqkSVqBJVokpUiSr/AQA2ZEZgpjD6AAAAAElFTkSuQmCC\">"
      ],
      "text/plain": [
       "71×71 reinterpret(reshape, Gray{Float32}, ::Matrix{Float32}) with eltype Gray{Float32}:\n",
       " Gray{Float32}(0.0)  Gray{Float32}(0.0)  …  Gray{Float32}(0.0)\n",
       " Gray{Float32}(0.0)  Gray{Float32}(0.0)     Gray{Float32}(0.0)\n",
       " Gray{Float32}(0.0)  Gray{Float32}(0.0)     Gray{Float32}(0.0)\n",
       " Gray{Float32}(0.0)  Gray{Float32}(0.0)     Gray{Float32}(0.0)\n",
       " Gray{Float32}(0.0)  Gray{Float32}(0.0)     Gray{Float32}(0.0)\n",
       " Gray{Float32}(0.0)  Gray{Float32}(0.0)  …  Gray{Float32}(0.0)\n",
       " Gray{Float32}(0.0)  Gray{Float32}(0.0)     Gray{Float32}(0.0)\n",
       " Gray{Float32}(0.0)  Gray{Float32}(0.0)     Gray{Float32}(0.0)\n",
       " Gray{Float32}(0.0)  Gray{Float32}(0.0)     Gray{Float32}(0.0)\n",
       " Gray{Float32}(0.0)  Gray{Float32}(0.0)     Gray{Float32}(0.0)\n",
       " Gray{Float32}(0.0)  Gray{Float32}(0.0)  …  Gray{Float32}(0.0)\n",
       " Gray{Float32}(0.0)  Gray{Float32}(0.0)     Gray{Float32}(0.0)\n",
       " Gray{Float32}(0.0)  Gray{Float32}(0.0)     Gray{Float32}(0.0)\n",
       " ⋮                                       ⋱  ⋮\n",
       " Gray{Float32}(0.0)  Gray{Float32}(0.0)     Gray{Float32}(0.0)\n",
       " Gray{Float32}(0.0)  Gray{Float32}(0.0)  …  Gray{Float32}(0.0)\n",
       " Gray{Float32}(0.0)  Gray{Float32}(0.0)     Gray{Float32}(0.0)\n",
       " Gray{Float32}(0.0)  Gray{Float32}(0.0)     Gray{Float32}(0.0)\n",
       " Gray{Float32}(0.0)  Gray{Float32}(0.0)     Gray{Float32}(0.0)\n",
       " Gray{Float32}(0.0)  Gray{Float32}(0.0)     Gray{Float32}(0.0)\n",
       " Gray{Float32}(0.0)  Gray{Float32}(0.0)  …  Gray{Float32}(0.0)\n",
       " Gray{Float32}(0.0)  Gray{Float32}(0.0)     Gray{Float32}(0.0)\n",
       " Gray{Float32}(0.0)  Gray{Float32}(0.0)     Gray{Float32}(0.0)\n",
       " Gray{Float32}(0.0)  Gray{Float32}(0.0)     Gray{Float32}(0.0)\n",
       " Gray{Float32}(0.0)  Gray{Float32}(0.0)     Gray{Float32}(0.0)\n",
       " Gray{Float32}(0.0)  Gray{Float32}(0.0)  …  Gray{Float32}(0.0)"
      ]
     },
     "execution_count": 182,
     "metadata": {},
     "output_type": "execute_result"
    }
   ],
   "source": [
    "colorview(Gray, cell_psf[:,:,30])"
   ]
  },
  {
   "cell_type": "code",
   "execution_count": 184,
   "metadata": {},
   "outputs": [],
   "source": [
    "cell_res, cell_ores = deconvolution(cell, ifftshift(cell_psf), regularizer=nothing, iterations=10);"
   ]
  },
  {
   "cell_type": "code",
   "execution_count": 188,
   "metadata": {},
   "outputs": [
    {
     "data": {
      "image/png": "[encoded data removed]",
      "text/html": [
       "<img src=\"data:image/png;base64,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\">"
      ],
      "text/plain": [
       "71×71 reinterpret(reshape, Gray{Float32}, ::Matrix{Float32}) with eltype Gray{Float32}:\n",
       " Gray{Float32}(0.0610735)  …  Gray{Float32}(0.129121)\n",
       " Gray{Float32}(0.0434524)     Gray{Float32}(0.0602035)\n",
       " Gray{Float32}(0.0577409)     Gray{Float32}(0.0615691)\n",
       " Gray{Float32}(0.10139)       Gray{Float32}(0.10288)\n",
       " Gray{Float32}(0.152504)      Gray{Float32}(0.158807)\n",
       " Gray{Float32}(0.170781)   …  Gray{Float32}(0.18029)\n",
       " Gray{Float32}(0.155667)      Gray{Float32}(0.160628)\n",
       " Gray{Float32}(0.13624)       Gray{Float32}(0.13367)\n",
       " Gray{Float32}(0.128354)      Gray{Float32}(0.119114)\n",
       " Gray{Float32}(0.131949)      Gray{Float32}(0.117219)\n",
       " Gray{Float32}(0.140671)   …  Gray{Float32}(0.121406)\n",
       " Gray{Float32}(0.147709)      Gray{Float32}(0.125002)\n",
       " Gray{Float32}(0.149557)      Gray{Float32}(0.124687)\n",
       " ⋮                         ⋱  ⋮\n",
       " Gray{Float32}(0.123467)      Gray{Float32}(0.112151)\n",
       " Gray{Float32}(0.129479)   …  Gray{Float32}(0.124234)\n",
       " Gray{Float32}(0.139698)      Gray{Float32}(0.140413)\n",
       " Gray{Float32}(0.144731)      Gray{Float32}(0.150874)\n",
       " Gray{Float32}(0.133237)      Gray{Float32}(0.144884)\n",
       " Gray{Float32}(0.10664)       Gray{Float32}(0.12626)\n",
       " Gray{Float32}(0.0815821)  …  Gray{Float32}(0.115669)\n",
       " Gray{Float32}(0.0741655)     Gray{Float32}(0.141559)\n",
       " Gray{Float32}(0.0943747)     Gray{Float32}(0.249946)\n",
       " Gray{Float32}(0.141051)      Gray{Float32}(0.465169)\n",
       " Gray{Float32}(0.163454)      Gray{Float32}(0.562976)\n",
       " Gray{Float32}(0.115486)   …  Gray{Float32}(0.342385)"
      ]
     },
     "execution_count": 188,
     "metadata": {},
     "output_type": "execute_result"
    }
   ],
   "source": [
    "colorview(Gray, cell_res[:,:,30]/maximum(cell_res[:,:,30]))"
   ]
  },
  {
   "cell_type": "code",
   "execution_count": 190,
   "metadata": {},
   "outputs": [
    {
     "data": {
      "text/plain": [
       "BenchmarkTools.Trial: 100 samples with 1 evaluation.\n",
       " Range \u001b[90m(\u001b[39m\u001b[36m\u001b[1mmin\u001b[22m\u001b[39m … \u001b[35mmax\u001b[39m\u001b[90m):  \u001b[39m\u001b[36m\u001b[1m556.957 ms\u001b[22m\u001b[39m … \u001b[35m816.374 ms\u001b[39m  \u001b[90m┊\u001b[39m GC \u001b[90m(\u001b[39mmin … max\u001b[90m): \u001b[39m0.54% … 29.84%\n",
       " Time  \u001b[90m(\u001b[39m\u001b[34m\u001b[1mmedian\u001b[22m\u001b[39m\u001b[90m):     \u001b[39m\u001b[34m\u001b[1m574.867 ms               \u001b[22m\u001b[39m\u001b[90m┊\u001b[39m GC \u001b[90m(\u001b[39mmedian\u001b[90m):    \u001b[39m0.71%\n",
       " Time  \u001b[90m(\u001b[39m\u001b[32m\u001b[1mmean\u001b[22m\u001b[39m ± \u001b[32mσ\u001b[39m\u001b[90m):   \u001b[39m\u001b[32m\u001b[1m582.567 ms\u001b[22m\u001b[39m ± \u001b[32m 41.177 ms\u001b[39m  \u001b[90m┊\u001b[39m GC \u001b[90m(\u001b[39mmean ± σ\u001b[90m):  \u001b[39m2.21% ±  5.02%\n",
       "\n",
       "  \u001b[39m \u001b[39m \u001b[39m \u001b[39m▄\u001b[34m█\u001b[39m\u001b[39m \u001b[32m \u001b[39m\u001b[39m \u001b[39m \u001b[39m \u001b[39m \u001b[39m \u001b[39m \u001b[39m \u001b[39m \u001b[39m \u001b[39m \u001b[39m \u001b[39m \u001b[39m \u001b[39m \u001b[39m \u001b[39m \u001b[39m \u001b[39m \u001b[39m \u001b[39m \u001b[39m \u001b[39m \u001b[39m \u001b[39m \u001b[39m \u001b[39m \u001b[39m \u001b[39m \u001b[39m \u001b[39m \u001b[39m \u001b[39m \u001b[39m \u001b[39m \u001b[39m \u001b[39m \u001b[39m \u001b[39m \u001b[39m \u001b[39m \u001b[39m \u001b[39m \u001b[39m \u001b[39m \u001b[39m \u001b[39m \u001b[39m \u001b[39m \u001b[39m \u001b[39m \u001b[39m \u001b[39m \u001b[39m \u001b[39m \u001b[39m \u001b[39m \n",
       "  \u001b[39m▆\u001b[39m▄\u001b[39m▅\u001b[39m█\u001b[34m█\u001b[39m\u001b[39m▆\u001b[32m▅\u001b[39m\u001b[39m▂\u001b[39m▃\u001b[39m▂\u001b[39m▂\u001b[39m▁\u001b[39m▂\u001b[39m▁\u001b[39m▁\u001b[39m▃\u001b[39m▁\u001b[39m▁\u001b[39m▁\u001b[39m▁\u001b[39m▁\u001b[39m▁\u001b[39m▁\u001b[39m▁\u001b[39m▁\u001b[39m▁\u001b[39m▁\u001b[39m▁\u001b[39m▁\u001b[39m▁\u001b[39m▁\u001b[39m▁\u001b[39m▁\u001b[39m▁\u001b[39m▁\u001b[39m▁\u001b[39m▁\u001b[39m▁\u001b[39m▁\u001b[39m▁\u001b[39m▁\u001b[39m▁\u001b[39m▁\u001b[39m▁\u001b[39m▁\u001b[39m▁\u001b[39m▁\u001b[39m▁\u001b[39m▁\u001b[39m▁\u001b[39m▁\u001b[39m▁\u001b[39m▁\u001b[39m▁\u001b[39m▁\u001b[39m▂\u001b[39m▁\u001b[39m▁\u001b[39m▁\u001b[39m▁\u001b[39m▂\u001b[39m \u001b[39m▂\n",
       "  557 ms\u001b[90m           Histogram: frequency by time\u001b[39m          814 ms \u001b[0m\u001b[1m<\u001b[22m\n",
       "\n",
       " Memory estimate\u001b[90m: \u001b[39m\u001b[33m105.89 MiB\u001b[39m, allocs estimate\u001b[90m: \u001b[39m\u001b[33m2196\u001b[39m."
      ]
     },
     "execution_count": 190,
     "metadata": {},
     "output_type": "execute_result"
    }
   ],
   "source": [
    "@benchmark deconvolution(cell, ifftshift(cell_psf), regularizer=nothing, iterations=10) samples=100 evals=1 seconds=60"
   ]
  },
  {
   "cell_type": "code",
   "execution_count": null,
   "metadata": {},
   "outputs": [],
   "source": []
  }
 ],
 "metadata": {
  "kernelspec": {
   "display_name": "Julia 1.10.0",
   "language": "julia",
   "name": "julia-1.10"
  },
  "language_info": {
   "file_extension": ".jl",
   "mimetype": "application/julia",
   "name": "julia",
   "version": "1.10.0"
  }
 },
 "nbformat": 4,
 "nbformat_minor": 4
}
