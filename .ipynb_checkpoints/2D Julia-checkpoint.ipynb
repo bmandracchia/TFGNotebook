{
 "cells": [
  {
   "cell_type": "code",
   "execution_count": 1,
   "id": "f64e24e1-db9f-4b32-8d8a-249675ff0c98",
   "metadata": {},
   "outputs": [],
   "source": [
    "using DeconvOptim, TestImages, Colors, ImageIO, Noise, ImageShow, Images, Plots, BenchmarkTools, FFTW"
   ]
  },
  {
   "cell_type": "code",
   "execution_count": 2,
   "id": "881220ca-5bc7-4e56-b973-0eafbadf5afd",
   "metadata": {},
   "outputs": [],
   "source": [
    "img = load(\"cells3d_convolved.tif\")\n",
    "img = Float64.(img)\n",
    "\n",
    "psf = load(\"cells3d_psf.tif\")\n",
    "psf = Float64.(psf);"
   ]
  },
  {
   "cell_type": "code",
   "execution_count": 3,
   "id": "fcc5af5a-e400-479e-945d-90352f2470ef",
   "metadata": {},
   "outputs": [
    {
     "data": {
      "image/png": "[encoded data removed]",
      "text/html": [
       "<img src=\"data:image/png;base64,iVBORw0KGgoAAAANSUhEUgAAAI4AAACOCAAAAADClm/UAAAABGdBTUEAALGPC/xhBQAAAAFzUkdCAK7OHOkAAAAgY0hSTQAAeiYAAICEAAD6AAAAgOgAAHUwAADqYAAAOpgAABdwnLpRPAAAAcdJREFUeAHNwUFKI1EABcDq5EUwqwEXARdzgGHuMPe/gEcQggpuTDAx/ecO3Vm8qqgSVaJKVIkqUSWqRJWoElWiSlSJKlElqkSVqBJVokpUiSpRJapElagSVaJKVIkqUSWqRJWoElWiSlSJKlElqkSVqBJVokpUiSpRJapElagSVaJKVIkqUSWqRJW4i8lwD1ElVppMmAwMwzpRJVbZ2Njamgw3N7PZGlElVtjYerD3aOfq7OSC2XJRJRabbDz45eBg7+To6NO3YVgqqsRik629g7/+ePLhBRc/ZsNSUSVW2Hp08Mc/z17x5t2Xq+WiSiw0mUx29p48+40nezuTyWRYJqrEQsMwXJ18eMWrDydXwzAsFVVihZuzoxc8+fDi6OxmjagSiw03J0e82Ts5Ojq5GZaLKrHYMLv4dPFu5+rs5GI2LBdVYoUZ3358mQw3N7PZGlElVpkNs6vJwDCsE1VipWFgMtxDVIm7GO4jqkSVqBJVokpUiSpRJapElagSVaJKVIkqUSWqRJWoElWiSlSJKlElqkSVqBJVokpUiSpRJapElagSVaJKVIkqUSWqRJWoElWiSlSJKlElqkSVqBJVokpUiSr/AQA2ZEZgpjD6AAAAAElFTkSuQmCC\">"
      ],
      "text/plain": [
       "71×71 Array{Gray{Float64},2} with eltype Gray{Float64}:\n",
       " Gray{Float64}(0.0)  Gray{Float64}(0.0)  …  Gray{Float64}(0.0)\n",
       " Gray{Float64}(0.0)  Gray{Float64}(0.0)     Gray{Float64}(0.0)\n",
       " Gray{Float64}(0.0)  Gray{Float64}(0.0)     Gray{Float64}(0.0)\n",
       " Gray{Float64}(0.0)  Gray{Float64}(0.0)     Gray{Float64}(0.0)\n",
       " Gray{Float64}(0.0)  Gray{Float64}(0.0)     Gray{Float64}(0.0)\n",
       " Gray{Float64}(0.0)  Gray{Float64}(0.0)  …  Gray{Float64}(0.0)\n",
       " Gray{Float64}(0.0)  Gray{Float64}(0.0)     Gray{Float64}(0.0)\n",
       " Gray{Float64}(0.0)  Gray{Float64}(0.0)     Gray{Float64}(0.0)\n",
       " Gray{Float64}(0.0)  Gray{Float64}(0.0)     Gray{Float64}(0.0)\n",
       " Gray{Float64}(0.0)  Gray{Float64}(0.0)     Gray{Float64}(0.0)\n",
       " Gray{Float64}(0.0)  Gray{Float64}(0.0)  …  Gray{Float64}(0.0)\n",
       " Gray{Float64}(0.0)  Gray{Float64}(0.0)     Gray{Float64}(0.0)\n",
       " Gray{Float64}(0.0)  Gray{Float64}(0.0)     Gray{Float64}(0.0)\n",
       " ⋮                                       ⋱  ⋮\n",
       " Gray{Float64}(0.0)  Gray{Float64}(0.0)     Gray{Float64}(0.0)\n",
       " Gray{Float64}(0.0)  Gray{Float64}(0.0)  …  Gray{Float64}(0.0)\n",
       " Gray{Float64}(0.0)  Gray{Float64}(0.0)     Gray{Float64}(0.0)\n",
       " Gray{Float64}(0.0)  Gray{Float64}(0.0)     Gray{Float64}(0.0)\n",
       " Gray{Float64}(0.0)  Gray{Float64}(0.0)     Gray{Float64}(0.0)\n",
       " Gray{Float64}(0.0)  Gray{Float64}(0.0)     Gray{Float64}(0.0)\n",
       " Gray{Float64}(0.0)  Gray{Float64}(0.0)  …  Gray{Float64}(0.0)\n",
       " Gray{Float64}(0.0)  Gray{Float64}(0.0)     Gray{Float64}(0.0)\n",
       " Gray{Float64}(0.0)  Gray{Float64}(0.0)     Gray{Float64}(0.0)\n",
       " Gray{Float64}(0.0)  Gray{Float64}(0.0)     Gray{Float64}(0.0)\n",
       " Gray{Float64}(0.0)  Gray{Float64}(0.0)     Gray{Float64}(0.0)\n",
       " Gray{Float64}(0.0)  Gray{Float64}(0.0)  …  Gray{Float64}(0.0)"
      ]
     },
     "execution_count": 3,
     "metadata": {},
     "output_type": "execute_result"
    }
   ],
   "source": [
    "Gray.(psf/maximum(psf))"
   ]
  },
  {
   "cell_type": "code",
   "execution_count": 4,
   "id": "cae07ffe-afe6-41b7-9ff8-a8bd5222a24d",
   "metadata": {},
   "outputs": [],
   "source": [
    "ipsf = ifftshift(psf);"
   ]
  },
  {
   "cell_type": "code",
   "execution_count": 5,
   "id": "430e2f87-1f29-40db-a69f-c5933ca51b3d",
   "metadata": {},
   "outputs": [],
   "source": [
    "deconvolved = richardson_lucy_iterative(img, ipsf; regularizer=nothing, iterations=30);"
   ]
  },
  {
   "cell_type": "code",
   "execution_count": 6,
   "id": "82b5a702-cdb1-4c59-a682-f179694e9e6a",
   "metadata": {},
   "outputs": [
    {
     "data": {
      "text/plain": [
       "BenchmarkTools.Trial: 100 samples with 1 evaluation.\n",
       " Range \u001b[90m(\u001b[39m\u001b[36m\u001b[1mmin\u001b[22m\u001b[39m … \u001b[35mmax\u001b[39m\u001b[90m):  \u001b[39m\u001b[36m\u001b[1m13.238 ms\u001b[22m\u001b[39m … \u001b[35m 16.124 ms\u001b[39m  \u001b[90m┊\u001b[39m GC \u001b[90m(\u001b[39mmin … max\u001b[90m): \u001b[39m0.00% … 0.00%\n",
       " Time  \u001b[90m(\u001b[39m\u001b[34m\u001b[1mmedian\u001b[22m\u001b[39m\u001b[90m):     \u001b[39m\u001b[34m\u001b[1m13.535 ms               \u001b[22m\u001b[39m\u001b[90m┊\u001b[39m GC \u001b[90m(\u001b[39mmedian\u001b[90m):    \u001b[39m0.00%\n",
       " Time  \u001b[90m(\u001b[39m\u001b[32m\u001b[1mmean\u001b[22m\u001b[39m ± \u001b[32mσ\u001b[39m\u001b[90m):   \u001b[39m\u001b[32m\u001b[1m13.606 ms\u001b[22m\u001b[39m ± \u001b[32m435.275 μs\u001b[39m  \u001b[90m┊\u001b[39m GC \u001b[90m(\u001b[39mmean ± σ\u001b[90m):  \u001b[39m0.00% ± 0.00%\n",
       "\n",
       "  \u001b[39m \u001b[39m \u001b[39m▁\u001b[39m▁\u001b[39m▇\u001b[39m▁\u001b[39m▄\u001b[34m█\u001b[39m\u001b[39m▃\u001b[32m \u001b[39m\u001b[39m \u001b[39m \u001b[39m \u001b[39m \u001b[39m \u001b[39m \u001b[39m \u001b[39m \u001b[39m \u001b[39m \u001b[39m \u001b[39m \u001b[39m \u001b[39m \u001b[39m \u001b[39m \u001b[39m \u001b[39m \u001b[39m \u001b[39m \u001b[39m \u001b[39m \u001b[39m \u001b[39m \u001b[39m \u001b[39m \u001b[39m \u001b[39m \u001b[39m \u001b[39m \u001b[39m \u001b[39m \u001b[39m \u001b[39m \u001b[39m \u001b[39m \u001b[39m \u001b[39m \u001b[39m \u001b[39m \u001b[39m \u001b[39m \u001b[39m \u001b[39m \u001b[39m \u001b[39m \u001b[39m \u001b[39m \u001b[39m \u001b[39m \u001b[39m \u001b[39m \n",
       "  \u001b[39m▅\u001b[39m▆\u001b[39m█\u001b[39m█\u001b[39m█\u001b[39m█\u001b[39m█\u001b[34m█\u001b[39m\u001b[39m█\u001b[32m▇\u001b[39m\u001b[39m▇\u001b[39m█\u001b[39m▃\u001b[39m▃\u001b[39m▃\u001b[39m▄\u001b[39m▃\u001b[39m▁\u001b[39m▁\u001b[39m▁\u001b[39m▁\u001b[39m▁\u001b[39m▁\u001b[39m▁\u001b[39m▃\u001b[39m▁\u001b[39m▁\u001b[39m▁\u001b[39m▁\u001b[39m▁\u001b[39m▁\u001b[39m▁\u001b[39m▁\u001b[39m▁\u001b[39m▁\u001b[39m▁\u001b[39m▁\u001b[39m▁\u001b[39m▁\u001b[39m▁\u001b[39m▁\u001b[39m▁\u001b[39m▁\u001b[39m▁\u001b[39m▁\u001b[39m▁\u001b[39m▁\u001b[39m▁\u001b[39m▁\u001b[39m▁\u001b[39m▁\u001b[39m▁\u001b[39m▁\u001b[39m▁\u001b[39m▁\u001b[39m▁\u001b[39m▃\u001b[39m▁\u001b[39m▁\u001b[39m▃\u001b[39m \u001b[39m▃\n",
       "  13.2 ms\u001b[90m         Histogram: frequency by time\u001b[39m         15.8 ms \u001b[0m\u001b[1m<\u001b[22m\n",
       "\n",
       " Memory estimate\u001b[90m: \u001b[39m\u001b[33m279.47 KiB\u001b[39m, allocs estimate\u001b[90m: \u001b[39m\u001b[33m33\u001b[39m."
      ]
     },
     "execution_count": 6,
     "metadata": {},
     "output_type": "execute_result"
    }
   ],
   "source": [
    " c = @benchmark richardson_lucy_iterative(img, ipsf; regularizer=nothing, iterations=30) samples=100 evals=1 seconds=60"
   ]
  },
  {
   "cell_type": "code",
   "execution_count": 7,
   "id": "6ba0730f-4915-41bb-a7ee-06e1dbfd2b55",
   "metadata": {},
   "outputs": [
    {
     "data": {
      "image/png": "[encoded data removed]",
      "text/html": [
       "<img src=\"data:image/png;base64,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\">"
      ],
      "text/plain": [
       "71×142 Array{Gray{Float64},2} with eltype Gray{Float64}:\n",
       " Gray{Float64}(0.157111)  …  Gray{Float64}(0.148951)\n",
       " Gray{Float64}(0.160158)     Gray{Float64}(0.0784732)\n",
       " Gray{Float64}(0.165901)     Gray{Float64}(0.0706425)\n",
       " Gray{Float64}(0.17389)      Gray{Float64}(0.0956966)\n",
       " Gray{Float64}(0.183339)     Gray{Float64}(0.13449)\n",
       " Gray{Float64}(0.192696)  …  Gray{Float64}(0.155418)\n",
       " Gray{Float64}(0.200116)     Gray{Float64}(0.148638)\n",
       " Gray{Float64}(0.204646)     Gray{Float64}(0.132615)\n",
       " Gray{Float64}(0.206788)     Gray{Float64}(0.121664)\n",
       " Gray{Float64}(0.207862)     Gray{Float64}(0.117767)\n",
       " Gray{Float64}(0.208877)  …  Gray{Float64}(0.117331)\n",
       " Gray{Float64}(0.210002)     Gray{Float64}(0.116638)\n",
       " Gray{Float64}(0.210987)     Gray{Float64}(0.114559)\n",
       " ⋮                        ⋱  \n",
       " Gray{Float64}(0.20133)      Gray{Float64}(0.114597)\n",
       " Gray{Float64}(0.199497)  …  Gray{Float64}(0.124847)\n",
       " Gray{Float64}(0.197825)     Gray{Float64}(0.134575)\n",
       " Gray{Float64}(0.196366)     Gray{Float64}(0.138218)\n",
       " Gray{Float64}(0.194441)     Gray{Float64}(0.132477)\n",
       " Gray{Float64}(0.191546)     Gray{Float64}(0.123317)\n",
       " Gray{Float64}(0.188016)  …  Gray{Float64}(0.125764)\n",
       " Gray{Float64}(0.184554)     Gray{Float64}(0.162295)\n",
       " Gray{Float64}(0.181489)     Gray{Float64}(0.269691)\n",
       " Gray{Float64}(0.178812)     Gray{Float64}(0.455626)\n",
       " Gray{Float64}(0.176672)     Gray{Float64}(0.5278)\n",
       " Gray{Float64}(0.175451)  …  Gray{Float64}(0.336949)"
      ]
     },
     "execution_count": 7,
     "metadata": {},
     "output_type": "execute_result"
    }
   ],
   "source": [
    "Gray.([img/maximum(img) deconvolved/maximum(deconvolved)])"
   ]
  },
  {
   "cell_type": "code",
   "execution_count": null,
   "id": "16ca2249-e04c-4444-ac48-49496d55cfcd",
   "metadata": {},
   "outputs": [],
   "source": []
  }
 ],
 "metadata": {
  "kernelspec": {
   "display_name": "Julia 1.10.0",
   "language": "julia",
   "name": "julia-1.10"
  },
  "language_info": {
   "file_extension": ".jl",
   "mimetype": "application/julia",
   "name": "julia",
   "version": "1.10.0"
  }
 },
 "nbformat": 4,
 "nbformat_minor": 5
}
