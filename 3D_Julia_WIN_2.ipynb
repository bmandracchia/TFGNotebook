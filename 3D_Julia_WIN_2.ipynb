{
 "cells": [
  {
   "cell_type": "markdown",
   "metadata": {},
   "source": [
    "# 3D Deconvolution Benchmark: Julia"
   ]
  },
  {
   "cell_type": "markdown",
   "metadata": {},
   "source": [
    "---\n",
    "## Setup"
   ]
  },
  {
   "cell_type": "code",
   "execution_count": 1,
   "metadata": {},
   "outputs": [],
   "source": [
    "# using Revise\n",
    "using DeconvOptim, Images, FFTW, Noise, ImageView, BenchmarkTools, TestImages, Colors, ImageIO, ImageShow, Plots"
   ]
  },
  {
   "cell_type": "code",
   "execution_count": 2,
   "metadata": {},
   "outputs": [
    {
     "data": {
      "text/plain": [
       "\"mkl\""
      ]
     },
     "metadata": {},
     "output_type": "display_data"
    }
   ],
   "source": [
    "# FFTW.set_provider!(\"mkl\")\n",
    "FFTW.get_provider()"
   ]
  },
  {
   "cell_type": "code",
   "execution_count": 3,
   "metadata": {},
   "outputs": [],
   "source": [
    "# FFTW.set_num_threads(8)"
   ]
  },
  {
   "cell_type": "code",
   "execution_count": 18,
   "metadata": {},
   "outputs": [],
   "source": [
    "include(\"./lucy_richardson2.jl\");"
   ]
  },
  {
   "cell_type": "markdown",
   "metadata": {},
   "source": [
    "---\n",
    "## Test Image\n",
    "\n"
   ]
  },
  {
   "cell_type": "code",
   "execution_count": 5,
   "metadata": {},
   "outputs": [
    {
     "name": "stderr",
     "output_type": "stream",
     "text": [
      "\u001b[32mLoading: 100%|███████████████████████████████████████████| Time: 0:00:01\u001b[39m\u001b[K\n"
     ]
    }
   ],
   "source": [
    "img = convert(Array{Float32}, channelview(load(\"simple_3d_ball.tif\")));"
   ]
  },
  {
   "cell_type": "code",
   "execution_count": 6,
   "metadata": {},
   "outputs": [],
   "source": [
    "psf = ifftshift(convert(Array{Float32}, channelview(load(\"simple_3d_psf.tif\"))));"
   ]
  },
  {
   "cell_type": "code",
   "execution_count": null,
   "metadata": {},
   "outputs": [],
   "source": [
    "# psf ./= sum(psf)\n",
    "# # create a blurred, noisy version of that image\n",
    "# img_b = conv(img, psf, [1, 2, 3])\n",
    "# img_n = poisson(img_b, 300);\n",
    "# save(\"simple_3d_ball_blurred.tif\", img_n)"
   ]
  },
  {
   "cell_type": "code",
   "execution_count": 7,
   "metadata": {},
   "outputs": [
    {
     "name": "stdout",
     "output_type": "stream",
     "text": [
      "Max value in psf: 1.0\n",
      "Min value in psf: 0.0\n"
     ]
    }
   ],
   "source": [
    "println(\"Max value in psf: \", maximum(psf))\n",
    "println(\"Min value in psf: \", minimum(psf))\n",
    "\n",
    "# Agregar un pequeño valor para evitar divisiones por cero\n",
    "epsilon = eps(Float32)\n",
    "\n",
    "# Asegurarse de que el PSF no tenga valores cero y normalizarlo\n",
    "psf = psf .+ epsilon;\n",
    "psf ./= sum(psf);\n"
   ]
  },
  {
   "cell_type": "code",
   "execution_count": 8,
   "metadata": {},
   "outputs": [],
   "source": [
    "img_n = convert(Array{Float32}, channelview(load(\"simple_3d_ball_blurred.tif\")));"
   ]
  },
  {
   "cell_type": "code",
   "execution_count": 9,
   "metadata": {},
   "outputs": [
    {
     "name": "stdout",
     "output_type": "stream",
     "text": [
      "(64, 64, 64)\n",
      "img_n element type: Float32\n",
      "(64, 64, 64)\n",
      "psf element type: Float32\n"
     ]
    }
   ],
   "source": [
    "println(size(img_n))\n",
    "println(\"img_n element type: \", eltype(img_n))\n",
    "println(size(psf))\n",
    "println(\"psf element type: \", eltype(psf))"
   ]
  },
  {
   "cell_type": "code",
   "execution_count": 10,
   "metadata": {},
   "outputs": [],
   "source": [
    "reg = TV(num_dims=3, sum_dims=[1, 2, 3]);"
   ]
  },
  {
   "cell_type": "code",
   "execution_count": 19,
   "metadata": {},
   "outputs": [
    {
     "name": "stdout",
     "output_type": "stream",
     "text": [
      "(64, 64, 64)\n",
      "res2 element type: Float32\n"
     ]
    }
   ],
   "source": [
    "res2 = deconvRL(img_n, psf, regularizer=reg, iterations=0);\n",
    "println(size(res2))\n",
    "println(\"res2 element type: \", eltype(res2))"
   ]
  },
  {
   "cell_type": "code",
   "execution_count": 15,
   "metadata": {},
   "outputs": [
    {
     "data": {
      "image/png": "[encoded data removed]",
      "text/html": [
       "<img src=\"data:image/png;base64,iVBORw0KGgoAAAANSUhEUgAAAIAAAACACAAAAADmVT4XAAAABGdBTUEAALGPC/xhBQAAAAFzUkdCAK7OHOkAAAAgY0hSTQAAeiYAAICEAAD6AAAAgOgAAHUwAADqYAAAOpgAABdwnLpRPAAABVxJREFUeAHFwdGOG8cRAMDq2V6Sd7ITI/n/X0wgyxKPuzvTEXEQbAP2HaU8TFWaLE2WJkuTpcnSZGmyNFmaLE2WJkuTpcnSZGmyNFmaLE2WJkuTpcnSZGmyNFmaLE2W/m+hhPJj0mTph4RXoRAI5UekydIPCCGEuxIKJRRKKI9Lk6XvEO5CE0LTlEAoQ8cwECiPSZOlhzV3zWKRQiCtynBoroYuDAyPSpOlB4XSLNIqpeYkpGF11ZXUvegOXTOE8r40WXpAoAkpnS1WT86ebE5K96zrDjfPPtnshrvyvjRZekjTNE/SL1blLPCkpMPmJPHZ1S8+CQe6UN6TJkvvCiFccHa2WnHGMOw2DWebXfjJolt9VspwV96SJkvvCKVZLD54tjg7uWmuyrChYViEs2b3wSYMXSjvSZOlN4UQ0tnF4uwiHMJHwybs7habs7tFOiFsuKGUt6TJ0jtKWqwuLk4uftNsbjabsiMtwtXFcLJ4FvhZ0w3lbWmy9KayWKSLk5NmeLH4aDN0XRmGskgDi2ZXftY1aRdC+TshTZbeEF6drD7oyk341RVdNzTDZnUYmjKc8exw8UVaDIHyTSivQilpsvQnoRBKuAupSam7CFeHEHY7hi40u3LRHHZp92JxcXbTpN0flW8KIU2WBMo3gfIqBM7SsxQ2m5sX3ZB2d6VrwrBYLZph0Q1nFze7UAKFUEJ5FUiTJSWEEkohBEogLELTLHblxbA7lAMlDIFFaZpVKOXJzUk42RyGV6EEwu/SZBkIlEK4KyEQSjk5KWdXL7ovytCVwNAQ0rPwAeEiHD74r5OPmhLKXaGEEr5Jk6WvCqEESgiUUJrAYbUJi0V6EZpwCK8WafNPqTSHRTic3Cy6xRBKKAQCoVDSZEkod4ESSgiBQBiazbPdrjsMA7umNEPThIuz1bAqw2LY3HVDGMIQKM0Qyqs0WVJ+Fwh3pSya0KxOupOroaTDoQlloOxW4epwsVuUn1ytvmiaZigh3IUS7kIJabKkhFcl3BVKGJqw6w7PCs2T39w1h9KEEA43i8WudIub1aaEQ1dCKYESXg3NkCZLAoUQKIQSSjMcLrphd7Y6+SwMgSYUSum68MVZWqy6YbcbQvldCXeFMIQ0WRZCKBRCIRCGZth1ZXVzcXhxlja7ZrgL5RC61Cy6xebJYdgUyl0ogXIXSihpsvRVIbwqoRAIDIfN5ouTQ3hyKE0qiy6EEkogNJRnnx2GoSMUyl35szRZ+ioUyqtyV+5C6TYv0io9G1aLFwOhBJrQNE3TXCw+2RxeFEopr8o3hUKaLH1VKH8UCqGUodt8ltLi5NnQbG5KKk0hhYsPWCxWH20O3VDKXwslTZb+UvlmGHY3q25VTpquDDSb0JyQeLYqZ5uPDje7w1D+TiFNlt5QCMNhdxUIF004W9w0qYTV5iKtnuxevBiuNt1AKH8vTZbeUUp3eJFunu1OWNw8++RZaVb/cuAfrg785uZwM5QS3pImS+8aml35jG61KOEnN/+2u3gRyslwdeh+9cXNZhjuylvSZOkBZdjRdE8OPwtXZ4tmSAtuyheHm5sXu8NQynvSZOkBhbJLu93Z4azZrc527LpDd3OzGTbdUB6RJksPKWG4CaXbHMrq5D8++CKUw6Y77IYDpTwiTZYeVMKu6brdLpzddFerza6jO5ShlEelydKDQqFwaLrmUGgGShkYBsrj0mTpQeWuUMqrEArNUMqr8j3SZOk7FUogDKEwhIFQvleaLP2QQgnDH5XvlyZL/4fyTflRabI0WZosTZYmS5OlydJkabI0WZosTZYmS5OlydJkabI0WZosTZYmS5Olyf4He5CFIWG0DmQAAAAASUVORK5C\">"
      ],
      "text/plain": [
       "64×64 reinterpret(reshape, Gray{Float32}, ::Matrix{Float32}) with eltype Gray{Float32}:\n",
       " Gray{Float32}(0.0)  Gray{Float32}(0.0)  …  Gray{Float32}(0.0)\n",
       " Gray{Float32}(0.0)  Gray{Float32}(0.0)     Gray{Float32}(0.0)\n",
       " Gray{Float32}(0.0)  Gray{Float32}(0.0)     Gray{Float32}(0.0)\n",
       " Gray{Float32}(0.0)  Gray{Float32}(0.0)     Gray{Float32}(0.0)\n",
       " Gray{Float32}(0.0)  Gray{Float32}(0.0)     Gray{Float32}(0.0)\n",
       " Gray{Float32}(0.0)  Gray{Float32}(0.0)  …  Gray{Float32}(0.0)\n",
       " Gray{Float32}(0.0)  Gray{Float32}(0.0)     Gray{Float32}(0.0)\n",
       " Gray{Float32}(0.0)  Gray{Float32}(0.0)     Gray{Float32}(0.0)\n",
       " Gray{Float32}(0.0)  Gray{Float32}(0.0)     Gray{Float32}(0.0)\n",
       " Gray{Float32}(0.0)  Gray{Float32}(0.0)     Gray{Float32}(0.0)\n",
       " ⋮                                       ⋱  \n",
       " Gray{Float32}(0.0)  Gray{Float32}(0.0)  …  Gray{Float32}(0.0)\n",
       " Gray{Float32}(0.0)  Gray{Float32}(0.0)     Gray{Float32}(0.0)\n",
       " Gray{Float32}(0.0)  Gray{Float32}(0.0)     Gray{Float32}(0.0)\n",
       " Gray{Float32}(0.0)  Gray{Float32}(0.0)     Gray{Float32}(0.0)\n",
       " Gray{Float32}(0.0)  Gray{Float32}(0.0)     Gray{Float32}(0.0)\n",
       " Gray{Float32}(0.0)  Gray{Float32}(0.0)  …  Gray{Float32}(0.0)\n",
       " Gray{Float32}(0.0)  Gray{Float32}(0.0)     Gray{Float32}(0.0)\n",
       " Gray{Float32}(0.0)  Gray{Float32}(0.0)     Gray{Float32}(0.0)\n",
       " Gray{Float32}(0.0)  Gray{Float32}(0.0)     Gray{Float32}(0.0)"
      ]
     },
     "metadata": {},
     "output_type": "display_data"
    }
   ],
   "source": [
    "colorview(Gray, img_n[:, :, 32])"
   ]
  },
  {
   "cell_type": "code",
   "execution_count": 16,
   "metadata": {},
   "outputs": [
    {
     "data": {
      "image/png": "[encoded data removed]",
      "text/html": [
       "<img src=\"data:image/png;base64,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\">"
      ],
      "text/plain": [
       "64×64 reinterpret(reshape, Gray{Float32}, ::Matrix{Float32}) with eltype Gray{Float32}:\n",
       " Gray{Float32}(0.0)  Gray{Float32}(0.0)  …  Gray{Float32}(0.0)\n",
       " Gray{Float32}(0.0)  Gray{Float32}(0.0)     Gray{Float32}(0.0)\n",
       " Gray{Float32}(0.0)  Gray{Float32}(0.0)     Gray{Float32}(0.0)\n",
       " Gray{Float32}(0.0)  Gray{Float32}(0.0)     Gray{Float32}(0.0)\n",
       " Gray{Float32}(0.0)  Gray{Float32}(0.0)     Gray{Float32}(0.0)\n",
       " Gray{Float32}(0.0)  Gray{Float32}(0.0)  …  Gray{Float32}(0.0)\n",
       " Gray{Float32}(0.0)  Gray{Float32}(0.0)     Gray{Float32}(0.0)\n",
       " Gray{Float32}(0.0)  Gray{Float32}(0.0)     Gray{Float32}(0.0)\n",
       " Gray{Float32}(0.0)  Gray{Float32}(0.0)     Gray{Float32}(0.0)\n",
       " Gray{Float32}(0.0)  Gray{Float32}(0.0)     Gray{Float32}(0.0)\n",
       " ⋮                                       ⋱  \n",
       " Gray{Float32}(0.0)  Gray{Float32}(0.0)  …  Gray{Float32}(0.0)\n",
       " Gray{Float32}(0.0)  Gray{Float32}(0.0)     Gray{Float32}(0.0)\n",
       " Gray{Float32}(0.0)  Gray{Float32}(0.0)     Gray{Float32}(0.0)\n",
       " Gray{Float32}(0.0)  Gray{Float32}(0.0)     Gray{Float32}(0.0)\n",
       " Gray{Float32}(0.0)  Gray{Float32}(0.0)     Gray{Float32}(0.0)\n",
       " Gray{Float32}(0.0)  Gray{Float32}(0.0)  …  Gray{Float32}(0.0)\n",
       " Gray{Float32}(0.0)  Gray{Float32}(0.0)     Gray{Float32}(0.0)\n",
       " Gray{Float32}(0.0)  Gray{Float32}(0.0)     Gray{Float32}(0.0)\n",
       " Gray{Float32}(0.0)  Gray{Float32}(0.0)     Gray{Float32}(0.0)"
      ]
     },
     "metadata": {},
     "output_type": "display_data"
    }
   ],
   "source": [
    "colorview(Gray, res2[:, :, 32])"
   ]
  },
  {
   "cell_type": "code",
   "execution_count": 20,
   "metadata": {},
   "outputs": [
    {
     "name": "stdout",
     "output_type": "stream",
     "text": [
      "(64, 64, 64)\n",
      "res element type: Float32\n"
     ]
    }
   ],
   "source": [
    "res = deconvRL(img_n, psf, regularizer=nothing, iterations=30);\n",
    "\n",
    "println(size(res))\n",
    "println(\"res element type: \", eltype(res))"
   ]
  },
  {
   "cell_type": "code",
   "execution_count": 22,
   "metadata": {},
   "outputs": [
    {
     "data": {
      "text/plain": [
       "BenchmarkTools.Trial: 100 samples with 1 evaluation.\n",
       " Range \u001b[90m(\u001b[39m\u001b[36m\u001b[1mmin\u001b[22m\u001b[39m … \u001b[35mmax\u001b[39m\u001b[90m):  \u001b[39m\u001b[36m\u001b[1m80.713 ms\u001b[22m\u001b[39m … \u001b[35m102.216 ms\u001b[39m  \u001b[90m┊\u001b[39m GC \u001b[90m(\u001b[39mmin … max\u001b[90m): \u001b[39m0.00% … 12.44%\n",
       " Time  \u001b[90m(\u001b[39m\u001b[34m\u001b[1mmedian\u001b[22m\u001b[39m\u001b[90m):     \u001b[39m\u001b[34m\u001b[1m83.713 ms               \u001b[22m\u001b[39m\u001b[90m┊\u001b[39m GC \u001b[90m(\u001b[39mmedian\u001b[90m):    \u001b[39m0.00%\n",
       " Time  \u001b[90m(\u001b[39m\u001b[32m\u001b[1mmean\u001b[22m\u001b[39m ± \u001b[32mσ\u001b[39m\u001b[90m):   \u001b[39m\u001b[32m\u001b[1m84.911 ms\u001b[22m\u001b[39m ± \u001b[32m  3.554 ms\u001b[39m  \u001b[90m┊\u001b[39m GC \u001b[90m(\u001b[39mmean ± σ\u001b[90m):  \u001b[39m0.67% ±  1.65%\n",
       "\n",
       "  \u001b[39m \u001b[39m \u001b[39m \u001b[39m \u001b[39m \u001b[39m \u001b[39m \u001b[39m \u001b[39m \u001b[39m▂\u001b[39m█\u001b[34m▂\u001b[39m\u001b[39m \u001b[39m \u001b[39m \u001b[39m \u001b[32m \u001b[39m\u001b[39m \u001b[39m \u001b[39m \u001b[39m \u001b[39m \u001b[39m \u001b[39m \u001b[39m \u001b[39m \u001b[39m \u001b[39m \u001b[39m \u001b[39m \u001b[39m \u001b[39m \u001b[39m \u001b[39m \u001b[39m \u001b[39m \u001b[39m \u001b[39m \u001b[39m \u001b[39m \u001b[39m \u001b[39m \u001b[39m \u001b[39m \u001b[39m \u001b[39m \u001b[39m \u001b[39m \u001b[39m \u001b[39m \u001b[39m \u001b[39m \u001b[39m \u001b[39m \u001b[39m \u001b[39m \u001b[39m \u001b[39m \u001b[39m \u001b[39m \u001b[39m \u001b[39m \n",
       "  \u001b[39m▄\u001b[39m▃\u001b[39m▄\u001b[39m▁\u001b[39m▇\u001b[39m█\u001b[39m▇\u001b[39m▆\u001b[39m▅\u001b[39m█\u001b[39m█\u001b[34m█\u001b[39m\u001b[39m▅\u001b[39m▄\u001b[39m█\u001b[39m▆\u001b[32m▃\u001b[39m\u001b[39m▅\u001b[39m▅\u001b[39m▄\u001b[39m▃\u001b[39m▄\u001b[39m▄\u001b[39m▃\u001b[39m▃\u001b[39m▁\u001b[39m▃\u001b[39m▁\u001b[39m▃\u001b[39m▄\u001b[39m▁\u001b[39m▃\u001b[39m▁\u001b[39m▁\u001b[39m▃\u001b[39m▁\u001b[39m▃\u001b[39m▁\u001b[39m▃\u001b[39m▃\u001b[39m▁\u001b[39m▁\u001b[39m▁\u001b[39m▁\u001b[39m▁\u001b[39m▁\u001b[39m▁\u001b[39m▁\u001b[39m▃\u001b[39m▁\u001b[39m▁\u001b[39m▃\u001b[39m▁\u001b[39m▁\u001b[39m▁\u001b[39m▁\u001b[39m▁\u001b[39m▃\u001b[39m▁\u001b[39m▃\u001b[39m \u001b[39m▃\n",
       "  80.7 ms\u001b[90m         Histogram: frequency by time\u001b[39m         96.8 ms \u001b[0m\u001b[1m<\u001b[22m\n",
       "\n",
       " Memory estimate\u001b[90m: \u001b[39m\u001b[33m7.10 MiB\u001b[39m, allocs estimate\u001b[90m: \u001b[39m\u001b[33m49\u001b[39m."
      ]
     },
     "metadata": {},
     "output_type": "display_data"
    }
   ],
   "source": [
    "@benchmark deconvRL(img_n, psf, regularizer=nothing, iterations=30) samples=100 evals=1 seconds=60"
   ]
  },
  {
   "cell_type": "code",
   "execution_count": null,
   "metadata": {},
   "outputs": [
    {
     "data": {
      "text/plain": [
       "BenchmarkTools.Trial: 100 samples with 1 evaluation.\n",
       " Range \u001b[90m(\u001b[39m\u001b[36m\u001b[1mmin\u001b[22m\u001b[39m … \u001b[35mmax\u001b[39m\u001b[90m):  \u001b[39m\u001b[36m\u001b[1m82.360 ms\u001b[22m\u001b[39m … \u001b[35m121.498 ms\u001b[39m  \u001b[90m┊\u001b[39m GC \u001b[90m(\u001b[39mmin … max\u001b[90m): \u001b[39m0.00% … 19.72%\n",
       " Time  \u001b[90m(\u001b[39m\u001b[34m\u001b[1mmedian\u001b[22m\u001b[39m\u001b[90m):     \u001b[39m\u001b[34m\u001b[1m85.850 ms               \u001b[22m\u001b[39m\u001b[90m┊\u001b[39m GC \u001b[90m(\u001b[39mmedian\u001b[90m):    \u001b[39m0.84%\n",
       " Time  \u001b[90m(\u001b[39m\u001b[32m\u001b[1mmean\u001b[22m\u001b[39m ± \u001b[32mσ\u001b[39m\u001b[90m):   \u001b[39m\u001b[32m\u001b[1m87.777 ms\u001b[22m\u001b[39m ± \u001b[32m  5.443 ms\u001b[39m  \u001b[90m┊\u001b[39m GC \u001b[90m(\u001b[39mmean ± σ\u001b[90m):  \u001b[39m0.95% ±  2.24%\n",
       "\n",
       "  \u001b[39m \u001b[39m \u001b[39m \u001b[39m \u001b[39m▁\u001b[39m█\u001b[39m▁\u001b[39m▃\u001b[34m \u001b[39m\u001b[39m \u001b[39m \u001b[39m▁\u001b[32m \u001b[39m\u001b[39m \u001b[39m \u001b[39m \u001b[39m \u001b[39m \u001b[39m \u001b[39m \u001b[39m \u001b[39m \u001b[39m \u001b[39m \u001b[39m \u001b[39m \u001b[39m \u001b[39m \u001b[39m \u001b[39m \u001b[39m \u001b[39m \u001b[39m \u001b[39m \u001b[39m \u001b[39m \u001b[39m \u001b[39m \u001b[39m \u001b[39m \u001b[39m \u001b[39m \u001b[39m \u001b[39m \u001b[39m \u001b[39m \u001b[39m \u001b[39m \u001b[39m \u001b[39m \u001b[39m \u001b[39m \u001b[39m \u001b[39m \u001b[39m \u001b[39m \u001b[39m \u001b[39m \u001b[39m \u001b[39m \u001b[39m \u001b[39m \n",
       "  \u001b[39m▅\u001b[39m▄\u001b[39m▅\u001b[39m▄\u001b[39m█\u001b[39m█\u001b[39m█\u001b[39m█\u001b[34m▅\u001b[39m\u001b[39m▃\u001b[39m▆\u001b[39m█\u001b[32m▅\u001b[39m\u001b[39m▆\u001b[39m▆\u001b[39m▄\u001b[39m▄\u001b[39m▁\u001b[39m▃\u001b[39m▄\u001b[39m▅\u001b[39m▃\u001b[39m▁\u001b[39m▃\u001b[39m▁\u001b[39m▃\u001b[39m▃\u001b[39m▁\u001b[39m▄\u001b[39m▃\u001b[39m▁\u001b[39m▁\u001b[39m▃\u001b[39m▁\u001b[39m▁\u001b[39m▃\u001b[39m▁\u001b[39m▁\u001b[39m▁\u001b[39m▄\u001b[39m▁\u001b[39m▁\u001b[39m▁\u001b[39m▁\u001b[39m▁\u001b[39m▁\u001b[39m▁\u001b[39m▁\u001b[39m▁\u001b[39m▁\u001b[39m▁\u001b[39m▁\u001b[39m▁\u001b[39m▁\u001b[39m▁\u001b[39m▁\u001b[39m▁\u001b[39m▁\u001b[39m▁\u001b[39m▃\u001b[39m \u001b[39m▃\n",
       "  82.4 ms\u001b[90m         Histogram: frequency by time\u001b[39m          109 ms \u001b[0m\u001b[1m<\u001b[22m\n",
       "\n",
       " Memory estimate\u001b[90m: \u001b[39m\u001b[33m7.10 MiB\u001b[39m, allocs estimate\u001b[90m: \u001b[39m\u001b[33m110\u001b[39m."
      ]
     },
     "metadata": {},
     "output_type": "display_data"
    }
   ],
   "source": [
    "@benchmark deconvRL(img_n, psf, regularizer=nothing, iterations=30) samples=100 evals=1 seconds=60"
   ]
  },
  {
   "cell_type": "code",
   "execution_count": 23,
   "metadata": {},
   "outputs": [
    {
     "name": "stdout",
     "output_type": "stream",
     "text": [
      "Max value in res2: 0.2627451\n",
      "Min value in res2: 0.0\n",
      "Max value in res: 0.2627451\n",
      "Min value in res: 0.0\n",
      "Max value in img_n: 0.2627451\n",
      "Min value in img_n: 0.0\n"
     ]
    }
   ],
   "source": [
    "# Verificar valores mínimos y máximos en las matrices resultantes\n",
    "println(\"Max value in res2: \", maximum(res2))\n",
    "println(\"Min value in res2: \", minimum(res2))\n",
    "println(\"Max value in res: \", maximum(res))\n",
    "println(\"Min value in res: \", minimum(res))\n",
    "println(\"Max value in img_n: \", maximum(img_n))\n",
    "println(\"Min value in img_n: \", minimum(img_n))\n"
   ]
  },
  {
   "cell_type": "code",
   "execution_count": 24,
   "metadata": {},
   "outputs": [
    {
     "data": {
      "image/png": "[encoded data removed]",
      "text/html": [
       "<img src=\"data:image/png;base64,iVBORw0KGgoAAAANSUhEUgAAAQAAAACACAAAAADB3ujWAAAABGdBTUEAALGPC/xhBQAAAAFzUkdCAK7OHOkAAAAgY0hSTQAAeiYAAICEAAD6AAAAgOgAAHUwAADqYAAAOpgAABdwnLpRPAAAGb9JREFUeAHlwV2PZdd5nuv7eceYc661qpukSUdNUARhmSITBxGMeANB/puAfab/FuQggKEgcUw6MmiKIRsRye76WGvOMcb77GJv2equ/qqmwaO6rsodV7njKndc5Y6r3HGVO65yx1XuuModV7njKndc5Y6r3HGVn5os868gy/wryDIvV/npCJARMj+GABkh82MIkBEyL1X5yegaWMYylnkzugaWsYxl3oyugWUsY5kXqbyawLw5gUKKsJBzkIkwtyVQSBEWcg4yEea2BAopwkLOQSbCPK/ycoooIefING8kIEqpEnVy9jjmUJLcVkCUUiXq5OxxzKEkua2AKKVK1MnZ45hDSfIClZeJur93/2xXxuny/OLYk9uTo9Sp1phVczoO13EafUTK3IYcpU61xqya03G4jtPoI1LmNuQodao1ZtWcjsN1nEYfkTI3VV5M072fffjBu2eT3C6//erLhxfN3I4I1bqUab/st9njMEZfD+dbSzCvJ0K1LmXaL/tt9jiM0dfD+dYSzOuJUK1LmfbLfps9DmP09XC+tQRzU+WFYv/gl5/8rBwvTqPs7v35xw8/+/ybY3I7EbGv70xexN61b3Pl8vjOuTpD5vUiYl/fmbyIvWvf5srl8Z1zdYbM60XEvr4zeRF7177NlcvjO+fqDJkbKi9S7v3FX/+lvvnim0drxvL2g48e/Jv3//YfLwa3IGnHskwTC5ltC5at6V4Z06WdYF5N0o5lmSYWMtsWLFvTvTKmSzvBvJqkHcsyTSxkti1YtqZ7ZUyXdoJ5RuUF4t4v/9OHf/if//CHq54Q9X///cd/9W/P6ufnyWvJUcrZoSzzGkfnRpBFS7SzTTlkXkOOUs4OZZnXODo3gixaop1tyiHzGnKUcnYoy7zG0bkRZNES7WxTDpkbKs/T/i/+04df/LffnTcbGH29+Pb//s1H9M+vzGtIqsuuLDt1PcpNDcq2QKkz2lixeRVJddmVZaeuR7mpQdkWKHVGGys2ryKpLruy7NT1KDc1KNsCpc5oY8XmGZXnTQ/++sMv/svvLtM8YW/fbRsf/fX5lxuv41qm3W7eXcS2bpsbtei4y7kcxP0YaV7NtUy73by7iG3dNjdq0XGXczmI+zHSvJprmXa7eXcR27ptbtSi4y7nchD3Y6R5VuU5ce+Xf/mH//a7i+RfeFz8bj77y6+//z55NZdSd/MceSqPthzDmS41KdF8f0RtknmKzDNcSt3Nc+SpPNpyDGe61KRE8/0RtUnmKTLPcCl1N8+Rp/JoyzGc6VKTEs33R9Qmmaeo8pz6s0/0P393mTwtL3/35//5ky8uNl5JwDydDa96fGSMjNymnuFcOPTdVS0pzDUZkM0zBMzT2fCqx0fGyMht6hnOhUPfXdWSwlyTAdk8Q8A8nQ2venxkjIzcpp7hXDj03VUtKcw1GZBduUn7D3/2zT+cJ8/K83/4xYMP/08zLyQjC1Sj1rHTsUutkUPRvIveajuV3bJGbTxhrhmZJ2RkgWrUOnY6dqk1ciiad9FbbaeyW9aojSfMNSPzhIwsUI1ax07HLrVGDkXzLnqr7VR2yxq18YS5ZlS5Ke59UL74QzPPcvvDFx98cO9icIMw14QBiaUeqrZtPY2sDTxCWaYSWUYuu7XJwsgyIBDmmjAgsdRD1batp5G1gUcoy1Qiy8hltzZZGFkGBMJcEwYklnqo2rb1NLI28AhlmUpkGbns1iYLI8uAqNwU9989fnNlnvGbX+Orb47v3n84uMGSZSNhoaKI0nzK1t2xUhRHTLL366x56wnIQjxhybKRsFBRRGk+ZevuWCmKIybZ+3XWvPUEZCGesGTZSFioKKI0n7J1d6wUxRGT7P06a956ArIQP6jcVM7OLh5187Tf8Bt+3R9d3DsrjWcJYSOwhOx59nI8jSvnsMhA9aAztFM/+25+FJbBWBbXhLARWEL2PHs5nsaVc1hkoHrQGdqpn303PwrLYCyLa0LYCCwhe569HE/jyjksMlA96Azt1M++mx+FZTCWxbXKDYrddFqTp/2Ga7/5f9fTn+1C5gYjC0tYDtGnTaXUk0JdQKnb29XRi/q8llFSlhFCxsLIwhKWQ/RpUyn1pFAXUOr2dnX0oj6vZZSUZYSQsTCysITlEH3aVEo9KdQFlLq9XR29qM9rGSVlGSFkXLlJRSN5kRwq4iYZhGVJCGVsh9ZGz6SFIyO0W6acnCU3GKlUCkfKXJNBWJaEUMZ2aG30TFo4MkK7ZcrJWXKDkUqlcKTMNRmEZUkIZWyH1kbPpIUjI7RbppycJTcYqVQKR8pA5SYPl+BFoniYm8wPhMAuoZjmMR/TtfeQE7dJx75rxfeO01VEpCWQBbIwPxACu4Rimsd8TNfeQ07cJh37rhXfO05XEZGWQBbIwvxACOwSimke8zFdew85cZt07LtWfO84XUVEWgJZIKtyg/PUdksMnvLr3wC/npZdO6W5wQIsMFaG2ugHE/sLiO6Q1NdSmkdZp83qw7KFBWSkLMACY2WojX4wsb+A6A5JfS2leZR12qw+LFtYQEbKAiwwVoba6AcT+wuI7pDU11KaR1mnzerDsoUFZGTlpnF5ee/t2s1Tfv2bX6P69r3Ly8FNwkgYWY7su5FtmeZLpQgZewxdLbVMI1tLmR9YYJRCGAkjy5F9N7It03ypFCFjj6GrpZZpZGsp8wMLjFIII2FkObLvRrZlmi+VImTsMXS11DKNbC1lfmCBUapyU55/++cP/vdqnvZr0OHB/p/OkxuMZIyMUEa24Wnd9dNStxYJcteoUUbZ9j03Y5CFQZZBMkZGKCPb8LTu+mmpW4sEuWvUKKNs+56bMcjCIMsgGSMjlJFteFp3/bTUrUWC3DVqlFG2fc/NGGRhkOXKTXnx1ccf/f3FZp6h6b2PxlcXyXOMAMsIkX3bruaufXdUlyFZFgp8uOyZAxmD+WdGgGWEyL5tV3PXvjuqy5AsCwU+XPbMgYzB/DMjwDJCZN+2q7lr3x3VZUiWhQIfLnvmQMZg/n+Vm3z88uGDj7/9bvCMuP/xg4dfHs1zZAwYDPLYTnWqh5zKKZFFKH6wK+dbPxnbgLlmDMgYMBjksZ3qVA85lVMii1D8YFfOt34ytgFzzRiQMWAwyGM71akeciqnRBah+MGunG/9ZGwD5poxlef0h5/9m7/6v9tF8pQ4+8Vf+bOHnecZ84SM7BzbZa1lPmRsq6vDVO3OKGV6tPWRNn8igzFPyMjOsV3WWuZDxra6OkzV7oxSpkdbH2nzJzIY84SM7BzbZa1lPmRsq6vDVO3OKGV6tPWRNn8iV56TF5+//2//ZvvdZZo/Upz94m/e+1+fXySvYK5ltnUak+cYTmJTzFQOk5ftUV9bT/MU8xRzLbOt05g8x3ASm2Kmcpi8bI/62nqap5inmGuZbZ3G5DmGk9gUM5XD5GV71NfW0zzFVJ7Xvvnbs4+Yf3febK5J0/1f/M1HX/7tN43XMMrejkK70FLWqNa07eq0b6dTHreRyLycUfZ2FNqFlrJGtaZtV6d9O53yuI1E5uWMsrej0C60lDWqNW27Ou3b6ZTHbSQyT6s8z8d/rHx09uf/8IernhD18N7Hf/Xel//1H4/mtezRT3U9tJmyHs4PjundzlvHzsXa17TFK9mjn+p6aDNlPZwfHNO7nbeOnYu1r2mLV7JHP9X10GbKejg/OKZ3O28dOxdrX9MWz6i8QF583v/6L//zL7745tGasbz94KMH/l9/+48XyS1kNF8ypmLdW99ru5M857GPx1frlgnm1TKaLxlTse6t77XdSZ7z2Mfjq3XLBPNqGc2XjKlY99b32u4kz3ns4/HVumWCeUblRcb55+dff/Lgg+PFaZTdvf14+Nnn3xyTW3E2Yuz7fR2XElkLq6/6up5aT5vXcjZi7Pt9HZcSWQurr/q6nlpPm9dyNmLs+30dlxJZC6uv+rqeWk+bGyovlFdffv/Fhx+8e+/P5Hb5T199+fCimdsxbrW1pS/RpqXRRh/ruuU20tyCcautLX2JNi2NNvpY1y23keYWjFttbelLtGlptNHHum65jTTPqbyYt+8v/s+9+2e7Mk6X5xfHntyalas8tu5p/vbsSu7b6C07Nrdh5SqPrXuavz27kvs2esuOzW1Yucpj657mb8+u5L6N3rJj85zKy+TWLh6WkHNkmjdhtRijNS3rOE5bG4zutLklq8UYrWlZx3Ha2mB0p80tWS3GaE3LOo7T1gajO21eoPJyHqMJzJuSMT1GdBOJnWRibkvG9BjRTSR2kom5LRnTY0Q3kdhJJuZFKq9mfgSDsQHJRNqAuTWDsQHJRNqAuTWDsQHJRNqAeaHKT8RYKGVSicwbMhZKmVQi84aMhVImlci8ROWnY6zkCfMjGCt5wvwIxkqeMC9T+UmZa+ZHM9fMj2aumVeo3HGVO65yx1XuuModV7njKndc5Y6r3HGVO65yx1XuuModV7njKndc5Y6r3HGVO65yx1XuuModV7njKndc5ackC/PjycL8eLIwr1T5icj8kQDzpmT+SIB5UzJ/JMC8TOUnYgQEFsgyb8gICCyQZd6QERBYIMu8ROUnIQtEsUNp5DDm9mSBKHYojRzG3J4sEMUOpZHDmBep/BSEJCiE5JLK5Jq5LSEJCiG5pDK5Zm5LSIJCSC6pTK6ZF6i8injCvAkZR0gF9kOJ8OgeGsLcgowjpAL7oUR4dA8NYW5BxhFSgf1QIjy6h4Ywz6m8lFRKLfLoY9jcmoXCMZWYqlX6fEpOGTbJbVgoHFOJqVqlz6fklGGT3IaFwjGVmKpV+nxKThk2yfMqL6GYDm+9fW8febx49PiqpbklIWnHYSaXhbaf92ufT5tHCsxrCUk7DjO5LLT9vF/7fNo8UmBeS0jacZjJZaHt5/3a59PmkQJzQ+XFNN1/8OEH7x2q3K/+8NWX35w3c0tSTIumZZHZcWJZ+qm2Ey3TwryOFNOiaVlkdpxYln6q7UTLtDCvI8W0aFoWmR0nlqWfajvRMi3MMyovFLuf/fKTB9Pp8jTK7uzdv/jms88fnpLbkDTVZbfPfc1GrovUF7wOMcZIXkfSVJfdPvc1G7kuUl/wOsQYI3kdSVNddvvc12zkukh9wesQY4zkhsqLxOHDX326//b3X39/zNi/8/7Pf/7un/32y6vk9QS1lnma59Gq5qZLTTHm4aXEmgqbVxLUWuZpnkermpsuNcWYh5cSaypsXklQa5mneR6tam661BRjHl5KrKmweUblBbT78P/5tP+Pz75+vKUV81vvf/Lxf5j54mheS0SZ79X9ZLz1k9WX08I8LZEXndqQeRURZb5X95Px1k9WX04L87REXnRqQ+ZVRJT5Xt1Pxls/WX05LczTEnnRqQ2Zp1Wep+lnv/r09Nu/e3gcxmK9evTd4199up2+auY15FLLXHfL8NrGNDbXU3haFdNpns5OImVeTi61zHW3DK9tTGNzPYWnVTGd5unsJFLm5eRSy1x3y/DaxjQ211N4WhXTaZ7OTiJlnlJ5Xtz/5af9t799uNqAsS9a4z9++t3594NXklGNQ43SNEbGsXs51sh9lL333l+V0sXLyajGoUZpGiPj2L0ca+Q+yt57769K6eLlZFTjUKM0jZFx7F6ONXIfZe+991eldPGMynM0Pfhk/z/+7uGa/JG9Pvy7t/79J19dpnkVC1Fyv/coV2qb5fPSqW1xXOymXkPCyLyYhSi533uUK7XN8nnp1LY4LnZTryFhZF7MQpTc7z3Kldpm+bx0alscF7up15AwMv+i8hwdPnzw7WcP1+RPcn342fsPPvx6MzcILDCyrCdmV6Jv2YZ6lMypR5vP79N32ccAI7CweMICI8t6YnYl+pZtqEfJnHq0+fw+fZd9DDACC4snLDCyrCdmV6Jv2YZ6lMypR5vP79N32ccAI7CwgMpzylsfTL//+mie5uPXv3/vg7fOk+dYXJNkCU9xNs/RtjWaa0sNCcuRLaZjDUonLCOQjIXFNUmW8BRn8xxtW6O5ttSQsBzZYjrWoHTCMgLJWFhck2QJT3E2z9G2NZprSw0Jy5EtpmMNSicsI5CMKzepvP3e6evHwzzN4/HXn7739tfdPEvCCHAYEZ7qYeooynw5svQosCvu82z223IsmbIDLIyEMAIcRoSnepg6ijJfjiw9CuyK+zyb/bYcS6bsAAsjIYwAhxHhqR6mjqLMlyNLjwK74j7PZr8tx5IpO8DCSJXn1HuHy+838yxv31+e3asrN4gyCIMiTWgqZSmt53pSqHmiT6VymNrQPo9Uh5Esh0wdMmUQBkWa0FTKUlrP9aRQ80SfSuUwtaF9HqkOI1kOmTpkyiAMijShqZSltJ7rSaHmiT6VymFqQ/s8Uh1GshwydajynLKvp2NyUx5Pb+8LN6k4BMpwhAktWg+1HnM3PEq3Ss6eS5nC1Lo7dQIcWckyHKniECjDESa0aD3Ueszd8CjdKjl7LmUKU+vu1AlwZCXLcKSKQ6AMR5jQovVQ6zF3w6N0q+TsuZQpTK27UyfAkZUsw5GV5yg00uZZdg6FuKk4uiR7FDmrou8Xq7WlhTIkPKNJ18p8VS+qFB5BwSVrr5KjS7JHkbMq+n6xWltaKEPCM5p0rcxX9aJK4REUXLL2Kjm6JHsUOaui7xertaWFMiQ8o0nXynxVL6oUHkHBJWuvqjzH6RKSeYYUxWluSvWSOKaRgpSzbXs5Emf1NZy17UZtZ49HgSStNOGOIm31kjimkYKUs217ORJn9TWcte1GbWePR4EkrTThjiJt9ZI4ppGClLNtezkSZ/U1nLXtRm1nj0eBJK004Y4iXXnOOPbdPrgp9rt+HDzH7sg2CHpJS6eqiDYYroOyTa2e5lM9LeuWPTxiCOMMp13sjmyDoJe0dKqKaIPhOijb1OppPtXTsm7ZwyOGMM5w2sXuyDYIeklLp6qINhiug7JNrZ7mUz0t65Y9PGII4wynXXlOv7g6e2dezTM0v3N2ddG5KY0ySOTEJZ3bWOy1exBO5ZhyM5r6nkFuWzJI0YO0HWmUQSInLuncxmKv3YNwKseUm9HU9wxy25JBih6k7UijDBI5cUnnNhZ77R6EUzmm3IymvmeQ25YMUvQgbUflJo9Hf3j3/beubJ6i8tb7u396NMwNiUzKGMsjumKd7Zg8xrAst6DrxORjXrbEiTFKbJQgkzLG8oiuWGc7Jo8xLMst6Dox+ZiXLXFijBIbJcikjLE8oivW2Y7JYwzLcgu6Tkw+5mVLnBijxEZZec54/NVf/Pz9RxfmKdq///P21ePBTcYgA5ZxUvFx3vWtlNoVgwBGTGb05jW7DVi2wAYMMmAZJxUf513fSqldMQhgxGRGb16z24BlC2zAIAOWcVLxcd71rZTaFYMARkxm9OY1uw1YtsCm8hxfffnNzz/5rq3Jv4jlZ5+8+/svr8wLGRBG4GyrdltZwn3fc6IxR6nZDyldjbQtg8Fck7lmQBiBs63abWUJ933PicYcpWY/pHQ10rYMBnNN5poBYQTOtmq3lSXc9z0nGnOUmv2Q0tVI2zIYzDVVnuP2zWfvfvy4PVxtnpCWn/27j4+ffdPMSxmwzJgu4mJfxaDPq1SnnDy91Xr2S9yNzJ+Yf2bAMmO6iIt9FYM+r1KdcvL0VuvZL3E3Mn9i/pkBy4zpIi72VQz6vEp1ysnTW61nv8TdyPyJK8/L88//7D/8ir97eBzGQmX/s3/3q/rfPz9PXi/btNYe09gd5brGri0c1KbhtZ1aYvNK2aa19pjG7ijXNXZt4aA2Da/t1BKbV8o2rbXHNHZHua6xawsHtWl4baeW2Dyt8jy3h7+dP/2Pb3329eMtrZjfev+Tj+vf//ZhM69hyIbn2vs85tOhTXgnzUluWz+2dPIqhmx4rr3PYz4d2oR30pzktvVjSyevYsiG59r7PObToU14J81Jbls/tnTyrMoL+PQl26f//v3ff/39MWP/zvs/f/f433/75cm8lsDpo5iKpmnMyuk07U62tmPrPZF5FYHTRzEVTdOYldNp2p1sbcfWeyLzKgKnj2IqmqYxK6fTtDvZ2o6t90TmGZUXyasvTt998uC9Ty9Po+zOdu33n33+8JS8nnHpNt6yRlu2Sta61a0/yrYOSPFKxqXbeMsabdkqWetWt/4o2zogxSsZl27jLWu0ZatkrVvd+qNs64AUz6q8UB6/Ov/qww/eO3tb7lf/9NWX35w3czvGrXhm8WGbu07LKFe5rX3Nkca8jnErnll82Oau0zLKVW5rX3OkMa9j3IpnFh+2ueu0jHKV29rXHGnMsyov5vb95ddvvX1vH3m8ePT4qqW5pdTQqWxjm7eyzS3HluvYGtnAvF5q6FS2sc1b2eaWY8t1bI1sYF4vNXQq29jmrWxzy7HlOrZGNjA3VV7CI7fzr2uRRx/D5rZkY3tQRoQ2fBo5Rm9q5jZkY3tQRoQ2fBo5Rm9q5jZkY3tQRoQ2fBo5Rm9q5gUqL2VnX/mBeQNGFqmNrVo1hk0bSWJZ5nWMLFIbW7VqDJs2ksSyzOsYWaQ2tmrVGDZtJIllmRsqr2J+DGOMyeGpk0qcJMiYWzDGmByeOqnESYKMuQVjjMnhqZNKnCTImJsqPw1lyqOcIsOWlYC5PWXKo5wiw5aVgLk9ZcqjnCLDlpWAeYHKTyMx1iA9ZGPMG0mMNUgP2RjzRhJjDdJDNsa8WOUnYcAYpTDmTRkwRimMeVMGjFEKY16u8pOyLCPzI1mWkfmRLMvIvFTlJyVjMD+WjMH8WDIG83KVn5T51zH/OuZ1Kndc5Y6r3HGVO65yx1XuuModV7njKnfc/we472AeWNrNAAAAAABJRU5ErkJg\">"
      ],
      "text/plain": [
       "128×256 reinterpret(reshape, Gray{Float32}, ::Matrix{Float32}) with eltype Gray{Float32}:\n",
       " Gray{Float32}(0.0)  Gray{Float32}(0.0)  …  Gray{Float32}(0.0)\n",
       " Gray{Float32}(0.0)  Gray{Float32}(0.0)     Gray{Float32}(0.0)\n",
       " Gray{Float32}(0.0)  Gray{Float32}(0.0)     Gray{Float32}(0.0)\n",
       " Gray{Float32}(0.0)  Gray{Float32}(0.0)     Gray{Float32}(0.0)\n",
       " Gray{Float32}(0.0)  Gray{Float32}(0.0)     Gray{Float32}(0.0)\n",
       " Gray{Float32}(0.0)  Gray{Float32}(0.0)  …  Gray{Float32}(0.0)\n",
       " Gray{Float32}(0.0)  Gray{Float32}(0.0)     Gray{Float32}(0.0)\n",
       " Gray{Float32}(0.0)  Gray{Float32}(0.0)     Gray{Float32}(0.0)\n",
       " Gray{Float32}(0.0)  Gray{Float32}(0.0)     Gray{Float32}(0.0)\n",
       " Gray{Float32}(0.0)  Gray{Float32}(0.0)     Gray{Float32}(0.0)\n",
       " ⋮                                       ⋱  ⋮\n",
       " Gray{Float32}(0.0)  Gray{Float32}(0.0)     Gray{Float32}(0.0)\n",
       " Gray{Float32}(0.0)  Gray{Float32}(0.0)  …  Gray{Float32}(0.0)\n",
       " Gray{Float32}(0.0)  Gray{Float32}(0.0)     Gray{Float32}(0.0)\n",
       " Gray{Float32}(0.0)  Gray{Float32}(0.0)     Gray{Float32}(0.0)\n",
       " Gray{Float32}(0.0)  Gray{Float32}(0.0)     Gray{Float32}(0.0)\n",
       " Gray{Float32}(0.0)  Gray{Float32}(0.0)     Gray{Float32}(0.0)\n",
       " Gray{Float32}(0.0)  Gray{Float32}(0.0)  …  Gray{Float32}(0.0)\n",
       " Gray{Float32}(0.0)  Gray{Float32}(0.0)     Gray{Float32}(0.0)\n",
       " Gray{Float32}(0.0)  Gray{Float32}(0.0)     Gray{Float32}(0.0)"
      ]
     },
     "metadata": {},
     "output_type": "display_data"
    }
   ],
   "source": [
    "img_comb1 = [img[:, : ,32] res2[:, :, 32] res[:, :, 32] img_n[:, :, 32]]\n",
    "img_comb2 = [img[:, : ,38] res2[:, :, 38] res[:, :, 38] img_n[:, :, 38]]\n",
    "\n",
    "img_comb = cat(img_comb1, img_comb2, dims=1)\n",
    "#img_comb ./= maximum(img_comb)\n",
    "\n",
    "#imshow([img[:, :, 20:end] res2[:, :, 20:end] res[:, :, 20:end] img_n[:, :, 20:end]])\n",
    "colorview(Gray, img_comb)"
   ]
  },
  {
   "cell_type": "code",
   "execution_count": 25,
   "metadata": {},
   "outputs": [
    {
     "data": {
      "image/png": "[encoded data removed]",
      "text/html": [
       "<img src=\"data:image/png;base64,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\">"
      ],
      "text/plain": [
       "64×64 reinterpret(reshape, Gray{Float32}, ::Matrix{Float32}) with eltype Gray{Float32}:\n",
       " Gray{Float32}(0.0)  Gray{Float32}(0.0)  …  Gray{Float32}(0.0)\n",
       " Gray{Float32}(0.0)  Gray{Float32}(0.0)     Gray{Float32}(0.0)\n",
       " Gray{Float32}(0.0)  Gray{Float32}(0.0)     Gray{Float32}(0.0)\n",
       " Gray{Float32}(0.0)  Gray{Float32}(0.0)     Gray{Float32}(0.0)\n",
       " Gray{Float32}(0.0)  Gray{Float32}(0.0)     Gray{Float32}(0.0)\n",
       " Gray{Float32}(0.0)  Gray{Float32}(0.0)  …  Gray{Float32}(0.0)\n",
       " Gray{Float32}(0.0)  Gray{Float32}(0.0)     Gray{Float32}(0.0)\n",
       " Gray{Float32}(0.0)  Gray{Float32}(0.0)     Gray{Float32}(0.0)\n",
       " Gray{Float32}(0.0)  Gray{Float32}(0.0)     Gray{Float32}(0.0)\n",
       " Gray{Float32}(0.0)  Gray{Float32}(0.0)     Gray{Float32}(0.0)\n",
       " ⋮                                       ⋱  \n",
       " Gray{Float32}(0.0)  Gray{Float32}(0.0)  …  Gray{Float32}(0.0)\n",
       " Gray{Float32}(0.0)  Gray{Float32}(0.0)     Gray{Float32}(0.0)\n",
       " Gray{Float32}(0.0)  Gray{Float32}(0.0)     Gray{Float32}(0.0)\n",
       " Gray{Float32}(0.0)  Gray{Float32}(0.0)     Gray{Float32}(0.0)\n",
       " Gray{Float32}(0.0)  Gray{Float32}(0.0)     Gray{Float32}(0.0)\n",
       " Gray{Float32}(0.0)  Gray{Float32}(0.0)  …  Gray{Float32}(0.0)\n",
       " Gray{Float32}(0.0)  Gray{Float32}(0.0)     Gray{Float32}(0.0)\n",
       " Gray{Float32}(0.0)  Gray{Float32}(0.0)     Gray{Float32}(0.0)\n",
       " Gray{Float32}(0.0)  Gray{Float32}(0.0)     Gray{Float32}(0.0)"
      ]
     },
     "metadata": {},
     "output_type": "display_data"
    }
   ],
   "source": [
    "colorview(Gray,img_n[:,:,32])"
   ]
  },
  {
   "cell_type": "code",
   "execution_count": 26,
   "metadata": {},
   "outputs": [
    {
     "data": {
      "image/png": "[encoded data removed]",
      "text/html": [
       "<img src=\"data:image/png;base64,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\">"
      ],
      "text/plain": [
       "64×64 reinterpret(reshape, Gray{Float32}, ::Matrix{Float32}) with eltype Gray{Float32}:\n",
       " Gray{Float32}(0.0)  Gray{Float32}(0.0)  …  Gray{Float32}(0.0)\n",
       " Gray{Float32}(0.0)  Gray{Float32}(0.0)     Gray{Float32}(0.0)\n",
       " Gray{Float32}(0.0)  Gray{Float32}(0.0)     Gray{Float32}(0.0)\n",
       " Gray{Float32}(0.0)  Gray{Float32}(0.0)     Gray{Float32}(0.0)\n",
       " Gray{Float32}(0.0)  Gray{Float32}(0.0)     Gray{Float32}(0.0)\n",
       " Gray{Float32}(0.0)  Gray{Float32}(0.0)  …  Gray{Float32}(0.0)\n",
       " Gray{Float32}(0.0)  Gray{Float32}(0.0)     Gray{Float32}(0.0)\n",
       " Gray{Float32}(0.0)  Gray{Float32}(0.0)     Gray{Float32}(0.0)\n",
       " Gray{Float32}(0.0)  Gray{Float32}(0.0)     Gray{Float32}(0.0)\n",
       " Gray{Float32}(0.0)  Gray{Float32}(0.0)     Gray{Float32}(0.0)\n",
       " ⋮                                       ⋱  \n",
       " Gray{Float32}(0.0)  Gray{Float32}(0.0)  …  Gray{Float32}(0.0)\n",
       " Gray{Float32}(0.0)  Gray{Float32}(0.0)     Gray{Float32}(0.0)\n",
       " Gray{Float32}(0.0)  Gray{Float32}(0.0)     Gray{Float32}(0.0)\n",
       " Gray{Float32}(0.0)  Gray{Float32}(0.0)     Gray{Float32}(0.0)\n",
       " Gray{Float32}(0.0)  Gray{Float32}(0.0)     Gray{Float32}(0.0)\n",
       " Gray{Float32}(0.0)  Gray{Float32}(0.0)  …  Gray{Float32}(0.0)\n",
       " Gray{Float32}(0.0)  Gray{Float32}(0.0)     Gray{Float32}(0.0)\n",
       " Gray{Float32}(0.0)  Gray{Float32}(0.0)     Gray{Float32}(0.0)\n",
       " Gray{Float32}(0.0)  Gray{Float32}(0.0)     Gray{Float32}(0.0)"
      ]
     },
     "metadata": {},
     "output_type": "display_data"
    }
   ],
   "source": [
    "colorview(Gray, res[:, :, 32])"
   ]
  },
  {
   "cell_type": "code",
   "execution_count": null,
   "metadata": {},
   "outputs": [],
   "source": [
    "# imshow(res[:, :, 32])"
   ]
  },
  {
   "cell_type": "markdown",
   "metadata": {},
   "source": [
    "---\n",
    "## Cell 3D"
   ]
  },
  {
   "cell_type": "code",
   "execution_count": 27,
   "metadata": {},
   "outputs": [
    {
     "name": "stderr",
     "output_type": "stream",
     "text": [
      "\u001b[32mLoading: 100%|███████████████████████████████████████████| Time: 0:00:00\u001b[39m\u001b[K\n"
     ]
    }
   ],
   "source": [
    "cell = convert(Array{Float32}, channelview(load(\"cells3d_convolved.tiff\")));"
   ]
  },
  {
   "cell_type": "code",
   "execution_count": 28,
   "metadata": {},
   "outputs": [],
   "source": [
    "cell_psf = convert(Array{Float32}, channelview(load(\"cells3d_psf.tiff\")));"
   ]
  },
  {
   "cell_type": "code",
   "execution_count": 29,
   "metadata": {},
   "outputs": [],
   "source": [
    "cell = cell .- minimum(cell) \n",
    "cell /= (maximum(cell) - minimum(cell));\n",
    "cell_psf /= maximum(cell_psf);"
   ]
  },
  {
   "cell_type": "code",
   "execution_count": 35,
   "metadata": {},
   "outputs": [
    {
     "data": {
      "image/png": "[encoded data removed]",
      "text/html": [
       "<img src=\"data:image/png;base64,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\">"
      ],
      "text/plain": [
       "71×71 reinterpret(reshape, Gray{Float32}, ::Matrix{Float32}) with eltype Gray{Float32}:\n",
       " Gray{Float32}(0.0295908)  …  Gray{Float32}(0.0832421)\n",
       " Gray{Float32}(0.0328888)     Gray{Float32}(0.0794624)\n",
       " Gray{Float32}(0.0384158)     Gray{Float32}(0.0745352)\n",
       " Gray{Float32}(0.0449749)     Gray{Float32}(0.0711826)\n",
       " Gray{Float32}(0.0518858)     Gray{Float32}(0.0699001)\n",
       " Gray{Float32}(0.0586926)  …  Gray{Float32}(0.0690544)\n",
       " Gray{Float32}(0.0646962)     Gray{Float32}(0.0668624)\n",
       " Gray{Float32}(0.069164)      Gray{Float32}(0.0630441)\n",
       " Gray{Float32}(0.0719617)     Gray{Float32}(0.0586646)\n",
       " Gray{Float32}(0.0737044)     Gray{Float32}(0.0547151)\n",
       " ⋮                         ⋱  ⋮\n",
       " Gray{Float32}(0.0596361)     Gray{Float32}(0.0651216)\n",
       " Gray{Float32}(0.0587065)     Gray{Float32}(0.0768768)\n",
       " Gray{Float32}(0.0576854)     Gray{Float32}(0.0980748)\n",
       " Gray{Float32}(0.0568472)  …  Gray{Float32}(0.13526)\n",
       " Gray{Float32}(0.0568513)     Gray{Float32}(0.194223)\n",
       " Gray{Float32}(0.0581284)     Gray{Float32}(0.275242)\n",
       " Gray{Float32}(0.0605068)     Gray{Float32}(0.368184)\n",
       " Gray{Float32}(0.0631734)     Gray{Float32}(0.452133)\n",
       " Gray{Float32}(0.0649562)  …  Gray{Float32}(0.502466)"
      ]
     },
     "metadata": {},
     "output_type": "display_data"
    }
   ],
   "source": [
    "colorview(Gray,cell[:,:,30])"
   ]
  },
  {
   "cell_type": "code",
   "execution_count": 37,
   "metadata": {},
   "outputs": [],
   "source": [
    "cell2 = cell .- minimum(cell) \n",
    "cell2 /= (maximum(cell) - minimum(cell));\n",
    "cell_psf2 = cell_psf .- minimum(cell_psf) \n",
    "cell_psf2 /= (maximum(cell_psf) - minimum(cell_psf));"
   ]
  },
  {
   "cell_type": "code",
   "execution_count": 38,
   "metadata": {},
   "outputs": [
    {
     "data": {
      "image/png": "[encoded data removed]",
      "text/html": [
       "<img src=\"data:image/png;base64,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\">"
      ],
      "text/plain": [
       "71×71 reinterpret(reshape, Gray{Float32}, ::Matrix{Float32}) with eltype Gray{Float32}:\n",
       " Gray{Float32}(0.0295908)  …  Gray{Float32}(0.0832421)\n",
       " Gray{Float32}(0.0328888)     Gray{Float32}(0.0794624)\n",
       " Gray{Float32}(0.0384158)     Gray{Float32}(0.0745352)\n",
       " Gray{Float32}(0.0449749)     Gray{Float32}(0.0711826)\n",
       " Gray{Float32}(0.0518858)     Gray{Float32}(0.0699001)\n",
       " Gray{Float32}(0.0586926)  …  Gray{Float32}(0.0690544)\n",
       " Gray{Float32}(0.0646962)     Gray{Float32}(0.0668624)\n",
       " Gray{Float32}(0.069164)      Gray{Float32}(0.0630441)\n",
       " Gray{Float32}(0.0719617)     Gray{Float32}(0.0586646)\n",
       " Gray{Float32}(0.0737044)     Gray{Float32}(0.0547151)\n",
       " ⋮                         ⋱  ⋮\n",
       " Gray{Float32}(0.0596361)     Gray{Float32}(0.0651216)\n",
       " Gray{Float32}(0.0587065)     Gray{Float32}(0.0768768)\n",
       " Gray{Float32}(0.0576854)     Gray{Float32}(0.0980748)\n",
       " Gray{Float32}(0.0568472)  …  Gray{Float32}(0.13526)\n",
       " Gray{Float32}(0.0568513)     Gray{Float32}(0.194223)\n",
       " Gray{Float32}(0.0581284)     Gray{Float32}(0.275242)\n",
       " Gray{Float32}(0.0605068)     Gray{Float32}(0.368184)\n",
       " Gray{Float32}(0.0631734)     Gray{Float32}(0.452133)\n",
       " Gray{Float32}(0.0649562)  …  Gray{Float32}(0.502466)"
      ]
     },
     "metadata": {},
     "output_type": "display_data"
    }
   ],
   "source": [
    "colorview(Gray,cell2[:,:,30])"
   ]
  },
  {
   "cell_type": "code",
   "execution_count": 39,
   "metadata": {},
   "outputs": [
    {
     "data": {
      "image/png": "[encoded data removed]",
      "text/html": [
       "<img src=\"data:image/png;base64,iVBORw0KGgoAAAANSUhEUgAAAI4AAACOCAAAAADClm/UAAAABGdBTUEAALGPC/xhBQAAAAFzUkdCAK7OHOkAAAAgY0hSTQAAeiYAAICEAAD6AAAAgOgAAHUwAADqYAAAOpgAABdwnLpRPAAAAcdJREFUeAHNwUFKI1EABcDq5EUwqwEXARdzgGHuMPe/gEcQggpuTDAx/ecO3Vm8qqgSVaJKVIkqUSWqRJWoElWiSlSJKlElqkSVqBJVokpUiSpRJapElagSVaJKVIkqUSWqRJWoElWiSlSJKlElqkSVqBJVokpUiSpRJapElagSVaJKVIkqUSWqRJW4i8lwD1ElVppMmAwMwzpRJVbZ2Njamgw3N7PZGlElVtjYerD3aOfq7OSC2XJRJRabbDz45eBg7+To6NO3YVgqqsRik629g7/+ePLhBRc/ZsNSUSVW2Hp08Mc/z17x5t2Xq+WiSiw0mUx29p48+40nezuTyWRYJqrEQsMwXJ18eMWrDydXwzAsFVVihZuzoxc8+fDi6OxmjagSiw03J0e82Ts5Ojq5GZaLKrHYMLv4dPFu5+rs5GI2LBdVYoUZ3358mQw3N7PZGlElVpkNs6vJwDCsE1VipWFgMtxDVIm7GO4jqkSVqBJVokpUiSpRJapElagSVaJKVIkqUSWqRJWoElWiSlSJKlElqkSVqBJVokpUiSpRJapElagSVaJKVIkqUSWqRJWoElWiSlSJKlElqkSVqBJVokpUiSr/AQA2ZEZgpjD6AAAAAElFTkSuQmCC\">"
      ],
      "text/plain": [
       "71×71 reinterpret(reshape, Gray{Float32}, ::Matrix{Float32}) with eltype Gray{Float32}:\n",
       " Gray{Float32}(0.0)  Gray{Float32}(0.0)  …  Gray{Float32}(0.0)\n",
       " Gray{Float32}(0.0)  Gray{Float32}(0.0)     Gray{Float32}(0.0)\n",
       " Gray{Float32}(0.0)  Gray{Float32}(0.0)     Gray{Float32}(0.0)\n",
       " Gray{Float32}(0.0)  Gray{Float32}(0.0)     Gray{Float32}(0.0)\n",
       " Gray{Float32}(0.0)  Gray{Float32}(0.0)     Gray{Float32}(0.0)\n",
       " Gray{Float32}(0.0)  Gray{Float32}(0.0)  …  Gray{Float32}(0.0)\n",
       " Gray{Float32}(0.0)  Gray{Float32}(0.0)     Gray{Float32}(0.0)\n",
       " Gray{Float32}(0.0)  Gray{Float32}(0.0)     Gray{Float32}(0.0)\n",
       " Gray{Float32}(0.0)  Gray{Float32}(0.0)     Gray{Float32}(0.0)\n",
       " Gray{Float32}(0.0)  Gray{Float32}(0.0)     Gray{Float32}(0.0)\n",
       " ⋮                                       ⋱  ⋮\n",
       " Gray{Float32}(0.0)  Gray{Float32}(0.0)     Gray{Float32}(0.0)\n",
       " Gray{Float32}(0.0)  Gray{Float32}(0.0)     Gray{Float32}(0.0)\n",
       " Gray{Float32}(0.0)  Gray{Float32}(0.0)     Gray{Float32}(0.0)\n",
       " Gray{Float32}(0.0)  Gray{Float32}(0.0)  …  Gray{Float32}(0.0)\n",
       " Gray{Float32}(0.0)  Gray{Float32}(0.0)     Gray{Float32}(0.0)\n",
       " Gray{Float32}(0.0)  Gray{Float32}(0.0)     Gray{Float32}(0.0)\n",
       " Gray{Float32}(0.0)  Gray{Float32}(0.0)     Gray{Float32}(0.0)\n",
       " Gray{Float32}(0.0)  Gray{Float32}(0.0)     Gray{Float32}(0.0)\n",
       " Gray{Float32}(0.0)  Gray{Float32}(0.0)  …  Gray{Float32}(0.0)"
      ]
     },
     "metadata": {},
     "output_type": "display_data"
    }
   ],
   "source": [
    "colorview(Gray, cell_psf[:,:,30])"
   ]
  },
  {
   "cell_type": "code",
   "execution_count": null,
   "metadata": {},
   "outputs": [],
   "source": [
    "# colorview(Gray, cell_psf2[:,:,30])"
   ]
  },
  {
   "cell_type": "code",
   "execution_count": 31,
   "metadata": {},
   "outputs": [],
   "source": [
    "i_cell_psf = ifftshift(cell_psf2);"
   ]
  },
  {
   "cell_type": "code",
   "execution_count": 40,
   "metadata": {},
   "outputs": [],
   "source": [
    "# @btime richardson_lucy_iterative(cell2, i_cell_psf, regularizer=nothing, iterations=30);\n",
    "cell_res2 = richardson_lucy_iterative(cell2, i_cell_psf, regularizer=nothing, iterations=30);"
   ]
  },
  {
   "cell_type": "code",
   "execution_count": 42,
   "metadata": {},
   "outputs": [
    {
     "data": {
      "image/png": "[encoded data removed]",
      "text/html": [
       "<img src=\"data:image/png;base64,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\">"
      ],
      "text/plain": [
       "71×71 reinterpret(reshape, Gray{Float32}, ::Matrix{Float32}) with eltype Gray{Float32}:\n",
       " Gray{Float32}(0.0066135)   …  Gray{Float32}(0.0330002)\n",
       " Gray{Float32}(0.0033715)      Gray{Float32}(0.010101)\n",
       " Gray{Float32}(0.00538799)     Gray{Float32}(0.0104264)\n",
       " Gray{Float32}(0.0177214)      Gray{Float32}(0.0263024)\n",
       " Gray{Float32}(0.0528385)      Gray{Float32}(0.0681049)\n",
       " Gray{Float32}(0.0913428)   …  Gray{Float32}(0.106008)\n",
       " Gray{Float32}(0.096933)       Gray{Float32}(0.100096)\n",
       " Gray{Float32}(0.083475)       Gray{Float32}(0.0756929)\n",
       " Gray{Float32}(0.0732296)      Gray{Float32}(0.0586601)\n",
       " Gray{Float32}(0.0706818)      Gray{Float32}(0.051028)\n",
       " ⋮                          ⋱  ⋮\n",
       " Gray{Float32}(0.0648739)      Gray{Float32}(0.0719122)\n",
       " Gray{Float32}(0.0521232)      Gray{Float32}(0.0667597)\n",
       " Gray{Float32}(0.0359346)      Gray{Float32}(0.0567216)\n",
       " Gray{Float32}(0.0257171)   …  Gray{Float32}(0.0555248)\n",
       " Gray{Float32}(0.0251188)      Gray{Float32}(0.0821724)\n",
       " Gray{Float32}(0.0368445)      Gray{Float32}(0.188152)\n",
       " Gray{Float32}(0.0586786)      Gray{Float32}(0.425626)\n",
       " Gray{Float32}(0.0558658)      Gray{Float32}(0.466904)\n",
       " Gray{Float32}(0.0232982)   …  Gray{Float32}(0.170975)"
      ]
     },
     "metadata": {},
     "output_type": "display_data"
    }
   ],
   "source": [
    "colorview(Gray, cell_res2[:,:,30])"
   ]
  },
  {
   "cell_type": "code",
   "execution_count": 45,
   "metadata": {},
   "outputs": [
    {
     "data": {
      "text/plain": [
       "BenchmarkTools.Trial: 10 samples with 1 evaluation.\n",
       " Range \u001b[90m(\u001b[39m\u001b[36m\u001b[1mmin\u001b[22m\u001b[39m … \u001b[35mmax\u001b[39m\u001b[90m):  \u001b[39m\u001b[36m\u001b[1m498.301 ms\u001b[22m\u001b[39m … \u001b[35m532.280 ms\u001b[39m  \u001b[90m┊\u001b[39m GC \u001b[90m(\u001b[39mmin … max\u001b[90m): \u001b[39m0.00% … 0.00%\n",
       " Time  \u001b[90m(\u001b[39m\u001b[34m\u001b[1mmedian\u001b[22m\u001b[39m\u001b[90m):     \u001b[39m\u001b[34m\u001b[1m503.998 ms               \u001b[22m\u001b[39m\u001b[90m┊\u001b[39m GC \u001b[90m(\u001b[39mmedian\u001b[90m):    \u001b[39m0.00%\n",
       " Time  \u001b[90m(\u001b[39m\u001b[32m\u001b[1mmean\u001b[22m\u001b[39m ± \u001b[32mσ\u001b[39m\u001b[90m):   \u001b[39m\u001b[32m\u001b[1m506.332 ms\u001b[22m\u001b[39m ± \u001b[32m  9.953 ms\u001b[39m  \u001b[90m┊\u001b[39m GC \u001b[90m(\u001b[39mmean ± σ\u001b[90m):  \u001b[39m0.00% ± 0.00%\n",
       "\n",
       "  \u001b[39m█\u001b[39m \u001b[39m \u001b[39m▁\u001b[39m \u001b[39m▁\u001b[39m \u001b[39m \u001b[34m▁\u001b[39m\u001b[39m \u001b[39m \u001b[39m \u001b[39m▁\u001b[39m \u001b[32m▁\u001b[39m\u001b[39m \u001b[39m \u001b[39m▁\u001b[39m \u001b[39m \u001b[39m \u001b[39m▁\u001b[39m \u001b[39m \u001b[39m \u001b[39m \u001b[39m \u001b[39m \u001b[39m \u001b[39m \u001b[39m \u001b[39m \u001b[39m \u001b[39m \u001b[39m \u001b[39m \u001b[39m \u001b[39m \u001b[39m \u001b[39m \u001b[39m \u001b[39m \u001b[39m \u001b[39m \u001b[39m \u001b[39m \u001b[39m \u001b[39m \u001b[39m \u001b[39m \u001b[39m \u001b[39m \u001b[39m \u001b[39m \u001b[39m \u001b[39m \u001b[39m \u001b[39m \u001b[39m \u001b[39m \u001b[39m▁\u001b[39m \u001b[39m \n",
       "  \u001b[39m█\u001b[39m▁\u001b[39m▁\u001b[39m█\u001b[39m▁\u001b[39m█\u001b[39m▁\u001b[39m▁\u001b[34m█\u001b[39m\u001b[39m▁\u001b[39m▁\u001b[39m▁\u001b[39m█\u001b[39m▁\u001b[32m█\u001b[39m\u001b[39m▁\u001b[39m▁\u001b[39m█\u001b[39m▁\u001b[39m▁\u001b[39m▁\u001b[39m█\u001b[39m▁\u001b[39m▁\u001b[39m▁\u001b[39m▁\u001b[39m▁\u001b[39m▁\u001b[39m▁\u001b[39m▁\u001b[39m▁\u001b[39m▁\u001b[39m▁\u001b[39m▁\u001b[39m▁\u001b[39m▁\u001b[39m▁\u001b[39m▁\u001b[39m▁\u001b[39m▁\u001b[39m▁\u001b[39m▁\u001b[39m▁\u001b[39m▁\u001b[39m▁\u001b[39m▁\u001b[39m▁\u001b[39m▁\u001b[39m▁\u001b[39m▁\u001b[39m▁\u001b[39m▁\u001b[39m▁\u001b[39m▁\u001b[39m▁\u001b[39m▁\u001b[39m▁\u001b[39m▁\u001b[39m▁\u001b[39m▁\u001b[39m█\u001b[39m \u001b[39m▁\n",
       "  498 ms\u001b[90m           Histogram: frequency by time\u001b[39m          532 ms \u001b[0m\u001b[1m<\u001b[22m\n",
       "\n",
       " Memory estimate\u001b[90m: \u001b[39m\u001b[33m7.99 MiB\u001b[39m, allocs estimate\u001b[90m: \u001b[39m\u001b[33m49\u001b[39m."
      ]
     },
     "metadata": {},
     "output_type": "display_data"
    }
   ],
   "source": [
    "@benchmark richardson_lucy_iterative(cell2, i_cell_psf, regularizer=nothing, iterations=30) samples=10 evals=1 seconds=60"
   ]
  },
  {
   "cell_type": "code",
   "execution_count": 43,
   "metadata": {},
   "outputs": [
    {
     "data": {
      "image/png": "[encoded data removed]",
      "text/html": [
       "<img src=\"data:image/png;base64,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\">"
      ],
      "text/plain": [
       "71×71 reinterpret(reshape, Gray{Float32}, ::Matrix{Float32}) with eltype Gray{Float32}:\n",
       " Gray{Float32}(0.0066135)   …  Gray{Float32}(0.0330002)\n",
       " Gray{Float32}(0.0033715)      Gray{Float32}(0.010101)\n",
       " Gray{Float32}(0.00538799)     Gray{Float32}(0.0104264)\n",
       " Gray{Float32}(0.0177214)      Gray{Float32}(0.0263024)\n",
       " Gray{Float32}(0.0528385)      Gray{Float32}(0.0681049)\n",
       " Gray{Float32}(0.0913428)   …  Gray{Float32}(0.106008)\n",
       " Gray{Float32}(0.096933)       Gray{Float32}(0.100096)\n",
       " Gray{Float32}(0.083475)       Gray{Float32}(0.0756929)\n",
       " Gray{Float32}(0.0732296)      Gray{Float32}(0.0586601)\n",
       " Gray{Float32}(0.0706818)      Gray{Float32}(0.051028)\n",
       " ⋮                          ⋱  ⋮\n",
       " Gray{Float32}(0.0648739)      Gray{Float32}(0.0719122)\n",
       " Gray{Float32}(0.0521232)      Gray{Float32}(0.0667597)\n",
       " Gray{Float32}(0.0359346)      Gray{Float32}(0.0567216)\n",
       " Gray{Float32}(0.0257171)   …  Gray{Float32}(0.0555248)\n",
       " Gray{Float32}(0.0251188)      Gray{Float32}(0.0821724)\n",
       " Gray{Float32}(0.0368445)      Gray{Float32}(0.188152)\n",
       " Gray{Float32}(0.0586786)      Gray{Float32}(0.425626)\n",
       " Gray{Float32}(0.0558658)      Gray{Float32}(0.466904)\n",
       " Gray{Float32}(0.0232982)   …  Gray{Float32}(0.170975)"
      ]
     },
     "metadata": {},
     "output_type": "display_data"
    }
   ],
   "source": [
    "cell_res3 = deconvRL(cell2, i_cell_psf, regularizer=nothing, iterations=30);\n",
    "colorview(Gray, cell_res2[:,:,30])"
   ]
  },
  {
   "cell_type": "code",
   "execution_count": 46,
   "metadata": {},
   "outputs": [
    {
     "data": {
      "text/plain": [
       "BenchmarkTools.Trial: 10 samples with 1 evaluation.\n",
       " Range \u001b[90m(\u001b[39m\u001b[36m\u001b[1mmin\u001b[22m\u001b[39m … \u001b[35mmax\u001b[39m\u001b[90m):  \u001b[39m\u001b[36m\u001b[1m487.371 ms\u001b[22m\u001b[39m … \u001b[35m499.011 ms\u001b[39m  \u001b[90m┊\u001b[39m GC \u001b[90m(\u001b[39mmin … max\u001b[90m): \u001b[39m0.00% … 0.00%\n",
       " Time  \u001b[90m(\u001b[39m\u001b[34m\u001b[1mmedian\u001b[22m\u001b[39m\u001b[90m):     \u001b[39m\u001b[34m\u001b[1m494.352 ms               \u001b[22m\u001b[39m\u001b[90m┊\u001b[39m GC \u001b[90m(\u001b[39mmedian\u001b[90m):    \u001b[39m0.00%\n",
       " Time  \u001b[90m(\u001b[39m\u001b[32m\u001b[1mmean\u001b[22m\u001b[39m ± \u001b[32mσ\u001b[39m\u001b[90m):   \u001b[39m\u001b[32m\u001b[1m493.684 ms\u001b[22m\u001b[39m ± \u001b[32m  4.045 ms\u001b[39m  \u001b[90m┊\u001b[39m GC \u001b[90m(\u001b[39mmean ± σ\u001b[90m):  \u001b[39m0.00% ± 0.00%\n",
       "\n",
       "  \u001b[39m▁\u001b[39m \u001b[39m \u001b[39m \u001b[39m \u001b[39m▁\u001b[39m \u001b[39m \u001b[39m \u001b[39m \u001b[39m \u001b[39m \u001b[39m \u001b[39m \u001b[39m \u001b[39m \u001b[39m \u001b[39m \u001b[39m \u001b[39m█\u001b[39m \u001b[39m \u001b[39m \u001b[39m \u001b[39m \u001b[39m \u001b[39m \u001b[39m \u001b[39m \u001b[39m \u001b[39m \u001b[39m \u001b[39m \u001b[32m \u001b[39m\u001b[39m \u001b[39m▁\u001b[34m \u001b[39m\u001b[39m▁\u001b[39m \u001b[39m \u001b[39m \u001b[39m \u001b[39m▁\u001b[39m \u001b[39m \u001b[39m \u001b[39m \u001b[39m \u001b[39m \u001b[39m \u001b[39m \u001b[39m \u001b[39m▁\u001b[39m \u001b[39m \u001b[39m \u001b[39m▁\u001b[39m \u001b[39m \u001b[39m \u001b[39m▁\u001b[39m \u001b[39m \n",
       "  \u001b[39m█\u001b[39m▁\u001b[39m▁\u001b[39m▁\u001b[39m▁\u001b[39m█\u001b[39m▁\u001b[39m▁\u001b[39m▁\u001b[39m▁\u001b[39m▁\u001b[39m▁\u001b[39m▁\u001b[39m▁\u001b[39m▁\u001b[39m▁\u001b[39m▁\u001b[39m▁\u001b[39m▁\u001b[39m█\u001b[39m▁\u001b[39m▁\u001b[39m▁\u001b[39m▁\u001b[39m▁\u001b[39m▁\u001b[39m▁\u001b[39m▁\u001b[39m▁\u001b[39m▁\u001b[39m▁\u001b[39m▁\u001b[39m▁\u001b[32m▁\u001b[39m\u001b[39m▁\u001b[39m█\u001b[34m▁\u001b[39m\u001b[39m█\u001b[39m▁\u001b[39m▁\u001b[39m▁\u001b[39m▁\u001b[39m█\u001b[39m▁\u001b[39m▁\u001b[39m▁\u001b[39m▁\u001b[39m▁\u001b[39m▁\u001b[39m▁\u001b[39m▁\u001b[39m▁\u001b[39m█\u001b[39m▁\u001b[39m▁\u001b[39m▁\u001b[39m█\u001b[39m▁\u001b[39m▁\u001b[39m▁\u001b[39m█\u001b[39m \u001b[39m▁\n",
       "  487 ms\u001b[90m           Histogram: frequency by time\u001b[39m          499 ms \u001b[0m\u001b[1m<\u001b[22m\n",
       "\n",
       " Memory estimate\u001b[90m: \u001b[39m\u001b[33m7.99 MiB\u001b[39m, allocs estimate\u001b[90m: \u001b[39m\u001b[33m49\u001b[39m."
      ]
     },
     "metadata": {},
     "output_type": "display_data"
    }
   ],
   "source": [
    "@benchmark deconvRL(cell2, i_cell_psf, regularizer=nothing, iterations=30) samples=10 evals=1 seconds=60"
   ]
  },
  {
   "cell_type": "markdown",
   "metadata": {},
   "source": [
    "---\n",
    "## Cube of Spherical Beads"
   ]
  },
  {
   "cell_type": "code",
   "execution_count": null,
   "metadata": {},
   "outputs": [],
   "source": [
    "# Cargamos la imagen\n",
    "\n",
    "cube = convert(Array{Float32}, channelview(load(\"cubeConvolved.tif\")));\n",
    "\n",
    "# Cargamos la psf\n",
    "\n",
    "cubePSF = convert(Array{Float32}, channelview(load(\"PSF.tif\")));\n",
    "\n",
    "cube2 = cube .- minimum(cube)\n",
    "cube2 /= (maximum(cube) - minimum(cube));\n",
    "cubePSF /= maximum(cubePSF);\n",
    "cubePSF2 = cubePSF .- minimum(cubePSF)\n",
    "cubePSF2 /= (maximum(cubePSF) - minimum(cubePSF));\n"
   ]
  },
  {
   "cell_type": "code",
   "execution_count": null,
   "metadata": {},
   "outputs": [],
   "source": [
    "colorview(Gray, cube2[:,:,30])"
   ]
  },
  {
   "cell_type": "code",
   "execution_count": null,
   "metadata": {},
   "outputs": [],
   "source": [
    "number_of_iterations = 30"
   ]
  },
  {
   "cell_type": "code",
   "execution_count": null,
   "metadata": {},
   "outputs": [],
   "source": [
    "deconCube = richardson_lucy_iterative(cube2, ifftshift(cubePSF2), regularizer=nothing, iterations=number_of_iterations);"
   ]
  },
  {
   "cell_type": "code",
   "execution_count": null,
   "metadata": {},
   "outputs": [],
   "source": [
    "colorview(Gray, deconCube[:,:,30])"
   ]
  },
  {
   "cell_type": "code",
   "execution_count": null,
   "metadata": {},
   "outputs": [],
   "source": [
    "@benchmark richardson_lucy_iterative(cube, ifftshift(cubePSF), regularizer=nothing, iterations=number_of_iterations) samples=10 evals=1"
   ]
  },
  {
   "cell_type": "markdown",
   "metadata": {},
   "source": [
    "---\n",
    "## C. elegans embryo"
   ]
  },
  {
   "cell_type": "code",
   "execution_count": null,
   "metadata": {},
   "outputs": [],
   "source": [
    "import Pkg;\n",
    "\n",
    "Pkg.add(\"FileIO\")"
   ]
  },
  {
   "cell_type": "code",
   "execution_count": null,
   "metadata": {},
   "outputs": [],
   "source": [
    "using FileIO\n",
    "using Images\n",
    "\n",
    "function load_image_stack(folder_path::String)\n",
    "    # Listar todos los archivos en la carpeta y ordenar\n",
    "    files = sort(filter(f -> endswith(f, \".tif\") || endswith(f, \".png\") || endswith(f, \".jpg\"), readdir(folder_path)))\n",
    "\n",
    "    # Leer la primera imagen para obtener las dimensiones\n",
    "    first_image = load(joinpath(folder_path, files[1]))\n",
    "    height, width = size(first_image)\n",
    "\n",
    "    # Crear una matriz 3D vacía para almacenar las imágenes\n",
    "    image_stack = Array{Float32, 3}(undef, length(files), height, width)\n",
    "\n",
    "    # Cargar cada imagen en la matriz 3D y convertir a Float32\n",
    "    for (i, file) in enumerate(files)\n",
    "        image = load(joinpath(folder_path, file))\n",
    "        image_stack[i, :, :] = float(image)\n",
    "    end\n",
    "\n",
    "    return image_stack\n",
    "end\n"
   ]
  },
  {
   "cell_type": "code",
   "execution_count": null,
   "metadata": {},
   "outputs": [],
   "source": [
    "function normalize_img(img)\n",
    "    img2 = img .- minimum(img)\n",
    "    img2 /= (maximum(img) .- minimum(img))\n",
    "end"
   ]
  },
  {
   "cell_type": "markdown",
   "metadata": {},
   "source": [
    "### Canal 1"
   ]
  },
  {
   "cell_type": "code",
   "execution_count": null,
   "metadata": {},
   "outputs": [],
   "source": [
    "# Ruta a la carpeta que contiene las imágenes Z-stack\n",
    "imagePath = \"./CElegans-CY3\"\n",
    "psfPath = \"./PSF-CElegans-CY3\"\n",
    "\n",
    "# Cargar las imágenes en una matriz 3D\n",
    "image_stack = load_image_stack(imagePath)[:, 1:356, 1:336]\n",
    "psf_stack = load_image_stack(psfPath)[:, 179:534, 169:504] #mitad +152\n",
    "\n",
    "# Verificar las dimensiones de las matrices 3D\n",
    "println(size(image_stack))\n",
    "println(\"image_stack element type: \", eltype(image_stack))\n",
    "println(size(psf_stack))\n"
   ]
  },
  {
   "cell_type": "code",
   "execution_count": null,
   "metadata": {},
   "outputs": [],
   "source": [
    "image_stack1n = normalize_img(image_stack)\n",
    "psf_stack1n = normalize_img(psf_stack);"
   ]
  },
  {
   "cell_type": "code",
   "execution_count": null,
   "metadata": {},
   "outputs": [],
   "source": [
    "colorview(Gray, psf_stack1n[1,:,:]/maximum(psf_stack1n[1,:,:]))\n"
   ]
  },
  {
   "cell_type": "code",
   "execution_count": null,
   "metadata": {},
   "outputs": [],
   "source": [
    "colorview(Gray, image_stack1n[52,:,:])"
   ]
  },
  {
   "cell_type": "code",
   "execution_count": null,
   "metadata": {},
   "outputs": [],
   "source": [
    "num_iter = 1\n",
    "\n",
    "canal1_res = richardson_lucy_iterative2(image_stack1n, ifftshift(psf_stack1n), regularizer=nothing, iterations=num_iter);\n"
   ]
  },
  {
   "cell_type": "code",
   "execution_count": null,
   "metadata": {},
   "outputs": [],
   "source": [
    "# Verificar las dimensiones y tipo de canal1_res\n",
    "println(\"Tipo de canal1_res: \", typeof(canal1_res))\n",
    "println(\"Dimensiones de canal1_res: \", size(canal1_res))\n"
   ]
  },
  {
   "cell_type": "code",
   "execution_count": null,
   "metadata": {},
   "outputs": [],
   "source": [
    "colorview(Gray, canal1_res[52,:,:]/maximum(canal1_res[52,:,:]))"
   ]
  },
  {
   "cell_type": "code",
   "execution_count": null,
   "metadata": {},
   "outputs": [],
   "source": [
    "image_stack1n[52,1:5,1:5]"
   ]
  },
  {
   "cell_type": "code",
   "execution_count": null,
   "metadata": {},
   "outputs": [],
   "source": [
    "canal1_res[52,1:5,1:5]"
   ]
  },
  {
   "cell_type": "code",
   "execution_count": null,
   "metadata": {},
   "outputs": [],
   "source": [
    "img = load(\"./CElegans-CY3/Data-CY3-Z052.tif\")\n",
    "println(\"Image element type: \", eltype(img))\n",
    "println(\"Pixel at (1,1): \", img[1, 1]) "
   ]
  },
  {
   "cell_type": "code",
   "execution_count": null,
   "metadata": {},
   "outputs": [],
   "source": [
    "@benchmark richardson_lucy_iterative(image_stack1n, ifftshift(psf_stack1n), regularizer=nothing, iterations=1) samples=10"
   ]
  },
  {
   "cell_type": "markdown",
   "metadata": {},
   "source": [
    "### Canal 2"
   ]
  },
  {
   "cell_type": "code",
   "execution_count": null,
   "metadata": {},
   "outputs": [],
   "source": [
    "# Ruta a la carpeta que contiene las imágenes Z-stack\n",
    "imagePath2 = \"./CElegans-DAPI\"\n",
    "psfPath2 = \"./PSF-CElegans-DAPI\"\n",
    "\n",
    "# Cargar las imágenes en una matriz 3D\n",
    "image_stack2 = load_image_stack(imagePath2)[:, 1:356, 1:336]\n",
    "psf_stack2 = load_image_stack(psfPath2)[:, 179:534, 169:504] #mitad +152\n",
    "\n",
    "# Verificar las dimensiones de las matrices 3D\n",
    "println(size(image_stack2))\n",
    "println(\"image_stack element type: \", eltype(image_stack2))\n",
    "println(size(psf_stack2))"
   ]
  },
  {
   "cell_type": "code",
   "execution_count": null,
   "metadata": {},
   "outputs": [],
   "source": [
    "image_stack2n = normalize_img(image_stack2)\n",
    "psf_stack2n = normalize_img(psf_stack2);"
   ]
  },
  {
   "cell_type": "code",
   "execution_count": null,
   "metadata": {},
   "outputs": [],
   "source": [
    "canal2_res = richardson_lucy_iterative(image_stack2n, ifftshift(psf_stack2n), regularizer=nothing, iterations=num_iter);\n",
    "\n",
    "colorview(Gray, canal2_res[52,:,:]/maximum(canal2_res[52,:,:]))"
   ]
  },
  {
   "cell_type": "markdown",
   "metadata": {},
   "source": [
    "### Canal 3"
   ]
  },
  {
   "cell_type": "code",
   "execution_count": null,
   "metadata": {},
   "outputs": [],
   "source": [
    "# Ruta a la carpeta que contiene las imágenes Z-stack\n",
    "imagePath3 = \"./CElegans-FITC\"\n",
    "psfPath3 = \"./PSF-CElegans-FITC\"\n",
    "\n",
    "# Cargar las imágenes en una matriz 3D\n",
    "image_stack3 = load_image_stack(imagePath3)[:, 1:356, 1:336]\n",
    "psf_stack3 = load_image_stack(psfPath3)[:, 179:534, 169:504] #mitad +152\n",
    "\n",
    "# Verificar las dimensiones de las matrices 3D\n",
    "println(size(image_stack3))\n",
    "println(\"image_stack element type: \", eltype(image_stack3))\n",
    "println(size(psf_stack3))"
   ]
  },
  {
   "cell_type": "code",
   "execution_count": null,
   "metadata": {},
   "outputs": [],
   "source": [
    "image_stack3n = normalize_img(image_stack3)\n",
    "psf_stack3n = normalize_img(psf_stack3);"
   ]
  },
  {
   "cell_type": "code",
   "execution_count": null,
   "metadata": {},
   "outputs": [],
   "source": [
    "canal3_res = richardson_lucy_iterative(image_stack3n, ifftshift(psf_stack3n), regularizer=nothing, iterations=num_iter);\n",
    "\n",
    "colorview(Gray, canal3_res[52,:,:]/maximum(canal3_res[52,:,:]))"
   ]
  },
  {
   "cell_type": "code",
   "execution_count": null,
   "metadata": {},
   "outputs": [],
   "source": [
    "imshow(canal3_res[52,:,:])"
   ]
  },
  {
   "cell_type": "markdown",
   "metadata": {},
   "source": [
    "### Combinación de canales"
   ]
  },
  {
   "cell_type": "code",
   "execution_count": null,
   "metadata": {},
   "outputs": [],
   "source": [
    "using Plots\n",
    "using Images\n",
    "using ColorTypes\n",
    "\n",
    "# Función para normalizar una imagen\n",
    "function normalize(image::AbstractArray)\n",
    "    min_val = minimum(image)\n",
    "    max_val = maximum(image)\n",
    "    if min_val == max_val\n",
    "        return zeros(size(image))  # O ones(size(image)), dependiendo de tu preferencia\n",
    "    end\n",
    "    return (image .- min_val) ./ (max_val - min_val)\n",
    "end\n",
    "\n",
    "# Normalizar los canales\n",
    "deconvolved_stack_R = normalize(canal1_res)\n",
    "deconvolved_stack_G = normalize(canal2_res)\n",
    "deconvolved_stack_B = normalize(canal3_res)\n",
    "\n",
    "# Crear una imagen RGB para la visualización\n",
    "function create_rgb_image(r::AbstractArray, g::AbstractArray, b::AbstractArray)\n",
    "    # Verificar que todas las dimensiones sean iguales\n",
    "    height, width = size(r)\n",
    "    if size(g) != (height, width) || size(b) != (height, width)\n",
    "        throw(ArgumentError(\"Las dimensiones de las imágenes R, G y B deben coincidir.\"))\n",
    "    end\n",
    "\n",
    "    # Crear una matriz de imágenes RGB\n",
    "    rgb_image = Array{RGB{Float32}, 2}(undef, height, width)\n",
    "    rgb_image[:, :] .= RGB{Float32}[RGB(r[i, j], g[i, j], b[i, j]) for i in 1:height, j in 1:width]\n",
    "    return rgb_image\n",
    "end\n",
    "\n",
    "# Combinar los canales en una imagen RGB\n",
    "deconvolved_image_color = create_rgb_image(deconvolved_stack_R[52, :, :],\n",
    "                                           deconvolved_stack_G[52, :, :],\n",
    "                                           deconvolved_stack_B[52, :, :])\n",
    "\n",
    "# Normalizar y combinar los planos para la visualización\n",
    "original_image_rgb = create_rgb_image(normalize(image_stack[52, :, :]),\n",
    "                                       normalize(image_stack2[52, :, :]),\n",
    "                                       normalize(image_stack3[52, :, :]))\n",
    "\n",
    "# Mostrar las imágenes\n",
    "plot(\n",
    "    heatmap(original_image_rgb, title=\"Original\", axis=false, color=:viridis),\n",
    "    heatmap(deconvolved_image_color, title=\"Deconvolved\", axis=false, color=:viridis),\n",
    "    layout=(1, 2)\n",
    ")\n",
    "\n",
    "\n"
   ]
  },
  {
   "cell_type": "code",
   "execution_count": null,
   "metadata": {},
   "outputs": [],
   "source": []
  }
 ],
 "metadata": {
  "kernelspec": {
   "display_name": "Julia 1.11.2",
   "language": "julia",
   "name": "julia-1.11"
  },
  "language_info": {
   "file_extension": ".jl",
   "mimetype": "application/julia",
   "name": "julia",
   "version": "1.11.2"
  }
 },
 "nbformat": 4,
 "nbformat_minor": 4
}
