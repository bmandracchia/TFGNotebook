{
 "cells": [
  {
   "cell_type": "markdown",
   "metadata": {},
   "source": [
    "# 3D Deconvolution Benchmark: Julia"
   ]
  },
  {
   "cell_type": "markdown",
   "metadata": {},
   "source": [
    "---\n",
    "## Setup"
   ]
  },
  {
   "cell_type": "code",
   "execution_count": 1,
   "metadata": {},
   "outputs": [],
   "source": [
    "# using Revise\n",
    "using DeconvOptim, Images, FFTW, Noise, ImageView, BenchmarkTools, TestImages, Colors, ImageIO, ImageShow, Plots"
   ]
  },
  {
   "cell_type": "code",
   "execution_count": 2,
   "metadata": {},
   "outputs": [
    {
     "data": {
      "text/plain": [
       "\"mkl\""
      ]
     },
     "metadata": {},
     "output_type": "display_data"
    }
   ],
   "source": [
    "# FFTW.set_provider!(\"mkl\")\n",
    "FFTW.get_provider()"
   ]
  },
  {
   "cell_type": "code",
   "execution_count": null,
   "metadata": {},
   "outputs": [],
   "source": [
    "# FFTW.set_num_threads(8)"
   ]
  },
  {
   "cell_type": "code",
   "execution_count": 70,
   "metadata": {},
   "outputs": [],
   "source": [
    "include(\"./lucy_richardson2.jl\");"
   ]
  },
  {
   "cell_type": "markdown",
   "metadata": {},
   "source": [
    "---\n",
    "## Test Image\n",
    "\n"
   ]
  },
  {
   "cell_type": "code",
   "execution_count": 4,
   "metadata": {},
   "outputs": [
    {
     "name": "stderr",
     "output_type": "stream",
     "text": [
      "\u001b[32mLoading: 100%|███████████████████████████████████████████| Time: 0:00:01\u001b[39m\u001b[K\n"
     ]
    }
   ],
   "source": [
    "img = convert(Array{Float32}, channelview(load(\"simple_3d_ball.tif\")));"
   ]
  },
  {
   "cell_type": "code",
   "execution_count": 5,
   "metadata": {},
   "outputs": [],
   "source": [
    "psf = ifftshift(convert(Array{Float32}, channelview(load(\"simple_3d_psf.tif\"))));"
   ]
  },
  {
   "cell_type": "code",
   "execution_count": null,
   "metadata": {},
   "outputs": [],
   "source": [
    "# psf ./= sum(psf)\n",
    "# # create a blurred, noisy version of that image\n",
    "# img_b = conv(img, psf, [1, 2, 3])\n",
    "# img_n = poisson(img_b, 300);\n",
    "# save(\"simple_3d_ball_blurred.tif\", img_n)"
   ]
  },
  {
   "cell_type": "code",
   "execution_count": 6,
   "metadata": {},
   "outputs": [
    {
     "name": "stdout",
     "output_type": "stream",
     "text": [
      "Max value in psf: 1.0\n",
      "Min value in psf: 0.0\n"
     ]
    }
   ],
   "source": [
    "println(\"Max value in psf: \", maximum(psf))\n",
    "println(\"Min value in psf: \", minimum(psf))\n",
    "\n",
    "# Agregar un pequeño valor para evitar divisiones por cero\n",
    "epsilon = eps(Float32)\n",
    "\n",
    "# Asegurarse de que el PSF no tenga valores cero y normalizarlo\n",
    "psf = psf .+ epsilon;\n",
    "psf ./= sum(psf);\n"
   ]
  },
  {
   "cell_type": "code",
   "execution_count": 7,
   "metadata": {},
   "outputs": [],
   "source": [
    "img_n = convert(Array{Float32}, channelview(load(\"simple_3d_ball_blurred.tif\")));"
   ]
  },
  {
   "cell_type": "code",
   "execution_count": 8,
   "metadata": {},
   "outputs": [
    {
     "name": "stdout",
     "output_type": "stream",
     "text": [
      "(64, 64, 64)\n",
      "img_n element type: Float32\n",
      "(64, 64, 64)\n",
      "psf element type: Float32\n"
     ]
    }
   ],
   "source": [
    "println(size(img_n))\n",
    "println(\"img_n element type: \", eltype(img_n))\n",
    "println(size(psf))\n",
    "println(\"psf element type: \", eltype(psf))"
   ]
  },
  {
   "cell_type": "code",
   "execution_count": 9,
   "metadata": {},
   "outputs": [],
   "source": [
    "reg = TV(num_dims=3, sum_dims=[1, 2, 3]);"
   ]
  },
  {
   "cell_type": "code",
   "execution_count": 10,
   "metadata": {},
   "outputs": [
    {
     "data": {
      "text/plain": [
       "Array{Float32, 3}"
      ]
     },
     "metadata": {},
     "output_type": "display_data"
    }
   ],
   "source": [
    "typeof(img_n)"
   ]
  },
  {
   "cell_type": "code",
   "execution_count": 11,
   "metadata": {},
   "outputs": [
    {
     "data": {
      "text/plain": [
       "Array{Float32, 3}"
      ]
     },
     "metadata": {},
     "output_type": "display_data"
    }
   ],
   "source": [
    "typeof(psf)"
   ]
  },
  {
   "cell_type": "code",
   "execution_count": 14,
   "metadata": {},
   "outputs": [
    {
     "name": "stdout",
     "output_type": "stream",
     "text": [
      "(64, 64, 64)\n",
      "res2 element type: Float32\n"
     ]
    }
   ],
   "source": [
    "res2 = deconvRL(img_n, psf, regularizer=reg, iterations=0);\n",
    "println(size(res2))\n",
    "println(\"res2 element type: \", eltype(res2))"
   ]
  },
  {
   "cell_type": "code",
   "execution_count": 15,
   "metadata": {},
   "outputs": [
    {
     "data": {
      "image/png": "[encoded data removed]",
      "text/html": [
       "<img src=\"data:image/png;base64,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\">"
      ],
      "text/plain": [
       "64×64 reinterpret(reshape, Gray{Float32}, ::Matrix{Float32}) with eltype Gray{Float32}:\n",
       " Gray{Float32}(0.0)  Gray{Float32}(0.0)  …  Gray{Float32}(0.0)\n",
       " Gray{Float32}(0.0)  Gray{Float32}(0.0)     Gray{Float32}(0.0)\n",
       " Gray{Float32}(0.0)  Gray{Float32}(0.0)     Gray{Float32}(0.0)\n",
       " Gray{Float32}(0.0)  Gray{Float32}(0.0)     Gray{Float32}(0.0)\n",
       " Gray{Float32}(0.0)  Gray{Float32}(0.0)     Gray{Float32}(0.0)\n",
       " Gray{Float32}(0.0)  Gray{Float32}(0.0)  …  Gray{Float32}(0.0)\n",
       " Gray{Float32}(0.0)  Gray{Float32}(0.0)     Gray{Float32}(0.0)\n",
       " Gray{Float32}(0.0)  Gray{Float32}(0.0)     Gray{Float32}(0.0)\n",
       " Gray{Float32}(0.0)  Gray{Float32}(0.0)     Gray{Float32}(0.0)\n",
       " Gray{Float32}(0.0)  Gray{Float32}(0.0)     Gray{Float32}(0.0)\n",
       " ⋮                                       ⋱  \n",
       " Gray{Float32}(0.0)  Gray{Float32}(0.0)  …  Gray{Float32}(0.0)\n",
       " Gray{Float32}(0.0)  Gray{Float32}(0.0)     Gray{Float32}(0.0)\n",
       " Gray{Float32}(0.0)  Gray{Float32}(0.0)     Gray{Float32}(0.0)\n",
       " Gray{Float32}(0.0)  Gray{Float32}(0.0)     Gray{Float32}(0.0)\n",
       " Gray{Float32}(0.0)  Gray{Float32}(0.0)     Gray{Float32}(0.0)\n",
       " Gray{Float32}(0.0)  Gray{Float32}(0.0)  …  Gray{Float32}(0.0)\n",
       " Gray{Float32}(0.0)  Gray{Float32}(0.0)     Gray{Float32}(0.0)\n",
       " Gray{Float32}(0.0)  Gray{Float32}(0.0)     Gray{Float32}(0.0)\n",
       " Gray{Float32}(0.0)  Gray{Float32}(0.0)     Gray{Float32}(0.0)"
      ]
     },
     "metadata": {},
     "output_type": "display_data"
    }
   ],
   "source": [
    "colorview(Gray, img_n[:, :, 32])"
   ]
  },
  {
   "cell_type": "code",
   "execution_count": 16,
   "metadata": {},
   "outputs": [
    {
     "data": {
      "image/png": "[encoded data removed]",
      "text/html": [
       "<img src=\"data:image/png;base64,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\">"
      ],
      "text/plain": [
       "64×64 reinterpret(reshape, Gray{Float32}, ::Matrix{Float32}) with eltype Gray{Float32}:\n",
       " Gray{Float32}(0.0)  Gray{Float32}(0.0)  …  Gray{Float32}(0.0)\n",
       " Gray{Float32}(0.0)  Gray{Float32}(0.0)     Gray{Float32}(0.0)\n",
       " Gray{Float32}(0.0)  Gray{Float32}(0.0)     Gray{Float32}(0.0)\n",
       " Gray{Float32}(0.0)  Gray{Float32}(0.0)     Gray{Float32}(0.0)\n",
       " Gray{Float32}(0.0)  Gray{Float32}(0.0)     Gray{Float32}(0.0)\n",
       " Gray{Float32}(0.0)  Gray{Float32}(0.0)  …  Gray{Float32}(0.0)\n",
       " Gray{Float32}(0.0)  Gray{Float32}(0.0)     Gray{Float32}(0.0)\n",
       " Gray{Float32}(0.0)  Gray{Float32}(0.0)     Gray{Float32}(0.0)\n",
       " Gray{Float32}(0.0)  Gray{Float32}(0.0)     Gray{Float32}(0.0)\n",
       " Gray{Float32}(0.0)  Gray{Float32}(0.0)     Gray{Float32}(0.0)\n",
       " ⋮                                       ⋱  \n",
       " Gray{Float32}(0.0)  Gray{Float32}(0.0)  …  Gray{Float32}(0.0)\n",
       " Gray{Float32}(0.0)  Gray{Float32}(0.0)     Gray{Float32}(0.0)\n",
       " Gray{Float32}(0.0)  Gray{Float32}(0.0)     Gray{Float32}(0.0)\n",
       " Gray{Float32}(0.0)  Gray{Float32}(0.0)     Gray{Float32}(0.0)\n",
       " Gray{Float32}(0.0)  Gray{Float32}(0.0)     Gray{Float32}(0.0)\n",
       " Gray{Float32}(0.0)  Gray{Float32}(0.0)  …  Gray{Float32}(0.0)\n",
       " Gray{Float32}(0.0)  Gray{Float32}(0.0)     Gray{Float32}(0.0)\n",
       " Gray{Float32}(0.0)  Gray{Float32}(0.0)     Gray{Float32}(0.0)\n",
       " Gray{Float32}(0.0)  Gray{Float32}(0.0)     Gray{Float32}(0.0)"
      ]
     },
     "metadata": {},
     "output_type": "display_data"
    }
   ],
   "source": [
    "colorview(Gray, res2[:, :, 32])"
   ]
  },
  {
   "cell_type": "code",
   "execution_count": 71,
   "metadata": {},
   "outputs": [
    {
     "name": "stdout",
     "output_type": "stream",
     "text": [
      "(64, 64, 64)\n",
      "res element type: Float32\n"
     ]
    }
   ],
   "source": [
    "res = deconvRL(img_n, psf, regularizer=nothing, iterations=30);\n",
    "\n",
    "println(size(res))\n",
    "println(\"res element type: \", eltype(res))"
   ]
  },
  {
   "cell_type": "code",
   "execution_count": 69,
   "metadata": {},
   "outputs": [
    {
     "data": {
      "text/plain": [
       "BenchmarkTools.Trial: 100 samples with 1 evaluation.\n",
       " Range \u001b[90m(\u001b[39m\u001b[36m\u001b[1mmin\u001b[22m\u001b[39m … \u001b[35mmax\u001b[39m\u001b[90m):  \u001b[39m\u001b[36m\u001b[1m86.751 ms\u001b[22m\u001b[39m … \u001b[35m115.364 ms\u001b[39m  \u001b[90m┊\u001b[39m GC \u001b[90m(\u001b[39mmin … max\u001b[90m): \u001b[39m0.00% … 0.00%\n",
       " Time  \u001b[90m(\u001b[39m\u001b[34m\u001b[1mmedian\u001b[22m\u001b[39m\u001b[90m):     \u001b[39m\u001b[34m\u001b[1m89.624 ms               \u001b[22m\u001b[39m\u001b[90m┊\u001b[39m GC \u001b[90m(\u001b[39mmedian\u001b[90m):    \u001b[39m0.00%\n",
       " Time  \u001b[90m(\u001b[39m\u001b[32m\u001b[1mmean\u001b[22m\u001b[39m ± \u001b[32mσ\u001b[39m\u001b[90m):   \u001b[39m\u001b[32m\u001b[1m90.304 ms\u001b[22m\u001b[39m ± \u001b[32m  3.372 ms\u001b[39m  \u001b[90m┊\u001b[39m GC \u001b[90m(\u001b[39mmean ± σ\u001b[90m):  \u001b[39m0.46% ± 1.46%\n",
       "\n",
       "  \u001b[39m \u001b[39m \u001b[39m \u001b[39m▂\u001b[39m▂\u001b[39m▆\u001b[39m▄\u001b[39m▆\u001b[39m \u001b[39m \u001b[39m▂\u001b[39m▂\u001b[39m \u001b[39m▆\u001b[34m▂\u001b[39m\u001b[39m█\u001b[39m▄\u001b[39m \u001b[32m \u001b[39m\u001b[39m \u001b[39m \u001b[39m \u001b[39m \u001b[39m \u001b[39m \u001b[39m \u001b[39m▂\u001b[39m \u001b[39m \u001b[39m \u001b[39m \u001b[39m \u001b[39m \u001b[39m \u001b[39m \u001b[39m \u001b[39m \u001b[39m \u001b[39m \u001b[39m \u001b[39m \u001b[39m \u001b[39m \u001b[39m \u001b[39m \u001b[39m \u001b[39m \u001b[39m \u001b[39m \u001b[39m \u001b[39m \u001b[39m \u001b[39m \u001b[39m \u001b[39m \u001b[39m \u001b[39m \u001b[39m \u001b[39m \u001b[39m \u001b[39m \u001b[39m \n",
       "  \u001b[39m▄\u001b[39m▁\u001b[39m▁\u001b[39m█\u001b[39m█\u001b[39m█\u001b[39m█\u001b[39m█\u001b[39m█\u001b[39m█\u001b[39m█\u001b[39m█\u001b[39m▆\u001b[39m█\u001b[34m█\u001b[39m\u001b[39m█\u001b[39m█\u001b[39m▁\u001b[32m▆\u001b[39m\u001b[39m█\u001b[39m▄\u001b[39m▆\u001b[39m▆\u001b[39m▆\u001b[39m▄\u001b[39m▆\u001b[39m█\u001b[39m▄\u001b[39m▄\u001b[39m▄\u001b[39m▄\u001b[39m▆\u001b[39m▆\u001b[39m▄\u001b[39m▁\u001b[39m█\u001b[39m▁\u001b[39m▄\u001b[39m▁\u001b[39m▁\u001b[39m▁\u001b[39m▁\u001b[39m▁\u001b[39m▄\u001b[39m▁\u001b[39m▁\u001b[39m▁\u001b[39m▁\u001b[39m▁\u001b[39m▁\u001b[39m▁\u001b[39m▁\u001b[39m▁\u001b[39m▁\u001b[39m▁\u001b[39m▁\u001b[39m▁\u001b[39m▁\u001b[39m▁\u001b[39m▆\u001b[39m \u001b[39m▄\n",
       "  86.8 ms\u001b[90m         Histogram: frequency by time\u001b[39m         98.6 ms \u001b[0m\u001b[1m<\u001b[22m\n",
       "\n",
       " Memory estimate\u001b[90m: \u001b[39m\u001b[33m7.10 MiB\u001b[39m, allocs estimate\u001b[90m: \u001b[39m\u001b[33m48\u001b[39m."
      ]
     },
     "metadata": {},
     "output_type": "display_data"
    }
   ],
   "source": [
    "@benchmark deconvRL(img_n, psf, regularizer=nothing, iterations=30) samples=100 evals=1 seconds=60"
   ]
  },
  {
   "cell_type": "code",
   "execution_count": 72,
   "metadata": {},
   "outputs": [
    {
     "data": {
      "text/plain": [
       "BenchmarkTools.Trial: 100 samples with 1 evaluation.\n",
       " Range \u001b[90m(\u001b[39m\u001b[36m\u001b[1mmin\u001b[22m\u001b[39m … \u001b[35mmax\u001b[39m\u001b[90m):  \u001b[39m\u001b[36m\u001b[1m82.723 ms\u001b[22m\u001b[39m … \u001b[35m96.793 ms\u001b[39m  \u001b[90m┊\u001b[39m GC \u001b[90m(\u001b[39mmin … max\u001b[90m): \u001b[39m0.00% … 0.00%\n",
       " Time  \u001b[90m(\u001b[39m\u001b[34m\u001b[1mmedian\u001b[22m\u001b[39m\u001b[90m):     \u001b[39m\u001b[34m\u001b[1m86.112 ms              \u001b[22m\u001b[39m\u001b[90m┊\u001b[39m GC \u001b[90m(\u001b[39mmedian\u001b[90m):    \u001b[39m0.00%\n",
       " Time  \u001b[90m(\u001b[39m\u001b[32m\u001b[1mmean\u001b[22m\u001b[39m ± \u001b[32mσ\u001b[39m\u001b[90m):   \u001b[39m\u001b[32m\u001b[1m86.942 ms\u001b[22m\u001b[39m ± \u001b[32m 2.820 ms\u001b[39m  \u001b[90m┊\u001b[39m GC \u001b[90m(\u001b[39mmean ± σ\u001b[90m):  \u001b[39m0.69% ± 1.49%\n",
       "\n",
       "  \u001b[39m \u001b[39m \u001b[39m \u001b[39m \u001b[39m \u001b[39m \u001b[39m▁\u001b[39m \u001b[39m \u001b[39m▂\u001b[39m \u001b[39m█\u001b[39m▄\u001b[39m \u001b[39m▁\u001b[34m▁\u001b[39m\u001b[39m \u001b[39m \u001b[32m \u001b[39m\u001b[39m \u001b[39m▁\u001b[39m▂\u001b[39m \u001b[39m \u001b[39m \u001b[39m \u001b[39m \u001b[39m \u001b[39m \u001b[39m \u001b[39m \u001b[39m \u001b[39m \u001b[39m \u001b[39m \u001b[39m \u001b[39m \u001b[39m \u001b[39m \u001b[39m \u001b[39m \u001b[39m \u001b[39m \u001b[39m \u001b[39m \u001b[39m \u001b[39m \u001b[39m \u001b[39m \u001b[39m \u001b[39m \u001b[39m \u001b[39m \u001b[39m \u001b[39m \u001b[39m \u001b[39m \u001b[39m \u001b[39m \u001b[39m \u001b[39m \n",
       "  \u001b[39m▃\u001b[39m▃\u001b[39m▅\u001b[39m▃\u001b[39m▅\u001b[39m▅\u001b[39m█\u001b[39m▁\u001b[39m▅\u001b[39m█\u001b[39m█\u001b[39m█\u001b[39m█\u001b[39m█\u001b[39m█\u001b[34m█\u001b[39m\u001b[39m▅\u001b[39m▃\u001b[32m▅\u001b[39m\u001b[39m▁\u001b[39m█\u001b[39m█\u001b[39m▅\u001b[39m▅\u001b[39m▃\u001b[39m▁\u001b[39m▆\u001b[39m▆\u001b[39m▅\u001b[39m▃\u001b[39m▃\u001b[39m▁\u001b[39m▃\u001b[39m▃\u001b[39m▅\u001b[39m▅\u001b[39m▁\u001b[39m▁\u001b[39m▃\u001b[39m▁\u001b[39m▁\u001b[39m▁\u001b[39m▁\u001b[39m▁\u001b[39m▁\u001b[39m▁\u001b[39m▁\u001b[39m▁\u001b[39m▃\u001b[39m▁\u001b[39m▁\u001b[39m▁\u001b[39m▃\u001b[39m▁\u001b[39m▁\u001b[39m▁\u001b[39m▁\u001b[39m▃\u001b[39m▃\u001b[39m \u001b[39m▃\n",
       "  82.7 ms\u001b[90m         Histogram: frequency by time\u001b[39m        96.4 ms \u001b[0m\u001b[1m<\u001b[22m\n",
       "\n",
       " Memory estimate\u001b[90m: \u001b[39m\u001b[33m7.10 MiB\u001b[39m, allocs estimate\u001b[90m: \u001b[39m\u001b[33m49\u001b[39m."
      ]
     },
     "metadata": {},
     "output_type": "display_data"
    }
   ],
   "source": [
    "@benchmark deconvRL(img_n, psf, regularizer=nothing, iterations=30) samples=100 evals=1 seconds=60"
   ]
  },
  {
   "cell_type": "code",
   "execution_count": 19,
   "metadata": {},
   "outputs": [
    {
     "name": "stdout",
     "output_type": "stream",
     "text": [
      "Max value in res2: 0.2627451\n",
      "Min value in res2: 0.0\n",
      "Max value in res: 0.2627451\n",
      "Min value in res: 0.0\n",
      "Max value in img_n: 0.2627451\n",
      "Min value in img_n: 0.0\n"
     ]
    }
   ],
   "source": [
    "# Verificar valores mínimos y máximos en las matrices resultantes\n",
    "println(\"Max value in res2: \", maximum(res2))\n",
    "println(\"Min value in res2: \", minimum(res2))\n",
    "println(\"Max value in res: \", maximum(res))\n",
    "println(\"Min value in res: \", minimum(res))\n",
    "println(\"Max value in img_n: \", maximum(img_n))\n",
    "println(\"Min value in img_n: \", minimum(img_n))\n"
   ]
  },
  {
   "cell_type": "code",
   "execution_count": 50,
   "metadata": {},
   "outputs": [
    {
     "data": {
      "image/png": "[encoded data removed]",
      "text/html": [
       "<img src=\"data:image/png;base64,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\">"
      ],
      "text/plain": [
       "128×256 reinterpret(reshape, Gray{Float32}, ::Matrix{Float32}) with eltype Gray{Float32}:\n",
       " Gray{Float32}(0.0)  Gray{Float32}(0.0)  …  Gray{Float32}(0.0)\n",
       " Gray{Float32}(0.0)  Gray{Float32}(0.0)     Gray{Float32}(0.0)\n",
       " Gray{Float32}(0.0)  Gray{Float32}(0.0)     Gray{Float32}(0.0)\n",
       " Gray{Float32}(0.0)  Gray{Float32}(0.0)     Gray{Float32}(0.0)\n",
       " Gray{Float32}(0.0)  Gray{Float32}(0.0)     Gray{Float32}(0.0)\n",
       " Gray{Float32}(0.0)  Gray{Float32}(0.0)  …  Gray{Float32}(0.0)\n",
       " Gray{Float32}(0.0)  Gray{Float32}(0.0)     Gray{Float32}(0.0)\n",
       " Gray{Float32}(0.0)  Gray{Float32}(0.0)     Gray{Float32}(0.0)\n",
       " Gray{Float32}(0.0)  Gray{Float32}(0.0)     Gray{Float32}(0.0)\n",
       " Gray{Float32}(0.0)  Gray{Float32}(0.0)     Gray{Float32}(0.0)\n",
       " ⋮                                       ⋱  ⋮\n",
       " Gray{Float32}(0.0)  Gray{Float32}(0.0)     Gray{Float32}(0.0)\n",
       " Gray{Float32}(0.0)  Gray{Float32}(0.0)  …  Gray{Float32}(0.0)\n",
       " Gray{Float32}(0.0)  Gray{Float32}(0.0)     Gray{Float32}(0.0)\n",
       " Gray{Float32}(0.0)  Gray{Float32}(0.0)     Gray{Float32}(0.0)\n",
       " Gray{Float32}(0.0)  Gray{Float32}(0.0)     Gray{Float32}(0.0)\n",
       " Gray{Float32}(0.0)  Gray{Float32}(0.0)     Gray{Float32}(0.0)\n",
       " Gray{Float32}(0.0)  Gray{Float32}(0.0)  …  Gray{Float32}(0.0)\n",
       " Gray{Float32}(0.0)  Gray{Float32}(0.0)     Gray{Float32}(0.0)\n",
       " Gray{Float32}(0.0)  Gray{Float32}(0.0)     Gray{Float32}(0.0)"
      ]
     },
     "metadata": {},
     "output_type": "display_data"
    }
   ],
   "source": [
    "img_comb1 = [img[:, : ,32] res2[:, :, 32] res[:, :, 32] img_n[:, :, 32]]\n",
    "img_comb2 = [img[:, : ,38] res2[:, :, 38] res[:, :, 38] img_n[:, :, 38]]\n",
    "\n",
    "img_comb = cat(img_comb1, img_comb2, dims=1)\n",
    "#img_comb ./= maximum(img_comb)\n",
    "\n",
    "#imshow([img[:, :, 20:end] res2[:, :, 20:end] res[:, :, 20:end] img_n[:, :, 20:end]])\n",
    "colorview(Gray, img_comb)"
   ]
  },
  {
   "cell_type": "code",
   "execution_count": 22,
   "metadata": {},
   "outputs": [
    {
     "data": {
      "image/png": "[encoded data removed]",
      "text/html": [
       "<img src=\"data:image/png;base64,iVBORw0KGgoAAAANSUhEUgAAAIAAAACACAAAAADmVT4XAAAABGdBTUEAALGPC/xhBQAAAAFzUkdCAK7OHOkAAAAgY0hSTQAAeiYAAICEAAD6AAAAgOgAAHUwAADqYAAAOpgAABdwnLpRPAAABVxJREFUeAHFwdGOG8cRAMDq2V6Sd7ITI/n/X0wgyxKPuzvTEXEQbAP2HaU8TFWaLE2WJkuTpcnSZGmyNFmaLE2WJkuTpcnSZGmyNFmaLE2WJkuTpcnSZGmyNFmaLE2W/m+hhPJj0mTph4RXoRAI5UekydIPCCGEuxIKJRRKKI9Lk6XvEO5CE0LTlEAoQ8cwECiPSZOlhzV3zWKRQiCtynBoroYuDAyPSpOlB4XSLNIqpeYkpGF11ZXUvegOXTOE8r40WXpAoAkpnS1WT86ebE5K96zrDjfPPtnshrvyvjRZekjTNE/SL1blLPCkpMPmJPHZ1S8+CQe6UN6TJkvvCiFccHa2WnHGMOw2DWebXfjJolt9VspwV96SJkvvCKVZLD54tjg7uWmuyrChYViEs2b3wSYMXSjvSZOlN4UQ0tnF4uwiHMJHwybs7habs7tFOiFsuKGUt6TJ0jtKWqwuLk4uftNsbjabsiMtwtXFcLJ4FvhZ0w3lbWmy9KayWKSLk5NmeLH4aDN0XRmGskgDi2ZXftY1aRdC+TshTZbeEF6drD7oyk341RVdNzTDZnUYmjKc8exw8UVaDIHyTSivQilpsvQnoRBKuAupSam7CFeHEHY7hi40u3LRHHZp92JxcXbTpN0flW8KIU2WBMo3gfIqBM7SsxQ2m5sX3ZB2d6VrwrBYLZph0Q1nFze7UAKFUEJ5FUiTJSWEEkohBEogLELTLHblxbA7lAMlDIFFaZpVKOXJzUk42RyGV6EEwu/SZBkIlEK4KyEQSjk5KWdXL7ovytCVwNAQ0rPwAeEiHD74r5OPmhLKXaGEEr5Jk6WvCqEESgiUUJrAYbUJi0V6EZpwCK8WafNPqTSHRTic3Cy6xRBKKAQCoVDSZEkod4ESSgiBQBiazbPdrjsMA7umNEPThIuz1bAqw2LY3HVDGMIQKM0Qyqs0WVJ+Fwh3pSya0KxOupOroaTDoQlloOxW4epwsVuUn1ytvmiaZigh3IUS7kIJabKkhFcl3BVKGJqw6w7PCs2T39w1h9KEEA43i8WudIub1aaEQ1dCKYESXg3NkCZLAoUQKIQSSjMcLrphd7Y6+SwMgSYUSum68MVZWqy6YbcbQvldCXeFMIQ0WRZCKBRCIRCGZth1ZXVzcXhxlja7ZrgL5RC61Cy6xebJYdgUyl0ogXIXSihpsvRVIbwqoRAIDIfN5ouTQ3hyKE0qiy6EEkogNJRnnx2GoSMUyl35szRZ+ioUyqtyV+5C6TYv0io9G1aLFwOhBJrQNE3TXCw+2RxeFEopr8o3hUKaLH1VKH8UCqGUodt8ltLi5NnQbG5KKk0hhYsPWCxWH20O3VDKXwslTZb+UvlmGHY3q25VTpquDDSb0JyQeLYqZ5uPDje7w1D+TiFNlt5QCMNhdxUIF004W9w0qYTV5iKtnuxevBiuNt1AKH8vTZbeUUp3eJFunu1OWNw8++RZaVb/cuAfrg785uZwM5QS3pImS+8aml35jG61KOEnN/+2u3gRyslwdeh+9cXNZhjuylvSZOkBZdjRdE8OPwtXZ4tmSAtuyheHm5sXu8NQynvSZOkBhbJLu93Z4azZrc527LpDd3OzGTbdUB6RJksPKWG4CaXbHMrq5D8++CKUw6Y77IYDpTwiTZYeVMKu6brdLpzddFerza6jO5ShlEelydKDQqFwaLrmUGgGShkYBsrj0mTpQeWuUMqrEArNUMqr8j3SZOk7FUogDKEwhIFQvleaLP2QQgnDH5XvlyZL/4fyTflRabI0WZosTZYmS5OlydJkabI0WZosTZYmS5OlydJkabI0WZosTZYmS5Olyf4He5CFIWG0DmQAAAAASUVORK5C\">"
      ],
      "text/plain": [
       "64×64 reinterpret(reshape, Gray{Float32}, ::Matrix{Float32}) with eltype Gray{Float32}:\n",
       " Gray{Float32}(0.0)  Gray{Float32}(0.0)  …  Gray{Float32}(0.0)\n",
       " Gray{Float32}(0.0)  Gray{Float32}(0.0)     Gray{Float32}(0.0)\n",
       " Gray{Float32}(0.0)  Gray{Float32}(0.0)     Gray{Float32}(0.0)\n",
       " Gray{Float32}(0.0)  Gray{Float32}(0.0)     Gray{Float32}(0.0)\n",
       " Gray{Float32}(0.0)  Gray{Float32}(0.0)     Gray{Float32}(0.0)\n",
       " Gray{Float32}(0.0)  Gray{Float32}(0.0)  …  Gray{Float32}(0.0)\n",
       " Gray{Float32}(0.0)  Gray{Float32}(0.0)     Gray{Float32}(0.0)\n",
       " Gray{Float32}(0.0)  Gray{Float32}(0.0)     Gray{Float32}(0.0)\n",
       " Gray{Float32}(0.0)  Gray{Float32}(0.0)     Gray{Float32}(0.0)\n",
       " Gray{Float32}(0.0)  Gray{Float32}(0.0)     Gray{Float32}(0.0)\n",
       " ⋮                                       ⋱  \n",
       " Gray{Float32}(0.0)  Gray{Float32}(0.0)  …  Gray{Float32}(0.0)\n",
       " Gray{Float32}(0.0)  Gray{Float32}(0.0)     Gray{Float32}(0.0)\n",
       " Gray{Float32}(0.0)  Gray{Float32}(0.0)     Gray{Float32}(0.0)\n",
       " Gray{Float32}(0.0)  Gray{Float32}(0.0)     Gray{Float32}(0.0)\n",
       " Gray{Float32}(0.0)  Gray{Float32}(0.0)     Gray{Float32}(0.0)\n",
       " Gray{Float32}(0.0)  Gray{Float32}(0.0)  …  Gray{Float32}(0.0)\n",
       " Gray{Float32}(0.0)  Gray{Float32}(0.0)     Gray{Float32}(0.0)\n",
       " Gray{Float32}(0.0)  Gray{Float32}(0.0)     Gray{Float32}(0.0)\n",
       " Gray{Float32}(0.0)  Gray{Float32}(0.0)     Gray{Float32}(0.0)"
      ]
     },
     "metadata": {},
     "output_type": "display_data"
    }
   ],
   "source": [
    "colorview(Gray,img_n[:,:,32])"
   ]
  },
  {
   "cell_type": "code",
   "execution_count": 23,
   "metadata": {},
   "outputs": [
    {
     "data": {
      "image/png": "[encoded data removed]",
      "text/html": [
       "<img src=\"data:image/png;base64,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\">"
      ],
      "text/plain": [
       "64×64 reinterpret(reshape, Gray{Float32}, ::Matrix{Float32}) with eltype Gray{Float32}:\n",
       " Gray{Float32}(0.0)  Gray{Float32}(0.0)  …  Gray{Float32}(0.0)\n",
       " Gray{Float32}(0.0)  Gray{Float32}(0.0)     Gray{Float32}(0.0)\n",
       " Gray{Float32}(0.0)  Gray{Float32}(0.0)     Gray{Float32}(0.0)\n",
       " Gray{Float32}(0.0)  Gray{Float32}(0.0)     Gray{Float32}(0.0)\n",
       " Gray{Float32}(0.0)  Gray{Float32}(0.0)     Gray{Float32}(0.0)\n",
       " Gray{Float32}(0.0)  Gray{Float32}(0.0)  …  Gray{Float32}(0.0)\n",
       " Gray{Float32}(0.0)  Gray{Float32}(0.0)     Gray{Float32}(0.0)\n",
       " Gray{Float32}(0.0)  Gray{Float32}(0.0)     Gray{Float32}(0.0)\n",
       " Gray{Float32}(0.0)  Gray{Float32}(0.0)     Gray{Float32}(0.0)\n",
       " Gray{Float32}(0.0)  Gray{Float32}(0.0)     Gray{Float32}(0.0)\n",
       " ⋮                                       ⋱  \n",
       " Gray{Float32}(0.0)  Gray{Float32}(0.0)  …  Gray{Float32}(0.0)\n",
       " Gray{Float32}(0.0)  Gray{Float32}(0.0)     Gray{Float32}(0.0)\n",
       " Gray{Float32}(0.0)  Gray{Float32}(0.0)     Gray{Float32}(0.0)\n",
       " Gray{Float32}(0.0)  Gray{Float32}(0.0)     Gray{Float32}(0.0)\n",
       " Gray{Float32}(0.0)  Gray{Float32}(0.0)     Gray{Float32}(0.0)\n",
       " Gray{Float32}(0.0)  Gray{Float32}(0.0)  …  Gray{Float32}(0.0)\n",
       " Gray{Float32}(0.0)  Gray{Float32}(0.0)     Gray{Float32}(0.0)\n",
       " Gray{Float32}(0.0)  Gray{Float32}(0.0)     Gray{Float32}(0.0)\n",
       " Gray{Float32}(0.0)  Gray{Float32}(0.0)     Gray{Float32}(0.0)"
      ]
     },
     "metadata": {},
     "output_type": "display_data"
    }
   ],
   "source": [
    "colorview(Gray, res[:, :, 32])"
   ]
  },
  {
   "cell_type": "markdown",
   "metadata": {},
   "source": [
    "---\n",
    "## Cell 3D"
   ]
  },
  {
   "cell_type": "code",
   "execution_count": 24,
   "metadata": {},
   "outputs": [
    {
     "name": "stderr",
     "output_type": "stream",
     "text": [
      "\u001b[32mLoading: 100%|███████████████████████████████████████████| Time: 0:00:00\u001b[39m\u001b[K\n"
     ]
    }
   ],
   "source": [
    "cell = convert(Array{Float32}, channelview(load(\"cells3d_convolved.tiff\")));"
   ]
  },
  {
   "cell_type": "code",
   "execution_count": 25,
   "metadata": {},
   "outputs": [],
   "source": [
    "cell_psf = convert(Array{Float32}, channelview(load(\"cells3d_psf.tiff\")));"
   ]
  },
  {
   "cell_type": "code",
   "execution_count": 26,
   "metadata": {},
   "outputs": [],
   "source": [
    "cell = cell .- minimum(cell) \n",
    "cell /= (maximum(cell) - minimum(cell));\n",
    "cell_psf /= maximum(cell_psf);"
   ]
  },
  {
   "cell_type": "code",
   "execution_count": 27,
   "metadata": {},
   "outputs": [
    {
     "data": {
      "image/png": "[encoded data removed]",
      "text/html": [
       "<img src=\"data:image/png;base64,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\">"
      ],
      "text/plain": [
       "71×71 reinterpret(reshape, Gray{Float32}, ::Matrix{Float32}) with eltype Gray{Float32}:\n",
       " Gray{Float32}(0.0295908)  …  Gray{Float32}(0.0832421)\n",
       " Gray{Float32}(0.0328888)     Gray{Float32}(0.0794624)\n",
       " Gray{Float32}(0.0384158)     Gray{Float32}(0.0745352)\n",
       " Gray{Float32}(0.0449749)     Gray{Float32}(0.0711826)\n",
       " Gray{Float32}(0.0518858)     Gray{Float32}(0.0699001)\n",
       " Gray{Float32}(0.0586926)  …  Gray{Float32}(0.0690544)\n",
       " Gray{Float32}(0.0646962)     Gray{Float32}(0.0668624)\n",
       " Gray{Float32}(0.069164)      Gray{Float32}(0.0630441)\n",
       " Gray{Float32}(0.0719617)     Gray{Float32}(0.0586646)\n",
       " Gray{Float32}(0.0737044)     Gray{Float32}(0.0547151)\n",
       " ⋮                         ⋱  ⋮\n",
       " Gray{Float32}(0.0596361)     Gray{Float32}(0.0651216)\n",
       " Gray{Float32}(0.0587065)     Gray{Float32}(0.0768768)\n",
       " Gray{Float32}(0.0576854)     Gray{Float32}(0.0980748)\n",
       " Gray{Float32}(0.0568472)  …  Gray{Float32}(0.13526)\n",
       " Gray{Float32}(0.0568513)     Gray{Float32}(0.194223)\n",
       " Gray{Float32}(0.0581284)     Gray{Float32}(0.275242)\n",
       " Gray{Float32}(0.0605068)     Gray{Float32}(0.368184)\n",
       " Gray{Float32}(0.0631734)     Gray{Float32}(0.452133)\n",
       " Gray{Float32}(0.0649562)  …  Gray{Float32}(0.502466)"
      ]
     },
     "metadata": {},
     "output_type": "display_data"
    }
   ],
   "source": [
    "colorview(Gray,cell[:,:,30])"
   ]
  },
  {
   "cell_type": "code",
   "execution_count": 28,
   "metadata": {},
   "outputs": [],
   "source": [
    "cell2 = cell .- minimum(cell) \n",
    "cell2 /= (maximum(cell) - minimum(cell));\n",
    "cell_psf2 = cell_psf .- minimum(cell_psf) \n",
    "cell_psf2 /= (maximum(cell_psf) - minimum(cell_psf));"
   ]
  },
  {
   "cell_type": "code",
   "execution_count": 29,
   "metadata": {},
   "outputs": [
    {
     "data": {
      "image/png": "[encoded data removed]",
      "text/html": [
       "<img src=\"data:image/png;base64,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\">"
      ],
      "text/plain": [
       "71×71 reinterpret(reshape, Gray{Float32}, ::Matrix{Float32}) with eltype Gray{Float32}:\n",
       " Gray{Float32}(0.0295908)  …  Gray{Float32}(0.0832421)\n",
       " Gray{Float32}(0.0328888)     Gray{Float32}(0.0794624)\n",
       " Gray{Float32}(0.0384158)     Gray{Float32}(0.0745352)\n",
       " Gray{Float32}(0.0449749)     Gray{Float32}(0.0711826)\n",
       " Gray{Float32}(0.0518858)     Gray{Float32}(0.0699001)\n",
       " Gray{Float32}(0.0586926)  …  Gray{Float32}(0.0690544)\n",
       " Gray{Float32}(0.0646962)     Gray{Float32}(0.0668624)\n",
       " Gray{Float32}(0.069164)      Gray{Float32}(0.0630441)\n",
       " Gray{Float32}(0.0719617)     Gray{Float32}(0.0586646)\n",
       " Gray{Float32}(0.0737044)     Gray{Float32}(0.0547151)\n",
       " ⋮                         ⋱  ⋮\n",
       " Gray{Float32}(0.0596361)     Gray{Float32}(0.0651216)\n",
       " Gray{Float32}(0.0587065)     Gray{Float32}(0.0768768)\n",
       " Gray{Float32}(0.0576854)     Gray{Float32}(0.0980748)\n",
       " Gray{Float32}(0.0568472)  …  Gray{Float32}(0.13526)\n",
       " Gray{Float32}(0.0568513)     Gray{Float32}(0.194223)\n",
       " Gray{Float32}(0.0581284)     Gray{Float32}(0.275242)\n",
       " Gray{Float32}(0.0605068)     Gray{Float32}(0.368184)\n",
       " Gray{Float32}(0.0631734)     Gray{Float32}(0.452133)\n",
       " Gray{Float32}(0.0649562)  …  Gray{Float32}(0.502466)"
      ]
     },
     "metadata": {},
     "output_type": "display_data"
    }
   ],
   "source": [
    "colorview(Gray,cell2[:,:,30])"
   ]
  },
  {
   "cell_type": "code",
   "execution_count": 30,
   "metadata": {},
   "outputs": [
    {
     "data": {
      "image/png": "[encoded data removed]",
      "text/html": [
       "<img src=\"data:image/png;base64,iVBORw0KGgoAAAANSUhEUgAAAI4AAACOCAAAAADClm/UAAAABGdBTUEAALGPC/xhBQAAAAFzUkdCAK7OHOkAAAAgY0hSTQAAeiYAAICEAAD6AAAAgOgAAHUwAADqYAAAOpgAABdwnLpRPAAAAcdJREFUeAHNwUFKI1EABcDq5EUwqwEXARdzgGHuMPe/gEcQggpuTDAx/ecO3Vm8qqgSVaJKVIkqUSWqRJWoElWiSlSJKlElqkSVqBJVokpUiSpRJapElagSVaJKVIkqUSWqRJWoElWiSlSJKlElqkSVqBJVokpUiSpRJapElagSVaJKVIkqUSWqRJW4i8lwD1ElVppMmAwMwzpRJVbZ2Njamgw3N7PZGlElVtjYerD3aOfq7OSC2XJRJRabbDz45eBg7+To6NO3YVgqqsRik629g7/+ePLhBRc/ZsNSUSVW2Hp08Mc/z17x5t2Xq+WiSiw0mUx29p48+40nezuTyWRYJqrEQsMwXJ18eMWrDydXwzAsFVVihZuzoxc8+fDi6OxmjagSiw03J0e82Ts5Ojq5GZaLKrHYMLv4dPFu5+rs5GI2LBdVYoUZ3358mQw3N7PZGlElVpkNs6vJwDCsE1VipWFgMtxDVIm7GO4jqkSVqBJVokpUiSpRJapElagSVaJKVIkqUSWqRJWoElWiSlSJKlElqkSVqBJVokpUiSpRJapElagSVaJKVIkqUSWqRJWoElWiSlSJKlElqkSVqBJVokpUiSr/AQA2ZEZgpjD6AAAAAElFTkSuQmCC\">"
      ],
      "text/plain": [
       "71×71 reinterpret(reshape, Gray{Float32}, ::Matrix{Float32}) with eltype Gray{Float32}:\n",
       " Gray{Float32}(0.0)  Gray{Float32}(0.0)  …  Gray{Float32}(0.0)\n",
       " Gray{Float32}(0.0)  Gray{Float32}(0.0)     Gray{Float32}(0.0)\n",
       " Gray{Float32}(0.0)  Gray{Float32}(0.0)     Gray{Float32}(0.0)\n",
       " Gray{Float32}(0.0)  Gray{Float32}(0.0)     Gray{Float32}(0.0)\n",
       " Gray{Float32}(0.0)  Gray{Float32}(0.0)     Gray{Float32}(0.0)\n",
       " Gray{Float32}(0.0)  Gray{Float32}(0.0)  …  Gray{Float32}(0.0)\n",
       " Gray{Float32}(0.0)  Gray{Float32}(0.0)     Gray{Float32}(0.0)\n",
       " Gray{Float32}(0.0)  Gray{Float32}(0.0)     Gray{Float32}(0.0)\n",
       " Gray{Float32}(0.0)  Gray{Float32}(0.0)     Gray{Float32}(0.0)\n",
       " Gray{Float32}(0.0)  Gray{Float32}(0.0)     Gray{Float32}(0.0)\n",
       " ⋮                                       ⋱  ⋮\n",
       " Gray{Float32}(0.0)  Gray{Float32}(0.0)     Gray{Float32}(0.0)\n",
       " Gray{Float32}(0.0)  Gray{Float32}(0.0)     Gray{Float32}(0.0)\n",
       " Gray{Float32}(0.0)  Gray{Float32}(0.0)     Gray{Float32}(0.0)\n",
       " Gray{Float32}(0.0)  Gray{Float32}(0.0)  …  Gray{Float32}(0.0)\n",
       " Gray{Float32}(0.0)  Gray{Float32}(0.0)     Gray{Float32}(0.0)\n",
       " Gray{Float32}(0.0)  Gray{Float32}(0.0)     Gray{Float32}(0.0)\n",
       " Gray{Float32}(0.0)  Gray{Float32}(0.0)     Gray{Float32}(0.0)\n",
       " Gray{Float32}(0.0)  Gray{Float32}(0.0)     Gray{Float32}(0.0)\n",
       " Gray{Float32}(0.0)  Gray{Float32}(0.0)  …  Gray{Float32}(0.0)"
      ]
     },
     "metadata": {},
     "output_type": "display_data"
    }
   ],
   "source": [
    "colorview(Gray, cell_psf[:,:,30])"
   ]
  },
  {
   "cell_type": "code",
   "execution_count": null,
   "metadata": {},
   "outputs": [],
   "source": [
    "# colorview(Gray, cell_psf2[:,:,30])"
   ]
  },
  {
   "cell_type": "code",
   "execution_count": 31,
   "metadata": {},
   "outputs": [],
   "source": [
    "i_cell_psf = ifftshift(cell_psf2);"
   ]
  },
  {
   "cell_type": "code",
   "execution_count": 32,
   "metadata": {},
   "outputs": [],
   "source": [
    "# @btime richardson_lucy_iterative(cell2, i_cell_psf, regularizer=nothing, iterations=30);\n",
    "cell_res2 = richardson_lucy_iterative(cell2, i_cell_psf, regularizer=nothing, iterations=30);"
   ]
  },
  {
   "cell_type": "code",
   "execution_count": 33,
   "metadata": {},
   "outputs": [
    {
     "data": {
      "image/png": "[encoded data removed]",
      "text/html": [
       "<img src=\"data:image/png;base64,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\">"
      ],
      "text/plain": [
       "71×71 reinterpret(reshape, Gray{Float32}, ::Matrix{Float32}) with eltype Gray{Float32}:\n",
       " Gray{Float32}(0.0066135)   …  Gray{Float32}(0.0330002)\n",
       " Gray{Float32}(0.0033715)      Gray{Float32}(0.010101)\n",
       " Gray{Float32}(0.00538799)     Gray{Float32}(0.0104264)\n",
       " Gray{Float32}(0.0177214)      Gray{Float32}(0.0263024)\n",
       " Gray{Float32}(0.0528385)      Gray{Float32}(0.0681049)\n",
       " Gray{Float32}(0.0913428)   …  Gray{Float32}(0.106008)\n",
       " Gray{Float32}(0.096933)       Gray{Float32}(0.100096)\n",
       " Gray{Float32}(0.083475)       Gray{Float32}(0.0756929)\n",
       " Gray{Float32}(0.0732296)      Gray{Float32}(0.0586601)\n",
       " Gray{Float32}(0.0706818)      Gray{Float32}(0.051028)\n",
       " ⋮                          ⋱  ⋮\n",
       " Gray{Float32}(0.0648739)      Gray{Float32}(0.0719122)\n",
       " Gray{Float32}(0.0521232)      Gray{Float32}(0.0667597)\n",
       " Gray{Float32}(0.0359346)      Gray{Float32}(0.0567216)\n",
       " Gray{Float32}(0.0257171)   …  Gray{Float32}(0.0555248)\n",
       " Gray{Float32}(0.0251188)      Gray{Float32}(0.0821724)\n",
       " Gray{Float32}(0.0368445)      Gray{Float32}(0.188152)\n",
       " Gray{Float32}(0.0586786)      Gray{Float32}(0.425626)\n",
       " Gray{Float32}(0.0558658)      Gray{Float32}(0.466904)\n",
       " Gray{Float32}(0.0232982)   …  Gray{Float32}(0.170975)"
      ]
     },
     "metadata": {},
     "output_type": "display_data"
    }
   ],
   "source": [
    "colorview(Gray, cell_res2[:,:,30])"
   ]
  },
  {
   "cell_type": "code",
   "execution_count": 38,
   "metadata": {},
   "outputs": [
    {
     "data": {
      "text/plain": [
       "BenchmarkTools.Trial: 10 samples with 1 evaluation.\n",
       " Range \u001b[90m(\u001b[39m\u001b[36m\u001b[1mmin\u001b[22m\u001b[39m … \u001b[35mmax\u001b[39m\u001b[90m):  \u001b[39m\u001b[36m\u001b[1m490.323 ms\u001b[22m\u001b[39m … \u001b[35m501.486 ms\u001b[39m  \u001b[90m┊\u001b[39m GC \u001b[90m(\u001b[39mmin … max\u001b[90m): \u001b[39m0.00% … 0.00%\n",
       " Time  \u001b[90m(\u001b[39m\u001b[34m\u001b[1mmedian\u001b[22m\u001b[39m\u001b[90m):     \u001b[39m\u001b[34m\u001b[1m493.195 ms               \u001b[22m\u001b[39m\u001b[90m┊\u001b[39m GC \u001b[90m(\u001b[39mmedian\u001b[90m):    \u001b[39m0.00%\n",
       " Time  \u001b[90m(\u001b[39m\u001b[32m\u001b[1mmean\u001b[22m\u001b[39m ± \u001b[32mσ\u001b[39m\u001b[90m):   \u001b[39m\u001b[32m\u001b[1m494.311 ms\u001b[22m\u001b[39m ± \u001b[32m  3.579 ms\u001b[39m  \u001b[90m┊\u001b[39m GC \u001b[90m(\u001b[39mmean ± σ\u001b[90m):  \u001b[39m0.00% ± 0.00%\n",
       "\n",
       "  \u001b[39m▁\u001b[39m \u001b[39m▁\u001b[39m \u001b[39m \u001b[39m \u001b[39m▁\u001b[39m \u001b[39m \u001b[39m \u001b[39m \u001b[39m \u001b[39m \u001b[39m \u001b[39m \u001b[34m█\u001b[39m\u001b[39m▁\u001b[39m \u001b[39m \u001b[39m \u001b[39m▁\u001b[39m \u001b[32m \u001b[39m\u001b[39m \u001b[39m \u001b[39m \u001b[39m \u001b[39m \u001b[39m \u001b[39m \u001b[39m \u001b[39m \u001b[39m \u001b[39m \u001b[39m▁\u001b[39m \u001b[39m \u001b[39m \u001b[39m \u001b[39m \u001b[39m \u001b[39m \u001b[39m \u001b[39m \u001b[39m \u001b[39m▁\u001b[39m \u001b[39m \u001b[39m \u001b[39m \u001b[39m \u001b[39m \u001b[39m \u001b[39m \u001b[39m \u001b[39m \u001b[39m \u001b[39m \u001b[39m \u001b[39m \u001b[39m▁\u001b[39m \u001b[39m \n",
       "  \u001b[39m█\u001b[39m▁\u001b[39m█\u001b[39m▁\u001b[39m▁\u001b[39m▁\u001b[39m█\u001b[39m▁\u001b[39m▁\u001b[39m▁\u001b[39m▁\u001b[39m▁\u001b[39m▁\u001b[39m▁\u001b[39m▁\u001b[34m█\u001b[39m\u001b[39m█\u001b[39m▁\u001b[39m▁\u001b[39m▁\u001b[39m█\u001b[39m▁\u001b[32m▁\u001b[39m\u001b[39m▁\u001b[39m▁\u001b[39m▁\u001b[39m▁\u001b[39m▁\u001b[39m▁\u001b[39m▁\u001b[39m▁\u001b[39m▁\u001b[39m▁\u001b[39m▁\u001b[39m█\u001b[39m▁\u001b[39m▁\u001b[39m▁\u001b[39m▁\u001b[39m▁\u001b[39m▁\u001b[39m▁\u001b[39m▁\u001b[39m▁\u001b[39m▁\u001b[39m█\u001b[39m▁\u001b[39m▁\u001b[39m▁\u001b[39m▁\u001b[39m▁\u001b[39m▁\u001b[39m▁\u001b[39m▁\u001b[39m▁\u001b[39m▁\u001b[39m▁\u001b[39m▁\u001b[39m▁\u001b[39m▁\u001b[39m█\u001b[39m \u001b[39m▁\n",
       "  490 ms\u001b[90m           Histogram: frequency by time\u001b[39m          501 ms \u001b[0m\u001b[1m<\u001b[22m\n",
       "\n",
       " Memory estimate\u001b[90m: \u001b[39m\u001b[33m7.99 MiB\u001b[39m, allocs estimate\u001b[90m: \u001b[39m\u001b[33m49\u001b[39m."
      ]
     },
     "metadata": {},
     "output_type": "display_data"
    }
   ],
   "source": [
    "@benchmark richardson_lucy_iterative(cell2, i_cell_psf, regularizer=nothing, iterations=30) samples=10 evals=1 seconds=60"
   ]
  },
  {
   "cell_type": "code",
   "execution_count": 52,
   "metadata": {},
   "outputs": [
    {
     "data": {
      "image/png": "[encoded data removed]",
      "text/html": [
       "<img src=\"data:image/png;base64,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\">"
      ],
      "text/plain": [
       "71×71 reinterpret(reshape, Gray{Float32}, ::Matrix{Float32}) with eltype Gray{Float32}:\n",
       " Gray{Float32}(0.0066135)   …  Gray{Float32}(0.0330002)\n",
       " Gray{Float32}(0.0033715)      Gray{Float32}(0.010101)\n",
       " Gray{Float32}(0.00538799)     Gray{Float32}(0.0104264)\n",
       " Gray{Float32}(0.0177214)      Gray{Float32}(0.0263024)\n",
       " Gray{Float32}(0.0528385)      Gray{Float32}(0.0681049)\n",
       " Gray{Float32}(0.0913428)   …  Gray{Float32}(0.106008)\n",
       " Gray{Float32}(0.096933)       Gray{Float32}(0.100096)\n",
       " Gray{Float32}(0.083475)       Gray{Float32}(0.0756929)\n",
       " Gray{Float32}(0.0732296)      Gray{Float32}(0.0586601)\n",
       " Gray{Float32}(0.0706818)      Gray{Float32}(0.051028)\n",
       " ⋮                          ⋱  ⋮\n",
       " Gray{Float32}(0.0648739)      Gray{Float32}(0.0719122)\n",
       " Gray{Float32}(0.0521232)      Gray{Float32}(0.0667597)\n",
       " Gray{Float32}(0.0359346)      Gray{Float32}(0.0567216)\n",
       " Gray{Float32}(0.0257171)   …  Gray{Float32}(0.0555248)\n",
       " Gray{Float32}(0.0251188)      Gray{Float32}(0.0821724)\n",
       " Gray{Float32}(0.0368445)      Gray{Float32}(0.188152)\n",
       " Gray{Float32}(0.0586786)      Gray{Float32}(0.425626)\n",
       " Gray{Float32}(0.0558658)      Gray{Float32}(0.466904)\n",
       " Gray{Float32}(0.0232982)   …  Gray{Float32}(0.170975)"
      ]
     },
     "metadata": {},
     "output_type": "display_data"
    }
   ],
   "source": [
    "cell_res3 = deconvRL(cell2, i_cell_psf, regularizer=nothing, iterations=30);\n",
    "colorview(Gray, cell_res2[:,:,30])"
   ]
  },
  {
   "cell_type": "code",
   "execution_count": 67,
   "metadata": {},
   "outputs": [
    {
     "data": {
      "text/plain": [
       "BenchmarkTools.Trial: 10 samples with 1 evaluation.\n",
       " Range \u001b[90m(\u001b[39m\u001b[36m\u001b[1mmin\u001b[22m\u001b[39m … \u001b[35mmax\u001b[39m\u001b[90m):  \u001b[39m\u001b[36m\u001b[1m488.710 ms\u001b[22m\u001b[39m … \u001b[35m493.406 ms\u001b[39m  \u001b[90m┊\u001b[39m GC \u001b[90m(\u001b[39mmin … max\u001b[90m): \u001b[39m0.00% … 0.00%\n",
       " Time  \u001b[90m(\u001b[39m\u001b[34m\u001b[1mmedian\u001b[22m\u001b[39m\u001b[90m):     \u001b[39m\u001b[34m\u001b[1m489.710 ms               \u001b[22m\u001b[39m\u001b[90m┊\u001b[39m GC \u001b[90m(\u001b[39mmedian\u001b[90m):    \u001b[39m0.00%\n",
       " Time  \u001b[90m(\u001b[39m\u001b[32m\u001b[1mmean\u001b[22m\u001b[39m ± \u001b[32mσ\u001b[39m\u001b[90m):   \u001b[39m\u001b[32m\u001b[1m490.184 ms\u001b[22m\u001b[39m ± \u001b[32m  1.480 ms\u001b[39m  \u001b[90m┊\u001b[39m GC \u001b[90m(\u001b[39mmean ± σ\u001b[90m):  \u001b[39m0.00% ± 0.00%\n",
       "\n",
       "  \u001b[39m█\u001b[39m \u001b[39m \u001b[39m█\u001b[39m█\u001b[39m█\u001b[39m \u001b[39m \u001b[39m█\u001b[34m \u001b[39m\u001b[39m \u001b[39m \u001b[39m \u001b[39m \u001b[39m \u001b[39m \u001b[39m \u001b[39m█\u001b[39m \u001b[32m \u001b[39m\u001b[39m \u001b[39m \u001b[39m \u001b[39m█\u001b[39m \u001b[39m \u001b[39m \u001b[39m \u001b[39m \u001b[39m \u001b[39m█\u001b[39m \u001b[39m \u001b[39m \u001b[39m \u001b[39m \u001b[39m█\u001b[39m \u001b[39m \u001b[39m \u001b[39m \u001b[39m \u001b[39m \u001b[39m \u001b[39m \u001b[39m \u001b[39m \u001b[39m \u001b[39m \u001b[39m \u001b[39m \u001b[39m \u001b[39m \u001b[39m \u001b[39m \u001b[39m \u001b[39m \u001b[39m \u001b[39m \u001b[39m \u001b[39m█\u001b[39m \u001b[39m \n",
       "  \u001b[39m█\u001b[39m▁\u001b[39m▁\u001b[39m█\u001b[39m█\u001b[39m█\u001b[39m▁\u001b[39m▁\u001b[39m█\u001b[34m▁\u001b[39m\u001b[39m▁\u001b[39m▁\u001b[39m▁\u001b[39m▁\u001b[39m▁\u001b[39m▁\u001b[39m▁\u001b[39m█\u001b[39m▁\u001b[32m▁\u001b[39m\u001b[39m▁\u001b[39m▁\u001b[39m▁\u001b[39m█\u001b[39m▁\u001b[39m▁\u001b[39m▁\u001b[39m▁\u001b[39m▁\u001b[39m▁\u001b[39m█\u001b[39m▁\u001b[39m▁\u001b[39m▁\u001b[39m▁\u001b[39m▁\u001b[39m█\u001b[39m▁\u001b[39m▁\u001b[39m▁\u001b[39m▁\u001b[39m▁\u001b[39m▁\u001b[39m▁\u001b[39m▁\u001b[39m▁\u001b[39m▁\u001b[39m▁\u001b[39m▁\u001b[39m▁\u001b[39m▁\u001b[39m▁\u001b[39m▁\u001b[39m▁\u001b[39m▁\u001b[39m▁\u001b[39m▁\u001b[39m▁\u001b[39m▁\u001b[39m▁\u001b[39m█\u001b[39m \u001b[39m▁\n",
       "  489 ms\u001b[90m           Histogram: frequency by time\u001b[39m          493 ms \u001b[0m\u001b[1m<\u001b[22m\n",
       "\n",
       " Memory estimate\u001b[90m: \u001b[39m\u001b[33m7.99 MiB\u001b[39m, allocs estimate\u001b[90m: \u001b[39m\u001b[33m48\u001b[39m."
      ]
     },
     "metadata": {},
     "output_type": "display_data"
    }
   ],
   "source": [
    "@benchmark deconvRL(cell2, i_cell_psf, regularizer=nothing, iterations=30) samples=10 evals=1 seconds=60"
   ]
  },
  {
   "cell_type": "code",
   "execution_count": 73,
   "metadata": {},
   "outputs": [
    {
     "data": {
      "text/plain": [
       "BenchmarkTools.Trial: 10 samples with 1 evaluation.\n",
       " Range \u001b[90m(\u001b[39m\u001b[36m\u001b[1mmin\u001b[22m\u001b[39m … \u001b[35mmax\u001b[39m\u001b[90m):  \u001b[39m\u001b[36m\u001b[1m480.735 ms\u001b[22m\u001b[39m … \u001b[35m500.561 ms\u001b[39m  \u001b[90m┊\u001b[39m GC \u001b[90m(\u001b[39mmin … max\u001b[90m): \u001b[39m0.00% … 0.00%\n",
       " Time  \u001b[90m(\u001b[39m\u001b[34m\u001b[1mmedian\u001b[22m\u001b[39m\u001b[90m):     \u001b[39m\u001b[34m\u001b[1m488.622 ms               \u001b[22m\u001b[39m\u001b[90m┊\u001b[39m GC \u001b[90m(\u001b[39mmedian\u001b[90m):    \u001b[39m0.00%\n",
       " Time  \u001b[90m(\u001b[39m\u001b[32m\u001b[1mmean\u001b[22m\u001b[39m ± \u001b[32mσ\u001b[39m\u001b[90m):   \u001b[39m\u001b[32m\u001b[1m488.655 ms\u001b[22m\u001b[39m ± \u001b[32m  5.382 ms\u001b[39m  \u001b[90m┊\u001b[39m GC \u001b[90m(\u001b[39mmean ± σ\u001b[90m):  \u001b[39m0.00% ± 0.00%\n",
       "\n",
       "  \u001b[39m▁\u001b[39m \u001b[39m \u001b[39m \u001b[39m \u001b[39m \u001b[39m▁\u001b[39m \u001b[39m \u001b[39m \u001b[39m \u001b[39m \u001b[39m \u001b[39m \u001b[39m \u001b[39m \u001b[39m \u001b[39m▁\u001b[39m \u001b[39m \u001b[39m▁\u001b[39m \u001b[39m \u001b[39m▁\u001b[34m█\u001b[39m\u001b[39m \u001b[39m \u001b[39m \u001b[39m \u001b[39m▁\u001b[39m \u001b[39m \u001b[39m \u001b[39m \u001b[39m \u001b[39m▁\u001b[39m \u001b[39m \u001b[39m \u001b[39m \u001b[39m \u001b[39m \u001b[39m \u001b[39m \u001b[39m \u001b[39m \u001b[39m \u001b[39m \u001b[39m \u001b[39m \u001b[39m \u001b[39m \u001b[39m \u001b[39m \u001b[39m \u001b[39m \u001b[39m \u001b[39m \u001b[39m \u001b[39m \u001b[39m▁\u001b[39m \u001b[39m \n",
       "  \u001b[39m█\u001b[39m▁\u001b[39m▁\u001b[39m▁\u001b[39m▁\u001b[39m▁\u001b[39m█\u001b[39m▁\u001b[39m▁\u001b[39m▁\u001b[39m▁\u001b[39m▁\u001b[39m▁\u001b[39m▁\u001b[39m▁\u001b[39m▁\u001b[39m▁\u001b[39m█\u001b[39m▁\u001b[39m▁\u001b[39m█\u001b[39m▁\u001b[39m▁\u001b[39m█\u001b[34m█\u001b[39m\u001b[39m▁\u001b[39m▁\u001b[39m▁\u001b[39m▁\u001b[39m█\u001b[39m▁\u001b[39m▁\u001b[39m▁\u001b[39m▁\u001b[39m▁\u001b[39m█\u001b[39m▁\u001b[39m▁\u001b[39m▁\u001b[39m▁\u001b[39m▁\u001b[39m▁\u001b[39m▁\u001b[39m▁\u001b[39m▁\u001b[39m▁\u001b[39m▁\u001b[39m▁\u001b[39m▁\u001b[39m▁\u001b[39m▁\u001b[39m▁\u001b[39m▁\u001b[39m▁\u001b[39m▁\u001b[39m▁\u001b[39m▁\u001b[39m▁\u001b[39m▁\u001b[39m▁\u001b[39m█\u001b[39m \u001b[39m▁\n",
       "  481 ms\u001b[90m           Histogram: frequency by time\u001b[39m          501 ms \u001b[0m\u001b[1m<\u001b[22m\n",
       "\n",
       " Memory estimate\u001b[90m: \u001b[39m\u001b[33m7.99 MiB\u001b[39m, allocs estimate\u001b[90m: \u001b[39m\u001b[33m49\u001b[39m."
      ]
     },
     "metadata": {},
     "output_type": "display_data"
    }
   ],
   "source": [
    "@benchmark deconvRL(cell2, i_cell_psf, regularizer=nothing, iterations=30) samples=10 evals=1 seconds=60"
   ]
  },
  {
   "cell_type": "markdown",
   "metadata": {},
   "source": [
    "---\n",
    "## Cube of Spherical Beads"
   ]
  },
  {
   "cell_type": "code",
   "execution_count": null,
   "metadata": {},
   "outputs": [],
   "source": [
    "# Cargamos la imagen\n",
    "\n",
    "cube = convert(Array{Float32}, channelview(load(\"cubeConvolved.tif\")));\n",
    "\n",
    "# Cargamos la psf\n",
    "\n",
    "cubePSF = convert(Array{Float32}, channelview(load(\"PSF.tif\")));\n",
    "\n",
    "cube2 = cube .- minimum(cube)\n",
    "cube2 /= (maximum(cube) - minimum(cube));\n",
    "cubePSF /= maximum(cubePSF);\n",
    "cubePSF2 = cubePSF .- minimum(cubePSF)\n",
    "cubePSF2 /= (maximum(cubePSF) - minimum(cubePSF));\n"
   ]
  },
  {
   "cell_type": "code",
   "execution_count": null,
   "metadata": {},
   "outputs": [],
   "source": [
    "colorview(Gray, cube2[:,:,30])"
   ]
  },
  {
   "cell_type": "code",
   "execution_count": null,
   "metadata": {},
   "outputs": [],
   "source": [
    "number_of_iterations = 30"
   ]
  },
  {
   "cell_type": "code",
   "execution_count": null,
   "metadata": {},
   "outputs": [],
   "source": [
    "deconCube = richardson_lucy_iterative(cube2, ifftshift(cubePSF2), regularizer=nothing, iterations=number_of_iterations);"
   ]
  },
  {
   "cell_type": "code",
   "execution_count": null,
   "metadata": {},
   "outputs": [],
   "source": [
    "colorview(Gray, deconCube[:,:,30])"
   ]
  },
  {
   "cell_type": "code",
   "execution_count": null,
   "metadata": {},
   "outputs": [],
   "source": [
    "@benchmark richardson_lucy_iterative(cube, ifftshift(cubePSF), regularizer=nothing, iterations=number_of_iterations) samples=10 evals=1"
   ]
  },
  {
   "cell_type": "markdown",
   "metadata": {},
   "source": [
    "---\n",
    "## C. elegans embryo"
   ]
  },
  {
   "cell_type": "code",
   "execution_count": null,
   "metadata": {},
   "outputs": [],
   "source": [
    "import Pkg;\n",
    "\n",
    "Pkg.add(\"FileIO\")"
   ]
  },
  {
   "cell_type": "code",
   "execution_count": null,
   "metadata": {},
   "outputs": [],
   "source": [
    "using FileIO\n",
    "using Images\n",
    "\n",
    "function load_image_stack(folder_path::String)\n",
    "    # Listar todos los archivos en la carpeta y ordenar\n",
    "    files = sort(filter(f -> endswith(f, \".tif\") || endswith(f, \".png\") || endswith(f, \".jpg\"), readdir(folder_path)))\n",
    "\n",
    "    # Leer la primera imagen para obtener las dimensiones\n",
    "    first_image = load(joinpath(folder_path, files[1]))\n",
    "    height, width = size(first_image)\n",
    "\n",
    "    # Crear una matriz 3D vacía para almacenar las imágenes\n",
    "    image_stack = Array{Float32, 3}(undef, length(files), height, width)\n",
    "\n",
    "    # Cargar cada imagen en la matriz 3D y convertir a Float32\n",
    "    for (i, file) in enumerate(files)\n",
    "        image = load(joinpath(folder_path, file))\n",
    "        image_stack[i, :, :] = float(image)\n",
    "    end\n",
    "\n",
    "    return image_stack\n",
    "end\n"
   ]
  },
  {
   "cell_type": "code",
   "execution_count": null,
   "metadata": {},
   "outputs": [],
   "source": [
    "function normalize_img(img)\n",
    "    img2 = img .- minimum(img)\n",
    "    img2 /= (maximum(img) .- minimum(img))\n",
    "end"
   ]
  },
  {
   "cell_type": "markdown",
   "metadata": {},
   "source": [
    "### Canal 1"
   ]
  },
  {
   "cell_type": "code",
   "execution_count": null,
   "metadata": {},
   "outputs": [],
   "source": [
    "# Ruta a la carpeta que contiene las imágenes Z-stack\n",
    "imagePath = \"./CElegans-CY3\"\n",
    "psfPath = \"./PSF-CElegans-CY3\"\n",
    "\n",
    "# Cargar las imágenes en una matriz 3D\n",
    "image_stack = load_image_stack(imagePath)[:, 1:356, 1:336]\n",
    "psf_stack = load_image_stack(psfPath)[:, 179:534, 169:504] #mitad +152\n",
    "\n",
    "# Verificar las dimensiones de las matrices 3D\n",
    "println(size(image_stack))\n",
    "println(\"image_stack element type: \", eltype(image_stack))\n",
    "println(size(psf_stack))\n"
   ]
  },
  {
   "cell_type": "code",
   "execution_count": null,
   "metadata": {},
   "outputs": [],
   "source": [
    "image_stack1n = normalize_img(image_stack)\n",
    "psf_stack1n = normalize_img(psf_stack);"
   ]
  },
  {
   "cell_type": "code",
   "execution_count": null,
   "metadata": {},
   "outputs": [],
   "source": [
    "colorview(Gray, psf_stack1n[1,:,:]/maximum(psf_stack1n[1,:,:]))\n"
   ]
  },
  {
   "cell_type": "code",
   "execution_count": null,
   "metadata": {},
   "outputs": [],
   "source": [
    "colorview(Gray, image_stack1n[52,:,:])"
   ]
  },
  {
   "cell_type": "code",
   "execution_count": null,
   "metadata": {},
   "outputs": [],
   "source": [
    "num_iter = 1\n",
    "\n",
    "canal1_res = richardson_lucy_iterative2(image_stack1n, ifftshift(psf_stack1n), regularizer=nothing, iterations=num_iter);\n"
   ]
  },
  {
   "cell_type": "code",
   "execution_count": null,
   "metadata": {},
   "outputs": [],
   "source": [
    "# Verificar las dimensiones y tipo de canal1_res\n",
    "println(\"Tipo de canal1_res: \", typeof(canal1_res))\n",
    "println(\"Dimensiones de canal1_res: \", size(canal1_res))\n"
   ]
  },
  {
   "cell_type": "code",
   "execution_count": null,
   "metadata": {},
   "outputs": [],
   "source": [
    "colorview(Gray, canal1_res[52,:,:]/maximum(canal1_res[52,:,:]))"
   ]
  },
  {
   "cell_type": "code",
   "execution_count": null,
   "metadata": {},
   "outputs": [],
   "source": [
    "image_stack1n[52,1:5,1:5]"
   ]
  },
  {
   "cell_type": "code",
   "execution_count": null,
   "metadata": {},
   "outputs": [],
   "source": [
    "canal1_res[52,1:5,1:5]"
   ]
  },
  {
   "cell_type": "code",
   "execution_count": null,
   "metadata": {},
   "outputs": [],
   "source": [
    "img = load(\"./CElegans-CY3/Data-CY3-Z052.tif\")\n",
    "println(\"Image element type: \", eltype(img))\n",
    "println(\"Pixel at (1,1): \", img[1, 1]) "
   ]
  },
  {
   "cell_type": "code",
   "execution_count": null,
   "metadata": {},
   "outputs": [],
   "source": [
    "@benchmark richardson_lucy_iterative(image_stack1n, ifftshift(psf_stack1n), regularizer=nothing, iterations=1) samples=10"
   ]
  },
  {
   "cell_type": "markdown",
   "metadata": {},
   "source": [
    "### Canal 2"
   ]
  },
  {
   "cell_type": "code",
   "execution_count": null,
   "metadata": {},
   "outputs": [],
   "source": [
    "# Ruta a la carpeta que contiene las imágenes Z-stack\n",
    "imagePath2 = \"./CElegans-DAPI\"\n",
    "psfPath2 = \"./PSF-CElegans-DAPI\"\n",
    "\n",
    "# Cargar las imágenes en una matriz 3D\n",
    "image_stack2 = load_image_stack(imagePath2)[:, 1:356, 1:336]\n",
    "psf_stack2 = load_image_stack(psfPath2)[:, 179:534, 169:504] #mitad +152\n",
    "\n",
    "# Verificar las dimensiones de las matrices 3D\n",
    "println(size(image_stack2))\n",
    "println(\"image_stack element type: \", eltype(image_stack2))\n",
    "println(size(psf_stack2))"
   ]
  },
  {
   "cell_type": "code",
   "execution_count": null,
   "metadata": {},
   "outputs": [],
   "source": [
    "image_stack2n = normalize_img(image_stack2)\n",
    "psf_stack2n = normalize_img(psf_stack2);"
   ]
  },
  {
   "cell_type": "code",
   "execution_count": null,
   "metadata": {},
   "outputs": [],
   "source": [
    "canal2_res = richardson_lucy_iterative(image_stack2n, ifftshift(psf_stack2n), regularizer=nothing, iterations=num_iter);\n",
    "\n",
    "colorview(Gray, canal2_res[52,:,:]/maximum(canal2_res[52,:,:]))"
   ]
  },
  {
   "cell_type": "markdown",
   "metadata": {},
   "source": [
    "### Canal 3"
   ]
  },
  {
   "cell_type": "code",
   "execution_count": null,
   "metadata": {},
   "outputs": [],
   "source": [
    "# Ruta a la carpeta que contiene las imágenes Z-stack\n",
    "imagePath3 = \"./CElegans-FITC\"\n",
    "psfPath3 = \"./PSF-CElegans-FITC\"\n",
    "\n",
    "# Cargar las imágenes en una matriz 3D\n",
    "image_stack3 = load_image_stack(imagePath3)[:, 1:356, 1:336]\n",
    "psf_stack3 = load_image_stack(psfPath3)[:, 179:534, 169:504] #mitad +152\n",
    "\n",
    "# Verificar las dimensiones de las matrices 3D\n",
    "println(size(image_stack3))\n",
    "println(\"image_stack element type: \", eltype(image_stack3))\n",
    "println(size(psf_stack3))"
   ]
  },
  {
   "cell_type": "code",
   "execution_count": null,
   "metadata": {},
   "outputs": [],
   "source": [
    "image_stack3n = normalize_img(image_stack3)\n",
    "psf_stack3n = normalize_img(psf_stack3);"
   ]
  },
  {
   "cell_type": "code",
   "execution_count": null,
   "metadata": {},
   "outputs": [],
   "source": [
    "canal3_res = richardson_lucy_iterative(image_stack3n, ifftshift(psf_stack3n), regularizer=nothing, iterations=num_iter);\n",
    "\n",
    "colorview(Gray, canal3_res[52,:,:]/maximum(canal3_res[52,:,:]))"
   ]
  },
  {
   "cell_type": "code",
   "execution_count": null,
   "metadata": {},
   "outputs": [],
   "source": [
    "imshow(canal3_res[52,:,:])"
   ]
  },
  {
   "cell_type": "markdown",
   "metadata": {},
   "source": [
    "### Combinación de canales"
   ]
  },
  {
   "cell_type": "code",
   "execution_count": null,
   "metadata": {},
   "outputs": [],
   "source": [
    "using Plots\n",
    "using Images\n",
    "using ColorTypes\n",
    "\n",
    "# Función para normalizar una imagen\n",
    "function normalize(image::AbstractArray)\n",
    "    min_val = minimum(image)\n",
    "    max_val = maximum(image)\n",
    "    if min_val == max_val\n",
    "        return zeros(size(image))  # O ones(size(image)), dependiendo de tu preferencia\n",
    "    end\n",
    "    return (image .- min_val) ./ (max_val - min_val)\n",
    "end\n",
    "\n",
    "# Normalizar los canales\n",
    "deconvolved_stack_R = normalize(canal1_res)\n",
    "deconvolved_stack_G = normalize(canal2_res)\n",
    "deconvolved_stack_B = normalize(canal3_res)\n",
    "\n",
    "# Crear una imagen RGB para la visualización\n",
    "function create_rgb_image(r::AbstractArray, g::AbstractArray, b::AbstractArray)\n",
    "    # Verificar que todas las dimensiones sean iguales\n",
    "    height, width = size(r)\n",
    "    if size(g) != (height, width) || size(b) != (height, width)\n",
    "        throw(ArgumentError(\"Las dimensiones de las imágenes R, G y B deben coincidir.\"))\n",
    "    end\n",
    "\n",
    "    # Crear una matriz de imágenes RGB\n",
    "    rgb_image = Array{RGB{Float32}, 2}(undef, height, width)\n",
    "    rgb_image[:, :] .= RGB{Float32}[RGB(r[i, j], g[i, j], b[i, j]) for i in 1:height, j in 1:width]\n",
    "    return rgb_image\n",
    "end\n",
    "\n",
    "# Combinar los canales en una imagen RGB\n",
    "deconvolved_image_color = create_rgb_image(deconvolved_stack_R[52, :, :],\n",
    "                                           deconvolved_stack_G[52, :, :],\n",
    "                                           deconvolved_stack_B[52, :, :])\n",
    "\n",
    "# Normalizar y combinar los planos para la visualización\n",
    "original_image_rgb = create_rgb_image(normalize(image_stack[52, :, :]),\n",
    "                                       normalize(image_stack2[52, :, :]),\n",
    "                                       normalize(image_stack3[52, :, :]))\n",
    "\n",
    "# Mostrar las imágenes\n",
    "plot(\n",
    "    heatmap(original_image_rgb, title=\"Original\", axis=false, color=:viridis),\n",
    "    heatmap(deconvolved_image_color, title=\"Deconvolved\", axis=false, color=:viridis),\n",
    "    layout=(1, 2)\n",
    ")\n",
    "\n",
    "\n"
   ]
  },
  {
   "cell_type": "code",
   "execution_count": null,
   "metadata": {},
   "outputs": [],
   "source": []
  }
 ],
 "metadata": {
  "kernelspec": {
   "display_name": "Julia 1.11.2",
   "language": "julia",
   "name": "julia-1.11"
  },
  "language_info": {
   "file_extension": ".jl",
   "mimetype": "application/julia",
   "name": "julia",
   "version": "1.11.2"
  }
 },
 "nbformat": 4,
 "nbformat_minor": 4
}
